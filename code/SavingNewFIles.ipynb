{
 "cells": [
  {
   "cell_type": "code",
   "execution_count": null,
   "id": "2956f88a",
   "metadata": {},
   "outputs": [],
   "source": []
  },
  {
   "cell_type": "code",
   "execution_count": 7,
   "id": "27e04761",
   "metadata": {},
   "outputs": [],
   "source": [
    "import numpy as np\n",
    "import scipy\n",
    "from numpy import mean, absolute\n",
    "import pandas as pd\n",
    "from sklearn import *\n",
    "\n",
    "from scipy import spatial\n",
    "from sklearn.metrics.pairwise import euclidean_distances\n",
    "from scipy.spatial import distance\n",
    "import math\n",
    "from sklearn.decomposition import PCA \n",
    "from sklearn.preprocessing import StandardScaler \n",
    "from sklearn.preprocessing import LabelEncoder\n",
    "\n",
    "import matplotlib.pyplot as plt\n",
    "import seaborn as sns"
   ]
  },
  {
   "cell_type": "code",
   "execution_count": 8,
   "id": "e32272bb",
   "metadata": {},
   "outputs": [],
   "source": [
    "from sklearn.feature_extraction.text import CountVectorizer\n",
    "from itertools import chain\n",
    "import numpy as np\n",
    "import pandas as pd\n",
    "import matplotlib.pyplot as plt\n",
    "import seaborn as sb"
   ]
  },
  {
   "cell_type": "code",
   "execution_count": 9,
   "id": "1e5a0849",
   "metadata": {},
   "outputs": [],
   "source": [
    "from os import listdir\n",
    "from pathlib import Path\n",
    "from os.path import isfile, join\n",
    "from natsort import natsorted ## !pip install natsort"
   ]
  },
  {
   "cell_type": "code",
   "execution_count": 10,
   "id": "91703e45",
   "metadata": {},
   "outputs": [],
   "source": [
    "rootpath=\"AWID3_Dataset_CSV/CSV/\""
   ]
  },
  {
   "cell_type": "code",
   "execution_count": 11,
   "id": "fa5cb2db",
   "metadata": {},
   "outputs": [
    {
     "data": {
      "text/plain": [
       "['1.Deauth',\n",
       " '2.Disas',\n",
       " '3.(Re)Assoc',\n",
       " '4.Rogue_AP',\n",
       " '5.Krack',\n",
       " '6.Kr00k',\n",
       " '7.SSH',\n",
       " '8.Botnet',\n",
       " '9.Malware',\n",
       " '10.SQL_Injection',\n",
       " '11.SSDP',\n",
       " '12.Evil_Twin',\n",
       " '13.Website_spoofing']"
      ]
     },
     "execution_count": 11,
     "metadata": {},
     "output_type": "execute_result"
    }
   ],
   "source": [
    "dirs=listdir(rootpath)\n",
    "dirs=natsorted(dirs)\n",
    "dirs"
   ]
  },
  {
   "cell_type": "code",
   "execution_count": 12,
   "id": "12911bd1",
   "metadata": {},
   "outputs": [
    {
     "name": "stdout",
     "output_type": "stream",
     "text": [
      "Working in 1.Deauth:\n",
      "27\n",
      "6\n",
      "33\n",
      "['Label', 'frame.len', 'frame.number', 'frame.time', 'frame.time_delta', 'frame.time_delta_displayed', 'frame.time_epoch', 'frame.time_relative', 'radiotap.datarate', 'radiotap.dbm_antsignal', 'radiotap.length', 'radiotap.mactime', 'radiotap.present.tsft', 'radiotap.timestamp.ts', 'wlan.duration', 'wlan.fc.ds', 'wlan.fc.frag', 'wlan.fc.moredata', 'wlan.fc.order', 'wlan.fc.protected', 'wlan.fc.pwrmgt', 'wlan.fc.retry', 'wlan.fc.subtype', 'wlan.fc.type', 'wlan.ra', 'wlan.ta', 'wlan_radio.data_rate', 'wlan_radio.duration', 'wlan_radio.end_tsf', 'wlan_radio.phy', 'wlan_radio.signal_dbm', 'wlan_radio.start_tsf', 'wlan_radio.timestamp']\n",
      "File 1.Deauth is saved\n",
      "Working in 2.Disas:\n",
      "26\n",
      "7\n",
      "33\n",
      "['Label', 'frame.len', 'frame.number', 'frame.time', 'frame.time_delta', 'frame.time_delta_displayed', 'frame.time_epoch', 'frame.time_relative', 'radiotap.datarate', 'radiotap.dbm_antsignal', 'radiotap.length', 'radiotap.mactime', 'radiotap.present.tsft', 'radiotap.timestamp.ts', 'wlan.duration', 'wlan.fc.ds', 'wlan.fc.frag', 'wlan.fc.moredata', 'wlan.fc.order', 'wlan.fc.protected', 'wlan.fc.pwrmgt', 'wlan.fc.retry', 'wlan.fc.subtype', 'wlan.fc.type', 'wlan.ra', 'wlan.ta', 'wlan_radio.data_rate', 'wlan_radio.duration', 'wlan_radio.end_tsf', 'wlan_radio.phy', 'wlan_radio.signal_dbm', 'wlan_radio.start_tsf', 'wlan_radio.timestamp']\n",
      "File 2.Disas is saved\n",
      "Working in 3.(Re)Assoc:\n",
      "0\n",
      "33\n",
      "33\n",
      "['Label', 'frame.len', 'frame.number', 'frame.time', 'frame.time_delta', 'frame.time_delta_displayed', 'frame.time_epoch', 'frame.time_relative', 'radiotap.datarate', 'radiotap.dbm_antsignal', 'radiotap.length', 'radiotap.mactime', 'radiotap.present.tsft', 'radiotap.timestamp.ts', 'wlan.duration', 'wlan.fc.ds', 'wlan.fc.frag', 'wlan.fc.moredata', 'wlan.fc.order', 'wlan.fc.protected', 'wlan.fc.pwrmgt', 'wlan.fc.retry', 'wlan.fc.subtype', 'wlan.fc.type', 'wlan.ra', 'wlan.ta', 'wlan_radio.data_rate', 'wlan_radio.duration', 'wlan_radio.end_tsf', 'wlan_radio.phy', 'wlan_radio.signal_dbm', 'wlan_radio.start_tsf', 'wlan_radio.timestamp']\n",
      "File 3.(Re)Assoc is saved\n",
      "Working in 4.Rogue_AP:\n",
      "26\n",
      "7\n",
      "33\n",
      "['Label', 'frame.len', 'frame.number', 'frame.time', 'frame.time_delta', 'frame.time_delta_displayed', 'frame.time_epoch', 'frame.time_relative', 'radiotap.datarate', 'radiotap.dbm_antsignal', 'radiotap.length', 'radiotap.mactime', 'radiotap.present.tsft', 'radiotap.timestamp.ts', 'wlan.duration', 'wlan.fc.ds', 'wlan.fc.frag', 'wlan.fc.moredata', 'wlan.fc.order', 'wlan.fc.protected', 'wlan.fc.pwrmgt', 'wlan.fc.retry', 'wlan.fc.subtype', 'wlan.fc.type', 'wlan.ra', 'wlan.ta', 'wlan_radio.data_rate', 'wlan_radio.duration', 'wlan_radio.end_tsf', 'wlan_radio.phy', 'wlan_radio.signal_dbm', 'wlan_radio.start_tsf', 'wlan_radio.timestamp']\n",
      "File 4.Rogue_AP is saved\n",
      "Working in 5.Krack:\n",
      "32\n",
      "27\n",
      "59\n",
      "['Label', 'frame.len', 'frame.number', 'frame.time', 'frame.time_delta', 'frame.time_delta_displayed', 'frame.time_epoch', 'frame.time_relative', 'ip.dst', 'ip.proto', 'ip.src', 'ip.ttl', 'ip.version', 'llc', 'radiotap.channel.flags.cck', 'radiotap.channel.flags.ofdm', 'radiotap.channel.freq', 'radiotap.datarate', 'radiotap.dbm_antsignal', 'radiotap.length', 'radiotap.present.tsft', 'radiotap.timestamp.ts', 'tcp.ack', 'tcp.ack_raw', 'tcp.checksum', 'tcp.checksum.status', 'tcp.dstport', 'tcp.flags.ack', 'tcp.flags.fin', 'tcp.flags.push', 'tcp.flags.reset', 'tcp.flags.syn', 'tcp.seq', 'tcp.seq_raw', 'tcp.srcport', 'tcp.time_delta', 'tcp.time_relative', 'wlan.bssid', 'wlan.da', 'wlan.duration', 'wlan.fc.ds', 'wlan.fc.frag', 'wlan.fc.moredata', 'wlan.fc.order', 'wlan.fc.protected', 'wlan.fc.pwrmgt', 'wlan.fc.retry', 'wlan.fc.subtype', 'wlan.fc.type', 'wlan.ra', 'wlan.sa', 'wlan.seq', 'wlan.ta', 'wlan_radio.channel', 'wlan_radio.data_rate', 'wlan_radio.duration', 'wlan_radio.frequency', 'wlan_radio.phy', 'wlan_radio.signal_dbm']\n",
      "File 5.Krack is saved\n",
      "Working in 6.Kr00k:\n",
      "26\n",
      "7\n",
      "33\n",
      "['Label', 'frame.len', 'frame.number', 'frame.time', 'frame.time_delta', 'frame.time_delta_displayed', 'frame.time_epoch', 'frame.time_relative', 'radiotap.datarate', 'radiotap.dbm_antsignal', 'radiotap.length', 'radiotap.mactime', 'radiotap.present.tsft', 'radiotap.timestamp.ts', 'wlan.duration', 'wlan.fc.ds', 'wlan.fc.frag', 'wlan.fc.moredata', 'wlan.fc.order', 'wlan.fc.protected', 'wlan.fc.pwrmgt', 'wlan.fc.retry', 'wlan.fc.subtype', 'wlan.fc.type', 'wlan.ra', 'wlan.ta', 'wlan_radio.data_rate', 'wlan_radio.duration', 'wlan_radio.end_tsf', 'wlan_radio.phy', 'wlan_radio.signal_dbm', 'wlan_radio.start_tsf', 'wlan_radio.timestamp']\n",
      "File 6.Kr00k is saved\n",
      "Working in 7.SSH:\n",
      "27\n",
      "6\n",
      "33\n",
      "['Label', 'frame.len', 'frame.number', 'frame.time', 'frame.time_delta', 'frame.time_delta_displayed', 'frame.time_epoch', 'frame.time_relative', 'radiotap.datarate', 'radiotap.dbm_antsignal', 'radiotap.length', 'radiotap.mactime', 'radiotap.present.tsft', 'radiotap.timestamp.ts', 'wlan.duration', 'wlan.fc.ds', 'wlan.fc.frag', 'wlan.fc.moredata', 'wlan.fc.order', 'wlan.fc.protected', 'wlan.fc.pwrmgt', 'wlan.fc.retry', 'wlan.fc.subtype', 'wlan.fc.type', 'wlan.ra', 'wlan.ta', 'wlan_radio.data_rate', 'wlan_radio.duration', 'wlan_radio.end_tsf', 'wlan_radio.phy', 'wlan_radio.signal_dbm', 'wlan_radio.start_tsf', 'wlan_radio.timestamp']\n",
      "File 7.SSH is saved\n",
      "Working in 8.Botnet:\n",
      "1\n",
      "32\n",
      "33\n",
      "['Label', 'frame.len', 'frame.number', 'frame.time', 'frame.time_delta', 'frame.time_delta_displayed', 'frame.time_epoch', 'frame.time_relative', 'radiotap.datarate', 'radiotap.dbm_antsignal', 'radiotap.length', 'radiotap.mactime', 'radiotap.present.tsft', 'radiotap.timestamp.ts', 'wlan.duration', 'wlan.fc.ds', 'wlan.fc.frag', 'wlan.fc.moredata', 'wlan.fc.order', 'wlan.fc.protected', 'wlan.fc.pwrmgt', 'wlan.fc.retry', 'wlan.fc.subtype', 'wlan.fc.type', 'wlan.ra', 'wlan.ta', 'wlan_radio.data_rate', 'wlan_radio.duration', 'wlan_radio.end_tsf', 'wlan_radio.phy', 'wlan_radio.signal_dbm', 'wlan_radio.start_tsf', 'wlan_radio.timestamp']\n",
      "File 8.Botnet is saved\n",
      "Working in 9.Malware:\n",
      "26\n",
      "7\n",
      "33\n",
      "['Label', 'frame.len', 'frame.number', 'frame.time', 'frame.time_delta', 'frame.time_delta_displayed', 'frame.time_epoch', 'frame.time_relative', 'radiotap.datarate', 'radiotap.dbm_antsignal', 'radiotap.length', 'radiotap.mactime', 'radiotap.present.tsft', 'radiotap.timestamp.ts', 'wlan.duration', 'wlan.fc.ds', 'wlan.fc.frag', 'wlan.fc.moredata', 'wlan.fc.order', 'wlan.fc.protected', 'wlan.fc.pwrmgt', 'wlan.fc.retry', 'wlan.fc.subtype', 'wlan.fc.type', 'wlan.ra', 'wlan.ta', 'wlan_radio.data_rate', 'wlan_radio.duration', 'wlan_radio.end_tsf', 'wlan_radio.phy', 'wlan_radio.signal_dbm', 'wlan_radio.start_tsf', 'wlan_radio.timestamp']\n",
      "File 9.Malware is saved\n",
      "Working in 10.SQL_Injection:\n",
      "27\n",
      "6\n",
      "33\n",
      "['Label', 'frame.len', 'frame.number', 'frame.time', 'frame.time_delta', 'frame.time_delta_displayed', 'frame.time_epoch', 'frame.time_relative', 'radiotap.datarate', 'radiotap.dbm_antsignal', 'radiotap.length', 'radiotap.mactime', 'radiotap.present.tsft', 'radiotap.timestamp.ts', 'wlan.duration', 'wlan.fc.ds', 'wlan.fc.frag', 'wlan.fc.moredata', 'wlan.fc.order', 'wlan.fc.protected', 'wlan.fc.pwrmgt', 'wlan.fc.retry', 'wlan.fc.subtype', 'wlan.fc.type', 'wlan.ra', 'wlan.ta', 'wlan_radio.data_rate', 'wlan_radio.duration', 'wlan_radio.end_tsf', 'wlan_radio.phy', 'wlan_radio.signal_dbm', 'wlan_radio.start_tsf', 'wlan_radio.timestamp']\n",
      "File 10.SQL_Injection is saved\n",
      "Working in 11.SSDP:\n",
      "0\n",
      "49\n",
      "49\n",
      "['Label', 'frame.len', 'frame.number', 'frame.time', 'frame.time_delta', 'frame.time_delta_displayed', 'frame.time_epoch', 'frame.time_relative', 'http.host', 'http.request.full_uri', 'http.request.line', 'http.request.method', 'http.request.version', 'ip.dst', 'ip.proto', 'ip.src', 'ip.ttl', 'ip.version', 'llc', 'radiotap.dbm_antsignal', 'radiotap.length', 'radiotap.present.tsft', 'radiotap.timestamp.ts', 'udp.dstport', 'udp.length', 'udp.payload', 'udp.srcport', 'udp.time_delta', 'udp.time_relative', 'wlan.bssid', 'wlan.da', 'wlan.duration', 'wlan.fc.ds', 'wlan.fc.frag', 'wlan.fc.moredata', 'wlan.fc.order', 'wlan.fc.protected', 'wlan.fc.pwrmgt', 'wlan.fc.retry', 'wlan.fc.subtype', 'wlan.fc.type', 'wlan.ra', 'wlan.sa', 'wlan.seq', 'wlan.ta', 'wlan_radio.data_rate', 'wlan_radio.duration', 'wlan_radio.phy', 'wlan_radio.signal_dbm']\n"
     ]
    },
    {
     "name": "stdout",
     "output_type": "stream",
     "text": [
      "File 11.SSDP is saved\n",
      "Working in 12.Evil_Twin:\n",
      "0\n",
      "33\n",
      "33\n",
      "['Label', 'frame.len', 'frame.number', 'frame.time', 'frame.time_delta', 'frame.time_delta_displayed', 'frame.time_epoch', 'frame.time_relative', 'radiotap.datarate', 'radiotap.dbm_antsignal', 'radiotap.length', 'radiotap.mactime', 'radiotap.present.tsft', 'radiotap.timestamp.ts', 'wlan.duration', 'wlan.fc.ds', 'wlan.fc.frag', 'wlan.fc.moredata', 'wlan.fc.order', 'wlan.fc.protected', 'wlan.fc.pwrmgt', 'wlan.fc.retry', 'wlan.fc.subtype', 'wlan.fc.type', 'wlan.ra', 'wlan.ta', 'wlan_radio.data_rate', 'wlan_radio.duration', 'wlan_radio.end_tsf', 'wlan_radio.phy', 'wlan_radio.signal_dbm', 'wlan_radio.start_tsf', 'wlan_radio.timestamp']\n",
      "File 12.Evil_Twin is saved\n",
      "Working in 13.Website_spoofing:\n",
      "27\n",
      "6\n",
      "33\n",
      "['Label', 'frame.len', 'frame.number', 'frame.time', 'frame.time_delta', 'frame.time_delta_displayed', 'frame.time_epoch', 'frame.time_relative', 'radiotap.datarate', 'radiotap.dbm_antsignal', 'radiotap.length', 'radiotap.mactime', 'radiotap.present.tsft', 'radiotap.timestamp.ts', 'wlan.duration', 'wlan.fc.ds', 'wlan.fc.frag', 'wlan.fc.moredata', 'wlan.fc.order', 'wlan.fc.protected', 'wlan.fc.pwrmgt', 'wlan.fc.retry', 'wlan.fc.subtype', 'wlan.fc.type', 'wlan.ra', 'wlan.ta', 'wlan_radio.data_rate', 'wlan_radio.duration', 'wlan_radio.end_tsf', 'wlan_radio.phy', 'wlan_radio.signal_dbm', 'wlan_radio.start_tsf', 'wlan_radio.timestamp']\n",
      "File 13.Website_spoofing is saved\n"
     ]
    }
   ],
   "source": [
    "for d in dirs:\n",
    "    dirPath=(rootpath+d+\"/\")\n",
    "    print(\"Working in \"+d+\":\")\n",
    "    listfiles= [f for f in listdir(dirPath) if isfile(join(dirPath, f))]\n",
    "    listfiles=natsorted(listfiles)\n",
    "    df = pd.DataFrame()\n",
    "    for file in listfiles:\n",
    "        df_temp = pd.read_csv (dirPath+file, low_memory=False)\n",
    "        df=pd.concat([df,df_temp])\n",
    "        #rint(df.shape)\n",
    "    nan_values=df.isna().sum()\n",
    "    nan_values\n",
    "    zvar_atts = []\n",
    "    nm_nzvar_atts = []\n",
    "    m_nzvar_atts = []\n",
    "    for i in df:\n",
    "        if len(df[i].unique()) == 1:\n",
    "            zvar_atts.append(i)\n",
    "        elif df[i].isnull().sum() == 0:\n",
    "            nm_nzvar_atts.append(i)\n",
    "        elif len(df[i].unique()) > 2 and df[i].isnull().sum() > 0:\n",
    "            missing_frac = df[i].isnull().sum()/df.shape[0]*100\n",
    "            if missing_frac < 50.0:\n",
    "                m_nzvar_atts.append(i) \n",
    "    print(len(nm_nzvar_atts))\n",
    "    print(len(m_nzvar_atts))\n",
    "    zvar_atts.sort()\n",
    "    nm_nzvar_atts.sort()\n",
    "    m_nzvar_atts.sort()\n",
    "    nzvar_atts = list(set(nm_nzvar_atts+m_nzvar_atts))\n",
    "    print(len(nzvar_atts))\n",
    "    #nzvar_atts\n",
    "    nzvar_atts.sort()\n",
    "    print(nzvar_atts)\n",
    "    df_red = df[nzvar_atts]\n",
    "    df_red\n",
    "    df_red.to_csv(d+'_NZVAR_33.csv',index = False, header = False)\n",
    "    print(\"File \"+d+\" is saved\")"
   ]
  },
  {
   "cell_type": "code",
   "execution_count": null,
   "id": "c2a9ab34",
   "metadata": {},
   "outputs": [],
   "source": []
  },
  {
   "cell_type": "code",
   "execution_count": null,
   "id": "085be908",
   "metadata": {},
   "outputs": [],
   "source": []
  },
  {
   "cell_type": "code",
   "execution_count": null,
   "id": "3d658b29",
   "metadata": {},
   "outputs": [],
   "source": []
  },
  {
   "cell_type": "code",
   "execution_count": null,
   "id": "c866bab7",
   "metadata": {},
   "outputs": [],
   "source": []
  }
 ],
 "metadata": {
  "kernelspec": {
   "display_name": "Python 3 (ipykernel)",
   "language": "python",
   "name": "python3"
  },
  "language_info": {
   "codemirror_mode": {
    "name": "ipython",
    "version": 3
   },
   "file_extension": ".py",
   "mimetype": "text/x-python",
   "name": "python",
   "nbconvert_exporter": "python",
   "pygments_lexer": "ipython3",
   "version": "3.9.12"
  }
 },
 "nbformat": 4,
 "nbformat_minor": 5
}
