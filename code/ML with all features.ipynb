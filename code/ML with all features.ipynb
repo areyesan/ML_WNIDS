{
 "cells": [
  {
   "cell_type": "code",
   "execution_count": null,
   "id": "16a7e227",
   "metadata": {},
   "outputs": [],
   "source": []
  },
  {
   "cell_type": "code",
   "execution_count": null,
   "id": "d7453adf",
   "metadata": {},
   "outputs": [],
   "source": []
  },
  {
   "cell_type": "code",
   "execution_count": 1,
   "id": "581d0b4e",
   "metadata": {},
   "outputs": [],
   "source": [
    "import numpy as np\n",
    "import scipy\n",
    "from numpy import mean, absolute\n",
    "import pandas as pd\n",
    "from sklearn import *\n",
    "\n",
    "from scipy import spatial\n",
    "from sklearn.metrics.pairwise import euclidean_distances\n",
    "from scipy.spatial import distance\n",
    "import math\n",
    "from sklearn.decomposition import PCA \n",
    "from sklearn.preprocessing import StandardScaler \n",
    "from sklearn.preprocessing import LabelEncoder\n",
    "\n",
    "import matplotlib.pyplot as plt\n",
    "import seaborn as sns"
   ]
  },
  {
   "cell_type": "code",
   "execution_count": 2,
   "id": "66198092",
   "metadata": {},
   "outputs": [],
   "source": [
    "from sklearn.feature_extraction.text import CountVectorizer\n",
    "from itertools import chain\n",
    "import numpy as np\n",
    "import pandas as pd\n",
    "import matplotlib.pyplot as plt\n",
    "import seaborn as sb"
   ]
  },
  {
   "cell_type": "code",
   "execution_count": 3,
   "id": "6122c080",
   "metadata": {},
   "outputs": [],
   "source": [
    "from os import listdir\n",
    "from pathlib import Path\n",
    "from os.path import isfile, join\n",
    "from natsort import natsorted ## !pip install natsort"
   ]
  },
  {
   "cell_type": "markdown",
   "id": "1e9e663b",
   "metadata": {},
   "source": [
    "### Loading the data in dataframe"
   ]
  },
  {
   "cell_type": "code",
   "execution_count": 4,
   "id": "819affdc",
   "metadata": {},
   "outputs": [
    {
     "data": {
      "text/html": [
       "<div>\n",
       "<style scoped>\n",
       "    .dataframe tbody tr th:only-of-type {\n",
       "        vertical-align: middle;\n",
       "    }\n",
       "\n",
       "    .dataframe tbody tr th {\n",
       "        vertical-align: top;\n",
       "    }\n",
       "\n",
       "    .dataframe thead th {\n",
       "        text-align: right;\n",
       "    }\n",
       "</style>\n",
       "<table border=\"1\" class=\"dataframe\">\n",
       "  <thead>\n",
       "    <tr style=\"text-align: right;\">\n",
       "      <th></th>\n",
       "      <th>Label</th>\n",
       "      <th>frame.len</th>\n",
       "      <th>frame.number</th>\n",
       "      <th>frame.time_delta</th>\n",
       "      <th>frame.time_delta_displayed</th>\n",
       "      <th>frame.time_epoch</th>\n",
       "      <th>frame.time_relative</th>\n",
       "      <th>radiotap.datarate</th>\n",
       "      <th>radiotap.dbm_antsignal</th>\n",
       "      <th>radiotap.length</th>\n",
       "      <th>...</th>\n",
       "      <th>wlan.fc.pwrmgt</th>\n",
       "      <th>wlan.fc.retry</th>\n",
       "      <th>wlan.fc.subtype</th>\n",
       "      <th>wlan.fc.type</th>\n",
       "      <th>wlan.ra</th>\n",
       "      <th>wlan.ta</th>\n",
       "      <th>wlan_radio.data_rate</th>\n",
       "      <th>wlan_radio.duration</th>\n",
       "      <th>wlan_radio.phy</th>\n",
       "      <th>wlan_radio.signal_dbm</th>\n",
       "    </tr>\n",
       "  </thead>\n",
       "  <tbody>\n",
       "    <tr>\n",
       "      <th>0</th>\n",
       "      <td>0</td>\n",
       "      <td>342.0</td>\n",
       "      <td>1.0</td>\n",
       "      <td>0.000000</td>\n",
       "      <td>0.000000</td>\n",
       "      <td>1.608306e+09</td>\n",
       "      <td>0.000000</td>\n",
       "      <td>6.0</td>\n",
       "      <td>-34-37-34</td>\n",
       "      <td>56.0</td>\n",
       "      <td>...</td>\n",
       "      <td>0.0</td>\n",
       "      <td>0.0</td>\n",
       "      <td>8.0</td>\n",
       "      <td>0.0</td>\n",
       "      <td>1</td>\n",
       "      <td>1</td>\n",
       "      <td>6.0</td>\n",
       "      <td>408.0</td>\n",
       "      <td>5.0</td>\n",
       "      <td>-34.0</td>\n",
       "    </tr>\n",
       "    <tr>\n",
       "      <th>1</th>\n",
       "      <td>0</td>\n",
       "      <td>342.0</td>\n",
       "      <td>2.0</td>\n",
       "      <td>0.102410</td>\n",
       "      <td>0.102410</td>\n",
       "      <td>1.608306e+09</td>\n",
       "      <td>0.102410</td>\n",
       "      <td>6.0</td>\n",
       "      <td>-34-38-34</td>\n",
       "      <td>56.0</td>\n",
       "      <td>...</td>\n",
       "      <td>0.0</td>\n",
       "      <td>0.0</td>\n",
       "      <td>8.0</td>\n",
       "      <td>0.0</td>\n",
       "      <td>1</td>\n",
       "      <td>1</td>\n",
       "      <td>6.0</td>\n",
       "      <td>408.0</td>\n",
       "      <td>5.0</td>\n",
       "      <td>-34.0</td>\n",
       "    </tr>\n",
       "    <tr>\n",
       "      <th>2</th>\n",
       "      <td>0</td>\n",
       "      <td>136.0</td>\n",
       "      <td>3.0</td>\n",
       "      <td>0.044786</td>\n",
       "      <td>0.044786</td>\n",
       "      <td>1.608306e+09</td>\n",
       "      <td>0.147196</td>\n",
       "      <td>6.0</td>\n",
       "      <td>-34-39-34</td>\n",
       "      <td>56.0</td>\n",
       "      <td>...</td>\n",
       "      <td>0.0</td>\n",
       "      <td>0.0</td>\n",
       "      <td>0.0</td>\n",
       "      <td>2.0</td>\n",
       "      <td>1</td>\n",
       "      <td>1</td>\n",
       "      <td>6.0</td>\n",
       "      <td>132.0</td>\n",
       "      <td>5.0</td>\n",
       "      <td>-34.0</td>\n",
       "    </tr>\n",
       "    <tr>\n",
       "      <th>3</th>\n",
       "      <td>0</td>\n",
       "      <td>154.0</td>\n",
       "      <td>4.0</td>\n",
       "      <td>0.007499</td>\n",
       "      <td>0.007499</td>\n",
       "      <td>1.608306e+09</td>\n",
       "      <td>0.154695</td>\n",
       "      <td>6.0</td>\n",
       "      <td>-34-39-34</td>\n",
       "      <td>56.0</td>\n",
       "      <td>...</td>\n",
       "      <td>0.0</td>\n",
       "      <td>0.0</td>\n",
       "      <td>0.0</td>\n",
       "      <td>2.0</td>\n",
       "      <td>1</td>\n",
       "      <td>1</td>\n",
       "      <td>6.0</td>\n",
       "      <td>156.0</td>\n",
       "      <td>5.0</td>\n",
       "      <td>-34.0</td>\n",
       "    </tr>\n",
       "    <tr>\n",
       "      <th>4</th>\n",
       "      <td>0</td>\n",
       "      <td>342.0</td>\n",
       "      <td>5.0</td>\n",
       "      <td>0.050126</td>\n",
       "      <td>0.050126</td>\n",
       "      <td>1.608306e+09</td>\n",
       "      <td>0.204821</td>\n",
       "      <td>6.0</td>\n",
       "      <td>-35-40-35</td>\n",
       "      <td>56.0</td>\n",
       "      <td>...</td>\n",
       "      <td>0.0</td>\n",
       "      <td>0.0</td>\n",
       "      <td>8.0</td>\n",
       "      <td>0.0</td>\n",
       "      <td>1</td>\n",
       "      <td>1</td>\n",
       "      <td>6.0</td>\n",
       "      <td>408.0</td>\n",
       "      <td>5.0</td>\n",
       "      <td>-35.0</td>\n",
       "    </tr>\n",
       "  </tbody>\n",
       "</table>\n",
       "<p>5 rows × 28 columns</p>\n",
       "</div>"
      ],
      "text/plain": [
       "   Label  frame.len  frame.number  frame.time_delta  \\\n",
       "0      0      342.0           1.0          0.000000   \n",
       "1      0      342.0           2.0          0.102410   \n",
       "2      0      136.0           3.0          0.044786   \n",
       "3      0      154.0           4.0          0.007499   \n",
       "4      0      342.0           5.0          0.050126   \n",
       "\n",
       "   frame.time_delta_displayed  frame.time_epoch  frame.time_relative  \\\n",
       "0                    0.000000      1.608306e+09             0.000000   \n",
       "1                    0.102410      1.608306e+09             0.102410   \n",
       "2                    0.044786      1.608306e+09             0.147196   \n",
       "3                    0.007499      1.608306e+09             0.154695   \n",
       "4                    0.050126      1.608306e+09             0.204821   \n",
       "\n",
       "   radiotap.datarate radiotap.dbm_antsignal  radiotap.length  ...  \\\n",
       "0                6.0              -34-37-34             56.0  ...   \n",
       "1                6.0              -34-38-34             56.0  ...   \n",
       "2                6.0              -34-39-34             56.0  ...   \n",
       "3                6.0              -34-39-34             56.0  ...   \n",
       "4                6.0              -35-40-35             56.0  ...   \n",
       "\n",
       "   wlan.fc.pwrmgt  wlan.fc.retry  wlan.fc.subtype  wlan.fc.type  wlan.ra  \\\n",
       "0             0.0            0.0              8.0           0.0        1   \n",
       "1             0.0            0.0              8.0           0.0        1   \n",
       "2             0.0            0.0              0.0           2.0        1   \n",
       "3             0.0            0.0              0.0           2.0        1   \n",
       "4             0.0            0.0              8.0           0.0        1   \n",
       "\n",
       "   wlan.ta  wlan_radio.data_rate  wlan_radio.duration  wlan_radio.phy  \\\n",
       "0        1                   6.0                408.0             5.0   \n",
       "1        1                   6.0                408.0             5.0   \n",
       "2        1                   6.0                132.0             5.0   \n",
       "3        1                   6.0                156.0             5.0   \n",
       "4        1                   6.0                408.0             5.0   \n",
       "\n",
       "   wlan_radio.signal_dbm  \n",
       "0                  -34.0  \n",
       "1                  -34.0  \n",
       "2                  -34.0  \n",
       "3                  -34.0  \n",
       "4                  -35.0  \n",
       "\n",
       "[5 rows x 28 columns]"
      ]
     },
     "execution_count": 4,
     "metadata": {},
     "output_type": "execute_result"
    }
   ],
   "source": [
    "data=pd.read_csv ('AWID3_clean_28.csv', low_memory=False)\n",
    "data.head()"
   ]
  },
  {
   "cell_type": "code",
   "execution_count": 5,
   "id": "d0cc0247",
   "metadata": {},
   "outputs": [
    {
     "name": "stdout",
     "output_type": "stream",
     "text": [
      "(36962587, 28)\n"
     ]
    }
   ],
   "source": [
    "print(data.shape)"
   ]
  },
  {
   "cell_type": "markdown",
   "id": "a2fd4dca",
   "metadata": {},
   "source": [
    "### Split the data in training, val and testing"
   ]
  },
  {
   "cell_type": "code",
   "execution_count": 6,
   "id": "2fe0155e",
   "metadata": {},
   "outputs": [
    {
     "name": "stdout",
     "output_type": "stream",
     "text": [
      "(36962587, 27)\n",
      "(36962587,)\n"
     ]
    }
   ],
   "source": [
    "X_df=data.iloc[:,1:]\n",
    "Y_df=data.iloc[:,0]\n",
    "print(X_df.shape)\n",
    "print(Y_df.shape)"
   ]
  },
  {
   "cell_type": "code",
   "execution_count": 7,
   "id": "cff3558e",
   "metadata": {},
   "outputs": [
    {
     "data": {
      "text/plain": [
       "0     30387097\n",
       "11     5499851\n",
       "13      405121\n",
       "6       191803\n",
       "9       131611\n",
       "12      104827\n",
       "2        75131\n",
       "8        56891\n",
       "5        49990\n",
       "1        38942\n",
       "7        11882\n",
       "3         5502\n",
       "10        2629\n",
       "4         1310\n",
       "Name: Label, dtype: int64"
      ]
     },
     "execution_count": 7,
     "metadata": {},
     "output_type": "execute_result"
    }
   ],
   "source": [
    "Y_df.iloc[:].value_counts(dropna=False)"
   ]
  },
  {
   "cell_type": "code",
   "execution_count": 8,
   "id": "7f301392",
   "metadata": {},
   "outputs": [
    {
     "data": {
      "text/plain": [
       "array([524, 525, 526, ..., 837, 598,  65], dtype=int16)"
      ]
     },
     "execution_count": 8,
     "metadata": {},
     "output_type": "execute_result"
    }
   ],
   "source": [
    "X_df[\"radiotap.dbm_antsignal\"] = X_df[\"radiotap.dbm_antsignal\"].astype('category')\n",
    "X_df[\"radiotap.dbm_antsignal\"] = X_df[\"radiotap.dbm_antsignal\"].cat.codes\n",
    "X_df.iloc[:,7].unique()"
   ]
  },
  {
   "cell_type": "code",
   "execution_count": null,
   "id": "dc830cf2",
   "metadata": {},
   "outputs": [],
   "source": []
  },
  {
   "cell_type": "code",
   "execution_count": null,
   "id": "61c7b487",
   "metadata": {},
   "outputs": [],
   "source": []
  },
  {
   "cell_type": "code",
   "execution_count": null,
   "id": "6ba07d5e",
   "metadata": {},
   "outputs": [],
   "source": []
  },
  {
   "cell_type": "code",
   "execution_count": null,
   "id": "5ad3a269",
   "metadata": {},
   "outputs": [],
   "source": []
  },
  {
   "cell_type": "code",
   "execution_count": 9,
   "id": "84e7b667",
   "metadata": {},
   "outputs": [],
   "source": [
    "from sklearn.model_selection import train_test_split\n",
    "\n",
    "X_train_, X_temp, y_train_, y_temp = train_test_split(X_df,\n",
    "                                                    Y_df,\n",
    "                                                    test_size=0.05,\n",
    "                                                    random_state=5,\n",
    "                                                    stratify=Y_df\n",
    "                                                    )\n",
    "\n",
    "X_train, X_test, y_train, y_test = train_test_split(X_temp,\n",
    "                                                    y_temp,\n",
    "                                                    test_size=0.1,\n",
    "                                                    random_state=5,\n",
    "                                                    stratify=y_temp\n",
    "                                                    )\n"
   ]
  },
  {
   "cell_type": "code",
   "execution_count": 10,
   "id": "62d99f03",
   "metadata": {},
   "outputs": [
    {
     "name": "stdout",
     "output_type": "stream",
     "text": [
      "(1663317, 27) (184813, 27)\n",
      "(1663317,) (184813,)\n"
     ]
    }
   ],
   "source": [
    "print(X_train.shape , X_test.shape)\n",
    "print(y_train.shape , y_test.shape)"
   ]
  },
  {
   "cell_type": "code",
   "execution_count": 11,
   "id": "6a774414",
   "metadata": {},
   "outputs": [
    {
     "data": {
      "text/plain": [
       "0     1367420\n",
       "11     247494\n",
       "13      18230\n",
       "6        8631\n",
       "9        5923\n",
       "12       4717\n",
       "2        3381\n",
       "8        2560\n",
       "5        2250\n",
       "1        1752\n",
       "7         535\n",
       "3         247\n",
       "10        118\n",
       "4          59\n",
       "Name: Label, dtype: int64"
      ]
     },
     "execution_count": 11,
     "metadata": {},
     "output_type": "execute_result"
    }
   ],
   "source": [
    "y_train.iloc[:].value_counts(dropna=False)"
   ]
  },
  {
   "cell_type": "code",
   "execution_count": 12,
   "id": "350b1cda",
   "metadata": {},
   "outputs": [
    {
     "data": {
      "text/plain": [
       "0     151935\n",
       "11     27499\n",
       "13      2026\n",
       "6        959\n",
       "9        658\n",
       "12       524\n",
       "2        376\n",
       "8        285\n",
       "5        250\n",
       "1        195\n",
       "7         59\n",
       "3         28\n",
       "10        13\n",
       "4          6\n",
       "Name: Label, dtype: int64"
      ]
     },
     "execution_count": 12,
     "metadata": {},
     "output_type": "execute_result"
    }
   ],
   "source": [
    "y_test.iloc[:].value_counts(dropna=False)"
   ]
  },
  {
   "cell_type": "code",
   "execution_count": 13,
   "id": "f3b2229d",
   "metadata": {},
   "outputs": [
    {
     "name": "stdout",
     "output_type": "stream",
     "text": [
      "frame.len 1756\n",
      "frame.number 1382465\n",
      "frame.time_delta 10391\n",
      "frame.time_delta_displayed 10391\n",
      "frame.time_epoch 195786\n",
      "frame.time_relative 1660569\n",
      "radiotap.datarate 30\n",
      "radiotap.dbm_antsignal 1473\n",
      "radiotap.length 3\n",
      "radiotap.present.tsft 2\n",
      "radiotap.timestamp.ts 1424518\n",
      "wlan.duration 2859\n",
      "wlan.fc.ds 4\n",
      "wlan.fc.frag 2\n",
      "wlan.fc.moredata 2\n",
      "wlan.fc.order 2\n",
      "wlan.fc.protected 2\n",
      "wlan.fc.pwrmgt 2\n",
      "wlan.fc.retry 2\n",
      "wlan.fc.subtype 14\n",
      "wlan.fc.type 3\n",
      "wlan.ra 1\n",
      "wlan.ta 2\n",
      "wlan_radio.data_rate 36\n",
      "wlan_radio.duration 718\n",
      "wlan_radio.phy 5\n",
      "wlan_radio.signal_dbm 66\n"
     ]
    }
   ],
   "source": [
    "for i in X_train:\n",
    "    print(i+\" \"+str(len(X_train[i].unique())))\n",
    "    #print(len(df2[i].unique()))"
   ]
  },
  {
   "cell_type": "code",
   "execution_count": null,
   "id": "4b8f2094",
   "metadata": {},
   "outputs": [],
   "source": []
  },
  {
   "cell_type": "code",
   "execution_count": 22,
   "id": "978c0be4",
   "metadata": {},
   "outputs": [],
   "source": [
    "xtrainFileName=\"xtrain_AWID_28_reduced.npy\"\n",
    "xtestFileName=\"xtest_AWID_28_reduced.npy\"\n",
    "ytrainFileName=\"ytrain_AWID_28_reduced.npy\"\n",
    "ytestFileName=\"ytest_AWID_28_reduced.npy\"\n",
    "np.save(xtrainFileName, X_train)\n",
    "np.save(xtestFileName, X_test)\n",
    "np.save(ytrainFileName, y_train)\n",
    "np.save(ytestFileName, y_test)"
   ]
  },
  {
   "cell_type": "code",
   "execution_count": null,
   "id": "62b8fe5c",
   "metadata": {},
   "outputs": [],
   "source": []
  },
  {
   "cell_type": "code",
   "execution_count": 14,
   "id": "477e16f2",
   "metadata": {},
   "outputs": [],
   "source": [
    "from sklearn.preprocessing import StandardScaler\n",
    "from sklearn.preprocessing import MinMaxScaler"
   ]
  },
  {
   "cell_type": "code",
   "execution_count": 15,
   "id": "d9be20c1",
   "metadata": {},
   "outputs": [],
   "source": [
    "scaler=StandardScaler().fit(X_train)\n",
    "X_train_transformed=scaler.transform(X_train)\n",
    "X_test_transformed=scaler.transform(X_test)"
   ]
  },
  {
   "cell_type": "code",
   "execution_count": 16,
   "id": "dc86f6c6",
   "metadata": {},
   "outputs": [
    {
     "data": {
      "text/plain": [
       "array([[-0.57244847, -0.83217363, -0.07427899, ..., -0.47002302,\n",
       "        -0.97198544, -0.76613581],\n",
       "       [-0.60199699, -0.01866551, -0.09213789, ..., -0.47002302,\n",
       "        -0.97198544, -1.4083291 ],\n",
       "       [-0.60199699,  0.04429943, -0.08009351, ..., -0.28251807,\n",
       "        -0.97198544,  0.51825079],\n",
       "       ...,\n",
       "       [ 1.82754774, -0.64503608, -0.07012576, ...,  0.46750174,\n",
       "         1.05597342,  1.01773447],\n",
       "       [ 1.87679527, -0.79560333,  0.04035024, ...,  0.67844481,\n",
       "         0.37998714,  1.08908928],\n",
       "       [-0.45753757, -0.63329279, -0.04146845, ..., -0.28251807,\n",
       "         1.05597342, -0.76613581]])"
      ]
     },
     "execution_count": 16,
     "metadata": {},
     "output_type": "execute_result"
    }
   ],
   "source": [
    "X_train_transformed"
   ]
  },
  {
   "cell_type": "code",
   "execution_count": null,
   "id": "3becc873",
   "metadata": {},
   "outputs": [],
   "source": []
  },
  {
   "cell_type": "markdown",
   "id": "20f9b591",
   "metadata": {},
   "source": [
    "### First ML Model - Bagging"
   ]
  },
  {
   "cell_type": "code",
   "execution_count": 17,
   "id": "2daf55dd",
   "metadata": {},
   "outputs": [],
   "source": [
    "from sklearn.ensemble import RandomForestClassifier\n",
    "from sklearn.metrics import accuracy_score\n",
    "import itertools\n",
    "import matplotlib.pyplot as plt\n",
    "from scipy.stats import mode\n",
    "from sklearn.model_selection import cross_val_score\n",
    "from sklearn.metrics import confusion_matrix\n",
    "from sklearn.metrics import classification_report\n",
    "from sklearn.ensemble import BaggingClassifier\n",
    "from sklearn.model_selection import GridSearchCV\n",
    "import time"
   ]
  },
  {
   "cell_type": "code",
   "execution_count": 18,
   "id": "c4311403",
   "metadata": {},
   "outputs": [
    {
     "name": "stderr",
     "output_type": "stream",
     "text": [
      "[Parallel(n_jobs=1)]: Using backend SequentialBackend with 1 concurrent workers.\n"
     ]
    },
    {
     "name": "stdout",
     "output_type": "stream",
     "text": [
      "[CV] END .................................................... total time= 2.2min\n"
     ]
    },
    {
     "name": "stderr",
     "output_type": "stream",
     "text": [
      "[Parallel(n_jobs=1)]: Done   1 out of   1 | elapsed:  2.2min remaining:    0.0s\n"
     ]
    },
    {
     "name": "stdout",
     "output_type": "stream",
     "text": [
      "[CV] END .................................................... total time= 2.2min\n",
      "[CV] END .................................................... total time= 2.2min\n",
      "[CV] END .................................................... total time= 2.2min\n",
      "[CV] END .................................................... total time= 2.2min\n"
     ]
    },
    {
     "name": "stderr",
     "output_type": "stream",
     "text": [
      "[Parallel(n_jobs=1)]: Done   5 out of   5 | elapsed: 10.9min finished\n",
      "[Parallel(n_jobs=1)]: Using backend SequentialBackend with 1 concurrent workers.\n"
     ]
    },
    {
     "name": "stdout",
     "output_type": "stream",
     "text": [
      "[CV] END .................................................... total time= 2.2min\n"
     ]
    },
    {
     "name": "stderr",
     "output_type": "stream",
     "text": [
      "[Parallel(n_jobs=1)]: Done   1 out of   1 | elapsed:  2.2min remaining:    0.0s\n"
     ]
    },
    {
     "name": "stdout",
     "output_type": "stream",
     "text": [
      "[CV] END .................................................... total time= 2.2min\n",
      "[CV] END .................................................... total time= 2.1min\n",
      "[CV] END .................................................... total time= 2.2min\n",
      "[CV] END .................................................... total time= 2.2min\n"
     ]
    },
    {
     "name": "stderr",
     "output_type": "stream",
     "text": [
      "[Parallel(n_jobs=1)]: Done   5 out of   5 | elapsed: 10.8min finished\n",
      "[Parallel(n_jobs=1)]: Using backend SequentialBackend with 1 concurrent workers.\n"
     ]
    },
    {
     "name": "stdout",
     "output_type": "stream",
     "text": [
      "[CV] END .................................................... total time= 2.2min\n"
     ]
    },
    {
     "name": "stderr",
     "output_type": "stream",
     "text": [
      "[Parallel(n_jobs=1)]: Done   1 out of   1 | elapsed:  2.2min remaining:    0.0s\n"
     ]
    },
    {
     "name": "stdout",
     "output_type": "stream",
     "text": [
      "[CV] END .................................................... total time= 2.2min\n",
      "[CV] END .................................................... total time= 2.1min\n",
      "[CV] END .................................................... total time= 2.2min\n",
      "[CV] END .................................................... total time= 2.2min\n",
      "Accuracy: 99.8017(+/-0.0016)\n",
      "Time elapsed: 1955.3290\n"
     ]
    },
    {
     "name": "stderr",
     "output_type": "stream",
     "text": [
      "[Parallel(n_jobs=1)]: Done   5 out of   5 | elapsed: 10.8min finished\n"
     ]
    }
   ],
   "source": [
    "seed_lst = [j*7 for j in range(3)]\n",
    "mean_scores = []\n",
    "start = time.time()\n",
    "for seed in seed_lst:\n",
    "    model = BaggingClassifier(random_state = seed)\n",
    "    scores = cross_val_score(model, X_train_transformed, y_train, \n",
    "                             cv=5, scoring='accuracy', verbose=2)\n",
    "    score = scores.mean()*100\n",
    "    mean_scores.append(score)   \n",
    "\n",
    "mean_res3 = np.array(mean_scores)\n",
    "print('Accuracy: %.4f(+/-%.4f)'%(mean_res3.mean(), mean_res3.std()))\n",
    "end = time.time()\n",
    "print('Time elapsed: %.4f'%(end-start))  "
   ]
  },
  {
   "cell_type": "code",
   "execution_count": null,
   "id": "fe40b5d8",
   "metadata": {},
   "outputs": [],
   "source": []
  },
  {
   "cell_type": "code",
   "execution_count": null,
   "id": "bbe17903",
   "metadata": {},
   "outputs": [],
   "source": []
  },
  {
   "cell_type": "code",
   "execution_count": 19,
   "id": "1280f695",
   "metadata": {},
   "outputs": [],
   "source": [
    "from sklearn.ensemble import ExtraTreesClassifier"
   ]
  },
  {
   "cell_type": "code",
   "execution_count": 20,
   "id": "028c3bc8",
   "metadata": {},
   "outputs": [
    {
     "name": "stdout",
     "output_type": "stream",
     "text": [
      "Accuracy: 99.7929(+/-0.0007)\n",
      "Time elapsed: 3360.7512\n"
     ]
    }
   ],
   "source": [
    "seed_lst = [j*7 for j in range(3)]\n",
    "mean_scores = []\n",
    "start = time.time()\n",
    "for seed in seed_lst:\n",
    "    model = ExtraTreesClassifier(random_state = seed)\n",
    "    scores = cross_val_score(model, X_train_transformed, y_train, cv=5, scoring='accuracy',verbose=2)\n",
    "    score = scores.mean()*100\n",
    "    mean_scores.append(score)   \n",
    "\n",
    "mean_res1 = np.array(mean_scores)\n",
    "print('Accuracy: %.4f(+/-%.4f)'%(mean_res1.mean(), mean_res1.std()))\n",
    "end = time.time()\n",
    "print('Time elapsed: %.4f'%(end-start)) "
   ]
  },
  {
   "cell_type": "code",
   "execution_count": null,
   "id": "0cab2817",
   "metadata": {},
   "outputs": [],
   "source": []
  },
  {
   "cell_type": "code",
   "execution_count": null,
   "id": "d66ade6f",
   "metadata": {},
   "outputs": [],
   "source": []
  },
  {
   "cell_type": "code",
   "execution_count": 24,
   "id": "56847905",
   "metadata": {},
   "outputs": [
    {
     "name": "stderr",
     "output_type": "stream",
     "text": [
      "[Parallel(n_jobs=1)]: Using backend SequentialBackend with 1 concurrent workers.\n"
     ]
    },
    {
     "name": "stdout",
     "output_type": "stream",
     "text": [
      "[CV] END .................................................... total time=  34.9s\n"
     ]
    },
    {
     "name": "stderr",
     "output_type": "stream",
     "text": [
      "[Parallel(n_jobs=1)]: Done   1 out of   1 | elapsed:   35.2s remaining:    0.0s\n"
     ]
    },
    {
     "name": "stdout",
     "output_type": "stream",
     "text": [
      "[CV] END .................................................... total time=  34.6s\n",
      "[CV] END .................................................... total time=  33.1s\n",
      "[CV] END .................................................... total time=  34.9s\n",
      "[CV] END .................................................... total time=  33.6s\n"
     ]
    },
    {
     "name": "stderr",
     "output_type": "stream",
     "text": [
      "[Parallel(n_jobs=1)]: Done   5 out of   5 | elapsed:  2.9min finished\n",
      "[Parallel(n_jobs=1)]: Using backend SequentialBackend with 1 concurrent workers.\n"
     ]
    },
    {
     "name": "stdout",
     "output_type": "stream",
     "text": [
      "[CV] END .................................................... total time=  35.6s\n"
     ]
    },
    {
     "name": "stderr",
     "output_type": "stream",
     "text": [
      "[Parallel(n_jobs=1)]: Done   1 out of   1 | elapsed:   35.8s remaining:    0.0s\n"
     ]
    },
    {
     "name": "stdout",
     "output_type": "stream",
     "text": [
      "[CV] END .................................................... total time=  36.2s\n",
      "[CV] END .................................................... total time=  36.6s\n",
      "[CV] END .................................................... total time=  37.0s\n",
      "[CV] END .................................................... total time=  34.7s\n"
     ]
    },
    {
     "name": "stderr",
     "output_type": "stream",
     "text": [
      "[Parallel(n_jobs=1)]: Done   5 out of   5 | elapsed:  3.0min finished\n",
      "[Parallel(n_jobs=1)]: Using backend SequentialBackend with 1 concurrent workers.\n"
     ]
    },
    {
     "name": "stdout",
     "output_type": "stream",
     "text": [
      "[CV] END .................................................... total time=  35.1s\n"
     ]
    },
    {
     "name": "stderr",
     "output_type": "stream",
     "text": [
      "[Parallel(n_jobs=1)]: Done   1 out of   1 | elapsed:   35.3s remaining:    0.0s\n"
     ]
    },
    {
     "name": "stdout",
     "output_type": "stream",
     "text": [
      "[CV] END .................................................... total time=  35.5s\n",
      "[CV] END .................................................... total time=  34.4s\n",
      "[CV] END .................................................... total time=  36.9s\n",
      "[CV] END .................................................... total time=  33.7s\n",
      "Accuracy: 99.7888(+/-0.0018)\n",
      "Time elapsed: 529.3805\n"
     ]
    },
    {
     "name": "stderr",
     "output_type": "stream",
     "text": [
      "[Parallel(n_jobs=1)]: Done   5 out of   5 | elapsed:  2.9min finished\n"
     ]
    }
   ],
   "source": [
    "seed_lst = [j*7 for j in range(3)]\n",
    "mean_scores = []\n",
    "start = time.time()\n",
    "for seed in seed_lst:\n",
    "    model = RandomForestClassifier(n_estimators =10, min_samples_leaf = 1, min_samples_split = 2, random_state = seed)\n",
    "    scores = cross_val_score(model, X_train_transformed, y_train, cv=5, scoring='accuracy',verbose=2)###cv=10 just 2 for PSO\n",
    "    score = scores.mean()*100\n",
    "    mean_scores.append(score)   \n",
    "\n",
    "mean_res1 = np.array(mean_scores)\n",
    "print('Accuracy: %.4f(+/-%.4f)'%(mean_res1.mean(), mean_res1.std()))\n",
    "end = time.time()\n",
    "print('Time elapsed: %.4f'%(end-start))"
   ]
  },
  {
   "cell_type": "code",
   "execution_count": null,
   "id": "6d2ef679",
   "metadata": {},
   "outputs": [],
   "source": []
  },
  {
   "cell_type": "code",
   "execution_count": 26,
   "id": "caa01f86",
   "metadata": {},
   "outputs": [],
   "source": [
    "import xgboost as xgb"
   ]
  },
  {
   "cell_type": "code",
   "execution_count": 27,
   "id": "299aeccb",
   "metadata": {},
   "outputs": [
    {
     "name": "stderr",
     "output_type": "stream",
     "text": [
      "[Parallel(n_jobs=1)]: Using backend SequentialBackend with 1 concurrent workers.\n",
      "C:\\Users\\sanjay\\anaconda3\\envs\\Projects_Segmentation\\lib\\site-packages\\xgboost\\sklearn.py:1224: UserWarning: The use of label encoder in XGBClassifier is deprecated and will be removed in a future release. To remove this warning, do the following: 1) Pass option use_label_encoder=False when constructing XGBClassifier object; and 2) Encode your labels (y) as integers starting with 0, i.e. 0, 1, 2, ..., [num_class - 1].\n",
      "  warnings.warn(label_encoder_deprecation_msg, UserWarning)\n"
     ]
    },
    {
     "name": "stdout",
     "output_type": "stream",
     "text": [
      "[18:05:15] WARNING: C:/Users/Administrator/workspace/xgboost-win64_release_1.5.1/src/learner.cc:1115: Starting in XGBoost 1.3.0, the default evaluation metric used with the objective 'multi:softprob' was changed from 'merror' to 'mlogloss'. Explicitly set eval_metric if you'd like to restore the old behavior.\n",
      "[CV] END .................................................... total time=  18.4s\n"
     ]
    },
    {
     "name": "stderr",
     "output_type": "stream",
     "text": [
      "[Parallel(n_jobs=1)]: Done   1 out of   1 | elapsed:   18.7s remaining:    0.0s\n",
      "C:\\Users\\sanjay\\anaconda3\\envs\\Projects_Segmentation\\lib\\site-packages\\xgboost\\sklearn.py:1224: UserWarning: The use of label encoder in XGBClassifier is deprecated and will be removed in a future release. To remove this warning, do the following: 1) Pass option use_label_encoder=False when constructing XGBClassifier object; and 2) Encode your labels (y) as integers starting with 0, i.e. 0, 1, 2, ..., [num_class - 1].\n",
      "  warnings.warn(label_encoder_deprecation_msg, UserWarning)\n"
     ]
    },
    {
     "name": "stdout",
     "output_type": "stream",
     "text": [
      "[18:05:34] WARNING: C:/Users/Administrator/workspace/xgboost-win64_release_1.5.1/src/learner.cc:1115: Starting in XGBoost 1.3.0, the default evaluation metric used with the objective 'multi:softprob' was changed from 'merror' to 'mlogloss'. Explicitly set eval_metric if you'd like to restore the old behavior.\n",
      "[CV] END .................................................... total time=  18.7s\n"
     ]
    },
    {
     "name": "stderr",
     "output_type": "stream",
     "text": [
      "C:\\Users\\sanjay\\anaconda3\\envs\\Projects_Segmentation\\lib\\site-packages\\xgboost\\sklearn.py:1224: UserWarning: The use of label encoder in XGBClassifier is deprecated and will be removed in a future release. To remove this warning, do the following: 1) Pass option use_label_encoder=False when constructing XGBClassifier object; and 2) Encode your labels (y) as integers starting with 0, i.e. 0, 1, 2, ..., [num_class - 1].\n",
      "  warnings.warn(label_encoder_deprecation_msg, UserWarning)\n"
     ]
    },
    {
     "name": "stdout",
     "output_type": "stream",
     "text": [
      "[18:05:52] WARNING: C:/Users/Administrator/workspace/xgboost-win64_release_1.5.1/src/learner.cc:1115: Starting in XGBoost 1.3.0, the default evaluation metric used with the objective 'multi:softprob' was changed from 'merror' to 'mlogloss'. Explicitly set eval_metric if you'd like to restore the old behavior.\n",
      "[CV] END .................................................... total time=  18.5s\n"
     ]
    },
    {
     "name": "stderr",
     "output_type": "stream",
     "text": [
      "C:\\Users\\sanjay\\anaconda3\\envs\\Projects_Segmentation\\lib\\site-packages\\xgboost\\sklearn.py:1224: UserWarning: The use of label encoder in XGBClassifier is deprecated and will be removed in a future release. To remove this warning, do the following: 1) Pass option use_label_encoder=False when constructing XGBClassifier object; and 2) Encode your labels (y) as integers starting with 0, i.e. 0, 1, 2, ..., [num_class - 1].\n",
      "  warnings.warn(label_encoder_deprecation_msg, UserWarning)\n"
     ]
    },
    {
     "name": "stdout",
     "output_type": "stream",
     "text": [
      "[18:06:11] WARNING: C:/Users/Administrator/workspace/xgboost-win64_release_1.5.1/src/learner.cc:1115: Starting in XGBoost 1.3.0, the default evaluation metric used with the objective 'multi:softprob' was changed from 'merror' to 'mlogloss'. Explicitly set eval_metric if you'd like to restore the old behavior.\n",
      "[CV] END .................................................... total time=  18.7s\n"
     ]
    },
    {
     "name": "stderr",
     "output_type": "stream",
     "text": [
      "C:\\Users\\sanjay\\anaconda3\\envs\\Projects_Segmentation\\lib\\site-packages\\xgboost\\sklearn.py:1224: UserWarning: The use of label encoder in XGBClassifier is deprecated and will be removed in a future release. To remove this warning, do the following: 1) Pass option use_label_encoder=False when constructing XGBClassifier object; and 2) Encode your labels (y) as integers starting with 0, i.e. 0, 1, 2, ..., [num_class - 1].\n",
      "  warnings.warn(label_encoder_deprecation_msg, UserWarning)\n"
     ]
    },
    {
     "name": "stdout",
     "output_type": "stream",
     "text": [
      "[18:06:30] WARNING: C:/Users/Administrator/workspace/xgboost-win64_release_1.5.1/src/learner.cc:1115: Starting in XGBoost 1.3.0, the default evaluation metric used with the objective 'multi:softprob' was changed from 'merror' to 'mlogloss'. Explicitly set eval_metric if you'd like to restore the old behavior.\n",
      "[CV] END .................................................... total time=  18.5s\n"
     ]
    },
    {
     "name": "stderr",
     "output_type": "stream",
     "text": [
      "[Parallel(n_jobs=1)]: Done   5 out of   5 | elapsed:  1.6min finished\n",
      "[Parallel(n_jobs=1)]: Using backend SequentialBackend with 1 concurrent workers.\n",
      "C:\\Users\\sanjay\\anaconda3\\envs\\Projects_Segmentation\\lib\\site-packages\\xgboost\\sklearn.py:1224: UserWarning: The use of label encoder in XGBClassifier is deprecated and will be removed in a future release. To remove this warning, do the following: 1) Pass option use_label_encoder=False when constructing XGBClassifier object; and 2) Encode your labels (y) as integers starting with 0, i.e. 0, 1, 2, ..., [num_class - 1].\n",
      "  warnings.warn(label_encoder_deprecation_msg, UserWarning)\n"
     ]
    },
    {
     "name": "stdout",
     "output_type": "stream",
     "text": [
      "[18:06:49] WARNING: C:/Users/Administrator/workspace/xgboost-win64_release_1.5.1/src/learner.cc:1115: Starting in XGBoost 1.3.0, the default evaluation metric used with the objective 'multi:softprob' was changed from 'merror' to 'mlogloss'. Explicitly set eval_metric if you'd like to restore the old behavior.\n",
      "[CV] END .................................................... total time=  18.8s\n"
     ]
    },
    {
     "name": "stderr",
     "output_type": "stream",
     "text": [
      "[Parallel(n_jobs=1)]: Done   1 out of   1 | elapsed:   19.0s remaining:    0.0s\n",
      "C:\\Users\\sanjay\\anaconda3\\envs\\Projects_Segmentation\\lib\\site-packages\\xgboost\\sklearn.py:1224: UserWarning: The use of label encoder in XGBClassifier is deprecated and will be removed in a future release. To remove this warning, do the following: 1) Pass option use_label_encoder=False when constructing XGBClassifier object; and 2) Encode your labels (y) as integers starting with 0, i.e. 0, 1, 2, ..., [num_class - 1].\n",
      "  warnings.warn(label_encoder_deprecation_msg, UserWarning)\n"
     ]
    },
    {
     "name": "stdout",
     "output_type": "stream",
     "text": [
      "[18:07:08] WARNING: C:/Users/Administrator/workspace/xgboost-win64_release_1.5.1/src/learner.cc:1115: Starting in XGBoost 1.3.0, the default evaluation metric used with the objective 'multi:softprob' was changed from 'merror' to 'mlogloss'. Explicitly set eval_metric if you'd like to restore the old behavior.\n",
      "[CV] END .................................................... total time=  18.7s\n"
     ]
    },
    {
     "name": "stderr",
     "output_type": "stream",
     "text": [
      "C:\\Users\\sanjay\\anaconda3\\envs\\Projects_Segmentation\\lib\\site-packages\\xgboost\\sklearn.py:1224: UserWarning: The use of label encoder in XGBClassifier is deprecated and will be removed in a future release. To remove this warning, do the following: 1) Pass option use_label_encoder=False when constructing XGBClassifier object; and 2) Encode your labels (y) as integers starting with 0, i.e. 0, 1, 2, ..., [num_class - 1].\n",
      "  warnings.warn(label_encoder_deprecation_msg, UserWarning)\n"
     ]
    },
    {
     "name": "stdout",
     "output_type": "stream",
     "text": [
      "[18:07:27] WARNING: C:/Users/Administrator/workspace/xgboost-win64_release_1.5.1/src/learner.cc:1115: Starting in XGBoost 1.3.0, the default evaluation metric used with the objective 'multi:softprob' was changed from 'merror' to 'mlogloss'. Explicitly set eval_metric if you'd like to restore the old behavior.\n",
      "[CV] END .................................................... total time=  20.0s\n"
     ]
    },
    {
     "name": "stderr",
     "output_type": "stream",
     "text": [
      "C:\\Users\\sanjay\\anaconda3\\envs\\Projects_Segmentation\\lib\\site-packages\\xgboost\\sklearn.py:1224: UserWarning: The use of label encoder in XGBClassifier is deprecated and will be removed in a future release. To remove this warning, do the following: 1) Pass option use_label_encoder=False when constructing XGBClassifier object; and 2) Encode your labels (y) as integers starting with 0, i.e. 0, 1, 2, ..., [num_class - 1].\n",
      "  warnings.warn(label_encoder_deprecation_msg, UserWarning)\n"
     ]
    },
    {
     "name": "stdout",
     "output_type": "stream",
     "text": [
      "[18:07:47] WARNING: C:/Users/Administrator/workspace/xgboost-win64_release_1.5.1/src/learner.cc:1115: Starting in XGBoost 1.3.0, the default evaluation metric used with the objective 'multi:softprob' was changed from 'merror' to 'mlogloss'. Explicitly set eval_metric if you'd like to restore the old behavior.\n",
      "[CV] END .................................................... total time=  19.0s\n"
     ]
    },
    {
     "name": "stderr",
     "output_type": "stream",
     "text": [
      "C:\\Users\\sanjay\\anaconda3\\envs\\Projects_Segmentation\\lib\\site-packages\\xgboost\\sklearn.py:1224: UserWarning: The use of label encoder in XGBClassifier is deprecated and will be removed in a future release. To remove this warning, do the following: 1) Pass option use_label_encoder=False when constructing XGBClassifier object; and 2) Encode your labels (y) as integers starting with 0, i.e. 0, 1, 2, ..., [num_class - 1].\n",
      "  warnings.warn(label_encoder_deprecation_msg, UserWarning)\n"
     ]
    },
    {
     "name": "stdout",
     "output_type": "stream",
     "text": [
      "[18:08:06] WARNING: C:/Users/Administrator/workspace/xgboost-win64_release_1.5.1/src/learner.cc:1115: Starting in XGBoost 1.3.0, the default evaluation metric used with the objective 'multi:softprob' was changed from 'merror' to 'mlogloss'. Explicitly set eval_metric if you'd like to restore the old behavior.\n",
      "[CV] END .................................................... total time=  19.1s\n"
     ]
    },
    {
     "name": "stderr",
     "output_type": "stream",
     "text": [
      "[Parallel(n_jobs=1)]: Done   5 out of   5 | elapsed:  1.6min finished\n",
      "[Parallel(n_jobs=1)]: Using backend SequentialBackend with 1 concurrent workers.\n",
      "C:\\Users\\sanjay\\anaconda3\\envs\\Projects_Segmentation\\lib\\site-packages\\xgboost\\sklearn.py:1224: UserWarning: The use of label encoder in XGBClassifier is deprecated and will be removed in a future release. To remove this warning, do the following: 1) Pass option use_label_encoder=False when constructing XGBClassifier object; and 2) Encode your labels (y) as integers starting with 0, i.e. 0, 1, 2, ..., [num_class - 1].\n",
      "  warnings.warn(label_encoder_deprecation_msg, UserWarning)\n"
     ]
    },
    {
     "name": "stdout",
     "output_type": "stream",
     "text": [
      "[18:08:26] WARNING: C:/Users/Administrator/workspace/xgboost-win64_release_1.5.1/src/learner.cc:1115: Starting in XGBoost 1.3.0, the default evaluation metric used with the objective 'multi:softprob' was changed from 'merror' to 'mlogloss'. Explicitly set eval_metric if you'd like to restore the old behavior.\n",
      "[CV] END .................................................... total time=  18.8s\n"
     ]
    },
    {
     "name": "stderr",
     "output_type": "stream",
     "text": [
      "[Parallel(n_jobs=1)]: Done   1 out of   1 | elapsed:   19.1s remaining:    0.0s\n",
      "C:\\Users\\sanjay\\anaconda3\\envs\\Projects_Segmentation\\lib\\site-packages\\xgboost\\sklearn.py:1224: UserWarning: The use of label encoder in XGBClassifier is deprecated and will be removed in a future release. To remove this warning, do the following: 1) Pass option use_label_encoder=False when constructing XGBClassifier object; and 2) Encode your labels (y) as integers starting with 0, i.e. 0, 1, 2, ..., [num_class - 1].\n",
      "  warnings.warn(label_encoder_deprecation_msg, UserWarning)\n"
     ]
    },
    {
     "name": "stdout",
     "output_type": "stream",
     "text": [
      "[18:08:44] WARNING: C:/Users/Administrator/workspace/xgboost-win64_release_1.5.1/src/learner.cc:1115: Starting in XGBoost 1.3.0, the default evaluation metric used with the objective 'multi:softprob' was changed from 'merror' to 'mlogloss'. Explicitly set eval_metric if you'd like to restore the old behavior.\n",
      "[CV] END .................................................... total time=  18.9s\n"
     ]
    },
    {
     "name": "stderr",
     "output_type": "stream",
     "text": [
      "C:\\Users\\sanjay\\anaconda3\\envs\\Projects_Segmentation\\lib\\site-packages\\xgboost\\sklearn.py:1224: UserWarning: The use of label encoder in XGBClassifier is deprecated and will be removed in a future release. To remove this warning, do the following: 1) Pass option use_label_encoder=False when constructing XGBClassifier object; and 2) Encode your labels (y) as integers starting with 0, i.e. 0, 1, 2, ..., [num_class - 1].\n",
      "  warnings.warn(label_encoder_deprecation_msg, UserWarning)\n"
     ]
    },
    {
     "name": "stdout",
     "output_type": "stream",
     "text": [
      "[18:09:03] WARNING: C:/Users/Administrator/workspace/xgboost-win64_release_1.5.1/src/learner.cc:1115: Starting in XGBoost 1.3.0, the default evaluation metric used with the objective 'multi:softprob' was changed from 'merror' to 'mlogloss'. Explicitly set eval_metric if you'd like to restore the old behavior.\n",
      "[CV] END .................................................... total time=  18.5s\n"
     ]
    },
    {
     "name": "stderr",
     "output_type": "stream",
     "text": [
      "C:\\Users\\sanjay\\anaconda3\\envs\\Projects_Segmentation\\lib\\site-packages\\xgboost\\sklearn.py:1224: UserWarning: The use of label encoder in XGBClassifier is deprecated and will be removed in a future release. To remove this warning, do the following: 1) Pass option use_label_encoder=False when constructing XGBClassifier object; and 2) Encode your labels (y) as integers starting with 0, i.e. 0, 1, 2, ..., [num_class - 1].\n",
      "  warnings.warn(label_encoder_deprecation_msg, UserWarning)\n"
     ]
    },
    {
     "name": "stdout",
     "output_type": "stream",
     "text": [
      "[18:09:22] WARNING: C:/Users/Administrator/workspace/xgboost-win64_release_1.5.1/src/learner.cc:1115: Starting in XGBoost 1.3.0, the default evaluation metric used with the objective 'multi:softprob' was changed from 'merror' to 'mlogloss'. Explicitly set eval_metric if you'd like to restore the old behavior.\n",
      "[CV] END .................................................... total time=  18.6s\n"
     ]
    },
    {
     "name": "stderr",
     "output_type": "stream",
     "text": [
      "C:\\Users\\sanjay\\anaconda3\\envs\\Projects_Segmentation\\lib\\site-packages\\xgboost\\sklearn.py:1224: UserWarning: The use of label encoder in XGBClassifier is deprecated and will be removed in a future release. To remove this warning, do the following: 1) Pass option use_label_encoder=False when constructing XGBClassifier object; and 2) Encode your labels (y) as integers starting with 0, i.e. 0, 1, 2, ..., [num_class - 1].\n",
      "  warnings.warn(label_encoder_deprecation_msg, UserWarning)\n"
     ]
    },
    {
     "name": "stdout",
     "output_type": "stream",
     "text": [
      "[18:09:41] WARNING: C:/Users/Administrator/workspace/xgboost-win64_release_1.5.1/src/learner.cc:1115: Starting in XGBoost 1.3.0, the default evaluation metric used with the objective 'multi:softprob' was changed from 'merror' to 'mlogloss'. Explicitly set eval_metric if you'd like to restore the old behavior.\n",
      "[CV] END .................................................... total time=  19.2s\n",
      "Accuracy: 99.7037(+/-0.0000)\n",
      "Time elapsed: 285.3340\n"
     ]
    },
    {
     "name": "stderr",
     "output_type": "stream",
     "text": [
      "[Parallel(n_jobs=1)]: Done   5 out of   5 | elapsed:  1.6min finished\n"
     ]
    }
   ],
   "source": [
    "seed_lst = [j*7 for j in range(3)]\n",
    "mean_scores = []\n",
    "start = time.time()\n",
    "for seed in seed_lst:\n",
    "    model = xgb.XGBClassifier(max_depth=10, n_estimators=3, learning_rate=0.01, seed=seed)\n",
    "    scores = cross_val_score(model, X_train_transformed, y_train, cv=5, scoring='accuracy',verbose=2)\n",
    "    score = scores.mean()*100\n",
    "    mean_scores.append(score)   \n",
    "\n",
    "mean_res1 = np.array(mean_scores)\n",
    "print('Accuracy: %.4f(+/-%.4f)'%(mean_res1.mean(), mean_res1.std()))\n",
    "end = time.time()\n",
    "print('Time elapsed: %.4f'%(end-start)) "
   ]
  },
  {
   "cell_type": "code",
   "execution_count": null,
   "id": "634148b7",
   "metadata": {},
   "outputs": [],
   "source": []
  },
  {
   "cell_type": "code",
   "execution_count": 29,
   "id": "ff1f2441",
   "metadata": {},
   "outputs": [],
   "source": [
    "from sklearn.naive_bayes import GaussianNB"
   ]
  },
  {
   "cell_type": "code",
   "execution_count": 32,
   "id": "2375571d",
   "metadata": {},
   "outputs": [
    {
     "name": "stderr",
     "output_type": "stream",
     "text": [
      "[Parallel(n_jobs=1)]: Using backend SequentialBackend with 1 concurrent workers.\n"
     ]
    },
    {
     "name": "stdout",
     "output_type": "stream",
     "text": [
      "[CV] END .................................................... total time=   1.9s\n"
     ]
    },
    {
     "name": "stderr",
     "output_type": "stream",
     "text": [
      "[Parallel(n_jobs=1)]: Done   1 out of   1 | elapsed:    2.2s remaining:    0.0s\n"
     ]
    },
    {
     "name": "stdout",
     "output_type": "stream",
     "text": [
      "[CV] END .................................................... total time=   2.0s\n",
      "[CV] END .................................................... total time=   1.9s\n",
      "[CV] END .................................................... total time=   1.9s\n",
      "[CV] END .................................................... total time=   1.9s\n"
     ]
    },
    {
     "name": "stderr",
     "output_type": "stream",
     "text": [
      "[Parallel(n_jobs=1)]: Done   5 out of   5 | elapsed:   10.4s finished\n",
      "[Parallel(n_jobs=1)]: Using backend SequentialBackend with 1 concurrent workers.\n"
     ]
    },
    {
     "name": "stdout",
     "output_type": "stream",
     "text": [
      "[CV] END .................................................... total time=   1.9s\n"
     ]
    },
    {
     "name": "stderr",
     "output_type": "stream",
     "text": [
      "[Parallel(n_jobs=1)]: Done   1 out of   1 | elapsed:    2.2s remaining:    0.0s\n"
     ]
    },
    {
     "name": "stdout",
     "output_type": "stream",
     "text": [
      "[CV] END .................................................... total time=   1.9s\n",
      "[CV] END .................................................... total time=   1.9s\n",
      "[CV] END .................................................... total time=   1.9s\n",
      "[CV] END .................................................... total time=   1.9s\n"
     ]
    },
    {
     "name": "stderr",
     "output_type": "stream",
     "text": [
      "[Parallel(n_jobs=1)]: Done   5 out of   5 | elapsed:   10.3s finished\n",
      "[Parallel(n_jobs=1)]: Using backend SequentialBackend with 1 concurrent workers.\n"
     ]
    },
    {
     "name": "stdout",
     "output_type": "stream",
     "text": [
      "[CV] END .................................................... total time=   1.9s\n"
     ]
    },
    {
     "name": "stderr",
     "output_type": "stream",
     "text": [
      "[Parallel(n_jobs=1)]: Done   1 out of   1 | elapsed:    2.2s remaining:    0.0s\n"
     ]
    },
    {
     "name": "stdout",
     "output_type": "stream",
     "text": [
      "[CV] END .................................................... total time=   1.9s\n",
      "[CV] END .................................................... total time=   1.9s\n",
      "[CV] END .................................................... total time=   2.0s\n",
      "[CV] END .................................................... total time=   1.9s\n",
      "Accuracy: 87.0797(+/-0.0000)\n",
      "Time elapsed: 31.4868\n"
     ]
    },
    {
     "name": "stderr",
     "output_type": "stream",
     "text": [
      "[Parallel(n_jobs=1)]: Done   5 out of   5 | elapsed:   10.4s finished\n"
     ]
    }
   ],
   "source": [
    "seed_lst = [j*7 for j in range(3)]\n",
    "mean_scores = []\n",
    "start = time.time()\n",
    "for seed in seed_lst:\n",
    "    model = GaussianNB()\n",
    "    scores = cross_val_score(model, X_train_transformed, y_train, cv=5, scoring='accuracy',verbose=2)\n",
    "    score = scores.mean()*100\n",
    "    mean_scores.append(score)   \n",
    "\n",
    "mean_res1 = np.array(mean_scores)\n",
    "print('Accuracy: %.4f(+/-%.4f)'%(mean_res1.mean(), mean_res1.std()))\n",
    "end = time.time()\n",
    "print('Time elapsed: %.4f'%(end-start))"
   ]
  },
  {
   "cell_type": "code",
   "execution_count": null,
   "id": "7c6eca0d",
   "metadata": {},
   "outputs": [],
   "source": []
  },
  {
   "cell_type": "code",
   "execution_count": null,
   "id": "ea0c6cea",
   "metadata": {},
   "outputs": [],
   "source": []
  },
  {
   "cell_type": "code",
   "execution_count": 33,
   "id": "75143a3e",
   "metadata": {},
   "outputs": [],
   "source": [
    "from sklearn.tree import DecisionTreeClassifier"
   ]
  },
  {
   "cell_type": "code",
   "execution_count": 34,
   "id": "ed68bb08",
   "metadata": {},
   "outputs": [
    {
     "name": "stderr",
     "output_type": "stream",
     "text": [
      "[Parallel(n_jobs=1)]: Using backend SequentialBackend with 1 concurrent workers.\n"
     ]
    },
    {
     "name": "stdout",
     "output_type": "stream",
     "text": [
      "[CV] END .................................................... total time=   5.2s\n"
     ]
    },
    {
     "name": "stderr",
     "output_type": "stream",
     "text": [
      "[Parallel(n_jobs=1)]: Done   1 out of   1 | elapsed:    5.4s remaining:    0.0s\n"
     ]
    },
    {
     "name": "stdout",
     "output_type": "stream",
     "text": [
      "[CV] END .................................................... total time=   5.2s\n",
      "[CV] END .................................................... total time=   5.2s\n",
      "[CV] END .................................................... total time=   5.2s\n",
      "[CV] END .................................................... total time=   5.2s\n"
     ]
    },
    {
     "name": "stderr",
     "output_type": "stream",
     "text": [
      "[Parallel(n_jobs=1)]: Done   5 out of   5 | elapsed:   26.5s finished\n",
      "[Parallel(n_jobs=1)]: Using backend SequentialBackend with 1 concurrent workers.\n"
     ]
    },
    {
     "name": "stdout",
     "output_type": "stream",
     "text": [
      "[CV] END .................................................... total time=   5.0s\n"
     ]
    },
    {
     "name": "stderr",
     "output_type": "stream",
     "text": [
      "[Parallel(n_jobs=1)]: Done   1 out of   1 | elapsed:    5.2s remaining:    0.0s\n"
     ]
    },
    {
     "name": "stdout",
     "output_type": "stream",
     "text": [
      "[CV] END .................................................... total time=   5.0s\n",
      "[CV] END .................................................... total time=   4.9s\n",
      "[CV] END .................................................... total time=   5.0s\n",
      "[CV] END .................................................... total time=   5.0s\n"
     ]
    },
    {
     "name": "stderr",
     "output_type": "stream",
     "text": [
      "[Parallel(n_jobs=1)]: Done   5 out of   5 | elapsed:   25.5s finished\n",
      "[Parallel(n_jobs=1)]: Using backend SequentialBackend with 1 concurrent workers.\n"
     ]
    },
    {
     "name": "stdout",
     "output_type": "stream",
     "text": [
      "[CV] END .................................................... total time=   5.1s\n"
     ]
    },
    {
     "name": "stderr",
     "output_type": "stream",
     "text": [
      "[Parallel(n_jobs=1)]: Done   1 out of   1 | elapsed:    5.3s remaining:    0.0s\n"
     ]
    },
    {
     "name": "stdout",
     "output_type": "stream",
     "text": [
      "[CV] END .................................................... total time=   5.2s\n",
      "[CV] END .................................................... total time=   5.2s\n",
      "[CV] END .................................................... total time=   5.2s\n",
      "[CV] END .................................................... total time=   5.2s\n",
      "Accuracy: 94.3283(+/-0.0000)\n",
      "Time elapsed: 79.0468\n"
     ]
    },
    {
     "name": "stderr",
     "output_type": "stream",
     "text": [
      "[Parallel(n_jobs=1)]: Done   5 out of   5 | elapsed:   26.7s finished\n"
     ]
    }
   ],
   "source": [
    "seed_lst = [j*7 for j in range(3)]\n",
    "mean_scores = []\n",
    "start = time.time()\n",
    "for seed in seed_lst:\n",
    "    model = DecisionTreeClassifier(random_state=seed, max_depth=2)\n",
    "    scores = cross_val_score(model, X_train_transformed, y_train, cv=5, scoring='accuracy',verbose=2)\n",
    "    score = scores.mean()*100\n",
    "    mean_scores.append(score)   \n",
    "\n",
    "mean_res1 = np.array(mean_scores)\n",
    "print('Accuracy: %.4f(+/-%.4f)'%(mean_res1.mean(), mean_res1.std()))\n",
    "end = time.time()\n",
    "print('Time elapsed: %.4f'%(end-start))"
   ]
  },
  {
   "cell_type": "code",
   "execution_count": null,
   "id": "ed4fa23e",
   "metadata": {},
   "outputs": [],
   "source": []
  },
  {
   "cell_type": "code",
   "execution_count": null,
   "id": "d1cef560",
   "metadata": {},
   "outputs": [],
   "source": []
  },
  {
   "cell_type": "code",
   "execution_count": 36,
   "id": "88967432",
   "metadata": {},
   "outputs": [],
   "source": [
    "from sklearn.svm import SVC\n",
    "from sklearn.ensemble import AdaBoostClassifier\n",
    "from sklearn.neighbors import KNeighborsClassifier"
   ]
  },
  {
   "cell_type": "code",
   "execution_count": null,
   "id": "97788292",
   "metadata": {},
   "outputs": [
    {
     "name": "stderr",
     "output_type": "stream",
     "text": [
      "[Parallel(n_jobs=1)]: Using backend SequentialBackend with 1 concurrent workers.\n"
     ]
    },
    {
     "name": "stdout",
     "output_type": "stream",
     "text": [
      "[CV] END .................................................... total time=   0.2s\n"
     ]
    },
    {
     "name": "stderr",
     "output_type": "stream",
     "text": [
      "[Parallel(n_jobs=1)]: Done   1 out of   1 | elapsed:    0.4s remaining:    0.0s\n"
     ]
    },
    {
     "name": "stdout",
     "output_type": "stream",
     "text": [
      "[CV] END .................................................... total time=   0.2s\n",
      "[CV] END .................................................... total time=   0.2s\n",
      "[CV] END .................................................... total time=   0.2s\n",
      "[CV] END .................................................... total time=   0.2s\n"
     ]
    },
    {
     "name": "stderr",
     "output_type": "stream",
     "text": [
      "[Parallel(n_jobs=1)]: Done   5 out of   5 | elapsed:    1.6s finished\n",
      "C:\\Users\\sanjay\\anaconda3\\envs\\Projects_Segmentation\\lib\\site-packages\\sklearn\\model_selection\\_validation.py:372: FitFailedWarning: \n",
      "5 fits failed out of a total of 5.\n",
      "The score on these train-test partitions for these parameters will be set to nan.\n",
      "If these failures are not expected, you can try to debug them by setting error_score='raise'.\n",
      "\n",
      "Below are more details about the failures:\n",
      "--------------------------------------------------------------------------------\n",
      "5 fits failed with the following error:\n",
      "Traceback (most recent call last):\n",
      "  File \"C:\\Users\\sanjay\\anaconda3\\envs\\Projects_Segmentation\\lib\\site-packages\\sklearn\\model_selection\\_validation.py\", line 681, in _fit_and_score\n",
      "    estimator.fit(X_train, y_train, **fit_params)\n",
      "  File \"C:\\Users\\sanjay\\anaconda3\\envs\\Projects_Segmentation\\lib\\site-packages\\sklearn\\neighbors\\_classification.py\", line 198, in fit\n",
      "    return self._fit(X, y)\n",
      "  File \"C:\\Users\\sanjay\\anaconda3\\envs\\Projects_Segmentation\\lib\\site-packages\\sklearn\\neighbors\\_base.py\", line 566, in _fit\n",
      "    raise ValueError(\"Expected n_neighbors > 0. Got %d\" % self.n_neighbors)\n",
      "ValueError: Expected n_neighbors > 0. Got 0\n",
      "\n",
      "  warnings.warn(some_fits_failed_message, FitFailedWarning)\n",
      "[Parallel(n_jobs=1)]: Using backend SequentialBackend with 1 concurrent workers.\n"
     ]
    }
   ],
   "source": [
    "seed_lst = [j for j in range(10)]\n",
    "mean_scores = []\n",
    "start = time.time()\n",
    "for seed in seed_lst:\n",
    "    model = KNeighborsClassifier(n_neighbors=seed)\n",
    "    scores = cross_val_score(model, X_train_transformed, y_train, cv=5, scoring='accuracy',verbose=2)\n",
    "    score = scores.mean()*100\n",
    "    mean_scores.append(score)   \n",
    "\n",
    "mean_res1 = np.array(mean_scores)\n",
    "print('Accuracy: %.4f(+/-%.4f)'%(mean_res1.mean(), mean_res1.std()))\n",
    "end = time.time()\n",
    "print('Time elapsed: %.4f'%(end-start))"
   ]
  },
  {
   "cell_type": "code",
   "execution_count": null,
   "id": "dee96505",
   "metadata": {},
   "outputs": [],
   "source": []
  },
  {
   "cell_type": "code",
   "execution_count": null,
   "id": "ec5d2d0a",
   "metadata": {},
   "outputs": [],
   "source": []
  },
  {
   "cell_type": "code",
   "execution_count": null,
   "id": "2cee0941",
   "metadata": {},
   "outputs": [],
   "source": []
  },
  {
   "cell_type": "code",
   "execution_count": null,
   "id": "c6598162",
   "metadata": {},
   "outputs": [],
   "source": []
  },
  {
   "cell_type": "code",
   "execution_count": null,
   "id": "bd149bf9",
   "metadata": {},
   "outputs": [],
   "source": [
    "seed_lst = [j*7 for j in range(3)]\n",
    "mean_scores = []\n",
    "start = time.time()\n",
    "for seed in seed_lst:\n",
    "    model = AdaBoostClassifier(random_state=seed, n_estimators=10)\n",
    "    scores = cross_val_score(model, X_train_transformed, y_train, cv=5, scoring='accuracy',verbose=2)\n",
    "    score = scores.mean()*100\n",
    "    mean_scores.append(score)   \n",
    "\n",
    "mean_res1 = np.array(mean_scores)\n",
    "print('Accuracy: %.4f(+/-%.4f)'%(mean_res1.mean(), mean_res1.std()))\n",
    "end = time.time()\n",
    "print('Time elapsed: %.4f'%(end-start))"
   ]
  },
  {
   "cell_type": "code",
   "execution_count": null,
   "id": "efc78724",
   "metadata": {},
   "outputs": [],
   "source": []
  },
  {
   "cell_type": "code",
   "execution_count": null,
   "id": "bed5a31b",
   "metadata": {},
   "outputs": [],
   "source": []
  },
  {
   "cell_type": "code",
   "execution_count": null,
   "id": "340acc2a",
   "metadata": {},
   "outputs": [],
   "source": []
  },
  {
   "cell_type": "code",
   "execution_count": null,
   "id": "8de4017b",
   "metadata": {},
   "outputs": [],
   "source": []
  }
 ],
 "metadata": {
  "kernelspec": {
   "display_name": "Python 3 (ipykernel)",
   "language": "python",
   "name": "python3"
  },
  "language_info": {
   "codemirror_mode": {
    "name": "ipython",
    "version": 3
   },
   "file_extension": ".py",
   "mimetype": "text/x-python",
   "name": "python",
   "nbconvert_exporter": "python",
   "pygments_lexer": "ipython3",
   "version": "3.9.12"
  }
 },
 "nbformat": 4,
 "nbformat_minor": 5
}
