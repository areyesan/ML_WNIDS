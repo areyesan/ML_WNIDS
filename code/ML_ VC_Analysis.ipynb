{
 "cells": [
  {
   "cell_type": "code",
   "execution_count": null,
   "id": "227bf234",
   "metadata": {},
   "outputs": [],
   "source": []
  },
  {
   "cell_type": "code",
   "execution_count": 6,
   "id": "14daca6a",
   "metadata": {},
   "outputs": [],
   "source": [
    "import numpy as np\n",
    "import scipy\n",
    "from numpy import mean, absolute\n",
    "import pandas as pd\n",
    "from sklearn import *\n",
    "\n",
    "from scipy import spatial\n",
    "from sklearn.metrics.pairwise import euclidean_distances\n",
    "from scipy.spatial import distance\n",
    "import math\n",
    "from sklearn.decomposition import PCA \n",
    "from sklearn.preprocessing import StandardScaler \n",
    "from sklearn.preprocessing import LabelEncoder\n",
    "\n",
    "import matplotlib.pyplot as plt\n",
    "import seaborn as sns\n",
    "\n",
    "from sklearn.feature_extraction.text import CountVectorizer\n",
    "from itertools import chain\n",
    "import numpy as np\n",
    "import pandas as pd\n",
    "import matplotlib.pyplot as plt\n",
    "import seaborn as sb\n",
    "\n",
    "from os import listdir\n",
    "from pathlib import Path\n",
    "from os.path import isfile, join\n",
    "from natsort import natsorted ## !pip install natsort"
   ]
  },
  {
   "cell_type": "code",
   "execution_count": 7,
   "id": "e4605515",
   "metadata": {},
   "outputs": [],
   "source": [
    "xtrainFileName=\"xtrain_AWID_CovarianceAnalysis_reduced.npy\"\n",
    "xtestFileName=\"xtest_AWID_CovarianceAnalysis_reduced.npy\"\n",
    "ytrainFileName=\"ytrain_AWID_CovarianceAnalysis_reduced.npy\"\n",
    "ytestFileName=\"ytest_AWID_CovarianceAnalysis_reduced.npy\"\n",
    "X_train_transformed=np.load(xtrainFileName)\n",
    "X_test_transformed=np.load(xtestFileName)\n",
    "y_train=np.load(ytrainFileName)\n",
    "y_test=np.load(ytestFileName)"
   ]
  },
  {
   "cell_type": "code",
   "execution_count": 8,
   "id": "0e15c3af",
   "metadata": {},
   "outputs": [],
   "source": [
    "from sklearn.ensemble import RandomForestClassifier\n",
    "from sklearn.metrics import accuracy_score\n",
    "import itertools\n",
    "import matplotlib.pyplot as plt\n",
    "from scipy.stats import mode\n",
    "from sklearn.model_selection import cross_val_score\n",
    "from sklearn.metrics import confusion_matrix\n",
    "from sklearn.metrics import classification_report\n",
    "from sklearn.ensemble import BaggingClassifier\n",
    "from sklearn.model_selection import GridSearchCV\n",
    "import time"
   ]
  },
  {
   "cell_type": "code",
   "execution_count": 10,
   "id": "df7327f2",
   "metadata": {},
   "outputs": [],
   "source": [
    "from sklearn.svm import SVC\n",
    "from sklearn.ensemble import AdaBoostClassifier\n",
    "from sklearn.neighbors import KNeighborsClassifier\n",
    "from sklearn.ensemble import ExtraTreesClassifier\n",
    "import xgboost as xgb\n",
    "from sklearn.naive_bayes import GaussianNB\n",
    "from sklearn.tree import DecisionTreeClassifier"
   ]
  },
  {
   "cell_type": "code",
   "execution_count": 11,
   "id": "efe5d404",
   "metadata": {},
   "outputs": [
    {
     "name": "stderr",
     "output_type": "stream",
     "text": [
      "[Parallel(n_jobs=1)]: Using backend SequentialBackend with 1 concurrent workers.\n"
     ]
    },
    {
     "name": "stdout",
     "output_type": "stream",
     "text": [
      "[CV] END .................................................... total time=  22.0s\n"
     ]
    },
    {
     "name": "stderr",
     "output_type": "stream",
     "text": [
      "[Parallel(n_jobs=1)]: Done   1 out of   1 | elapsed:   22.2s remaining:    0.0s\n"
     ]
    },
    {
     "name": "stdout",
     "output_type": "stream",
     "text": [
      "[CV] END .................................................... total time=  21.4s\n",
      "[CV] END .................................................... total time=  24.4s\n",
      "[CV] END .................................................... total time=  24.7s\n",
      "[CV] END .................................................... total time=  25.4s\n"
     ]
    },
    {
     "name": "stderr",
     "output_type": "stream",
     "text": [
      "[Parallel(n_jobs=1)]: Done   5 out of   5 | elapsed:  2.0min finished\n",
      "[Parallel(n_jobs=1)]: Using backend SequentialBackend with 1 concurrent workers.\n"
     ]
    },
    {
     "name": "stdout",
     "output_type": "stream",
     "text": [
      "[CV] END .................................................... total time=  23.7s\n"
     ]
    },
    {
     "name": "stderr",
     "output_type": "stream",
     "text": [
      "[Parallel(n_jobs=1)]: Done   1 out of   1 | elapsed:   23.9s remaining:    0.0s\n"
     ]
    },
    {
     "name": "stdout",
     "output_type": "stream",
     "text": [
      "[CV] END .................................................... total time=  22.5s\n",
      "[CV] END .................................................... total time=  22.9s\n",
      "[CV] END .................................................... total time=  22.7s\n",
      "[CV] END .................................................... total time=  22.7s\n"
     ]
    },
    {
     "name": "stderr",
     "output_type": "stream",
     "text": [
      "[Parallel(n_jobs=1)]: Done   5 out of   5 | elapsed:  1.9min finished\n",
      "[Parallel(n_jobs=1)]: Using backend SequentialBackend with 1 concurrent workers.\n"
     ]
    },
    {
     "name": "stdout",
     "output_type": "stream",
     "text": [
      "[CV] END .................................................... total time=  22.6s\n"
     ]
    },
    {
     "name": "stderr",
     "output_type": "stream",
     "text": [
      "[Parallel(n_jobs=1)]: Done   1 out of   1 | elapsed:   22.7s remaining:    0.0s\n"
     ]
    },
    {
     "name": "stdout",
     "output_type": "stream",
     "text": [
      "[CV] END .................................................... total time=  21.5s\n",
      "[CV] END .................................................... total time=  21.4s\n",
      "[CV] END .................................................... total time=  21.3s\n",
      "[CV] END .................................................... total time=  21.7s\n",
      "Accuracy: 83.7623(+/-0.0000)\n",
      "Time elapsed: 343.1779\n"
     ]
    },
    {
     "name": "stderr",
     "output_type": "stream",
     "text": [
      "[Parallel(n_jobs=1)]: Done   5 out of   5 | elapsed:  1.8min finished\n"
     ]
    }
   ],
   "source": [
    "seed_lst = [j*7 for j in range(3)]\n",
    "mean_scores = []\n",
    "start = time.time()\n",
    "for seed in seed_lst:\n",
    "    model = AdaBoostClassifier(random_state=seed, n_estimators=10)\n",
    "    scores = cross_val_score(model, X_train_transformed, y_train, cv=5, scoring='accuracy',verbose=2)\n",
    "    score = scores.mean()*100\n",
    "    mean_scores.append(score)   \n",
    "\n",
    "mean_res1 = np.array(mean_scores)\n",
    "print('Accuracy: %.4f(+/-%.4f)'%(mean_res1.mean(), mean_res1.std()))\n",
    "end = time.time()\n",
    "print('Time elapsed: %.4f'%(end-start))"
   ]
  },
  {
   "cell_type": "code",
   "execution_count": null,
   "id": "676b1fd5",
   "metadata": {},
   "outputs": [],
   "source": []
  },
  {
   "cell_type": "code",
   "execution_count": null,
   "id": "12e97a7f",
   "metadata": {},
   "outputs": [],
   "source": []
  },
  {
   "cell_type": "code",
   "execution_count": 12,
   "id": "5fa05afa",
   "metadata": {},
   "outputs": [
    {
     "name": "stderr",
     "output_type": "stream",
     "text": [
      "[Parallel(n_jobs=1)]: Using backend SequentialBackend with 1 concurrent workers.\n"
     ]
    },
    {
     "name": "stdout",
     "output_type": "stream",
     "text": [
      "[CV] END .................................................... total time= 1.1min\n"
     ]
    },
    {
     "name": "stderr",
     "output_type": "stream",
     "text": [
      "[Parallel(n_jobs=1)]: Done   1 out of   1 | elapsed:  1.1min remaining:    0.0s\n"
     ]
    },
    {
     "name": "stdout",
     "output_type": "stream",
     "text": [
      "[CV] END .................................................... total time= 1.1min\n",
      "[CV] END .................................................... total time= 1.1min\n",
      "[CV] END .................................................... total time= 1.1min\n",
      "[CV] END .................................................... total time= 1.1min\n"
     ]
    },
    {
     "name": "stderr",
     "output_type": "stream",
     "text": [
      "[Parallel(n_jobs=1)]: Done   5 out of   5 | elapsed:  5.7min finished\n",
      "[Parallel(n_jobs=1)]: Using backend SequentialBackend with 1 concurrent workers.\n"
     ]
    },
    {
     "name": "stdout",
     "output_type": "stream",
     "text": [
      "[CV] END .................................................... total time= 1.1min\n"
     ]
    },
    {
     "name": "stderr",
     "output_type": "stream",
     "text": [
      "[Parallel(n_jobs=1)]: Done   1 out of   1 | elapsed:  1.1min remaining:    0.0s\n"
     ]
    },
    {
     "name": "stdout",
     "output_type": "stream",
     "text": [
      "[CV] END .................................................... total time= 1.1min\n",
      "[CV] END .................................................... total time= 1.0min\n",
      "[CV] END .................................................... total time= 1.1min\n",
      "[CV] END .................................................... total time= 1.1min\n"
     ]
    },
    {
     "name": "stderr",
     "output_type": "stream",
     "text": [
      "[Parallel(n_jobs=1)]: Done   5 out of   5 | elapsed:  5.4min finished\n",
      "[Parallel(n_jobs=1)]: Using backend SequentialBackend with 1 concurrent workers.\n"
     ]
    },
    {
     "name": "stdout",
     "output_type": "stream",
     "text": [
      "[CV] END .................................................... total time= 1.1min\n"
     ]
    },
    {
     "name": "stderr",
     "output_type": "stream",
     "text": [
      "[Parallel(n_jobs=1)]: Done   1 out of   1 | elapsed:  1.1min remaining:    0.0s\n"
     ]
    },
    {
     "name": "stdout",
     "output_type": "stream",
     "text": [
      "[CV] END .................................................... total time= 1.1min\n",
      "[CV] END .................................................... total time= 1.1min\n",
      "[CV] END .................................................... total time= 1.1min\n",
      "[CV] END .................................................... total time= 1.1min\n",
      "Accuracy: 99.8004(+/-0.0016)\n",
      "Time elapsed: 994.0093\n"
     ]
    },
    {
     "name": "stderr",
     "output_type": "stream",
     "text": [
      "[Parallel(n_jobs=1)]: Done   5 out of   5 | elapsed:  5.5min finished\n"
     ]
    }
   ],
   "source": [
    "seed_lst = [j*7 for j in range(3)]\n",
    "mean_scores = []\n",
    "start = time.time()\n",
    "for seed in seed_lst:\n",
    "    model = BaggingClassifier(random_state = seed)\n",
    "    scores = cross_val_score(model, X_train_transformed, y_train, \n",
    "                             cv=5, scoring='accuracy', verbose=2)\n",
    "    score = scores.mean()*100\n",
    "    mean_scores.append(score)   \n",
    "\n",
    "mean_res3 = np.array(mean_scores)\n",
    "print('Accuracy: %.4f(+/-%.4f)'%(mean_res3.mean(), mean_res3.std()))\n",
    "end = time.time()\n",
    "print('Time elapsed: %.4f'%(end-start))  "
   ]
  },
  {
   "cell_type": "code",
   "execution_count": null,
   "id": "48da40ce",
   "metadata": {},
   "outputs": [],
   "source": []
  },
  {
   "cell_type": "code",
   "execution_count": null,
   "id": "f155459c",
   "metadata": {},
   "outputs": [],
   "source": []
  },
  {
   "cell_type": "code",
   "execution_count": 13,
   "id": "12e44afa",
   "metadata": {},
   "outputs": [
    {
     "name": "stderr",
     "output_type": "stream",
     "text": [
      "[Parallel(n_jobs=1)]: Using backend SequentialBackend with 1 concurrent workers.\n"
     ]
    },
    {
     "name": "stdout",
     "output_type": "stream",
     "text": [
      "[CV] END .................................................... total time= 1.7min\n"
     ]
    },
    {
     "name": "stderr",
     "output_type": "stream",
     "text": [
      "[Parallel(n_jobs=1)]: Done   1 out of   1 | elapsed:  1.7min remaining:    0.0s\n"
     ]
    },
    {
     "name": "stdout",
     "output_type": "stream",
     "text": [
      "[CV] END .................................................... total time= 1.6min\n",
      "[CV] END .................................................... total time= 1.7min\n",
      "[CV] END .................................................... total time= 1.6min\n",
      "[CV] END .................................................... total time= 1.6min\n"
     ]
    },
    {
     "name": "stderr",
     "output_type": "stream",
     "text": [
      "[Parallel(n_jobs=1)]: Done   5 out of   5 | elapsed:  8.3min finished\n",
      "[Parallel(n_jobs=1)]: Using backend SequentialBackend with 1 concurrent workers.\n"
     ]
    },
    {
     "name": "stdout",
     "output_type": "stream",
     "text": [
      "[CV] END .................................................... total time= 1.6min\n"
     ]
    },
    {
     "name": "stderr",
     "output_type": "stream",
     "text": [
      "[Parallel(n_jobs=1)]: Done   1 out of   1 | elapsed:  1.6min remaining:    0.0s\n"
     ]
    },
    {
     "name": "stdout",
     "output_type": "stream",
     "text": [
      "[CV] END .................................................... total time= 1.7min\n",
      "[CV] END .................................................... total time= 1.6min\n",
      "[CV] END .................................................... total time= 1.6min\n",
      "[CV] END .................................................... total time= 1.6min\n"
     ]
    },
    {
     "name": "stderr",
     "output_type": "stream",
     "text": [
      "[Parallel(n_jobs=1)]: Done   5 out of   5 | elapsed:  8.3min finished\n",
      "[Parallel(n_jobs=1)]: Using backend SequentialBackend with 1 concurrent workers.\n"
     ]
    },
    {
     "name": "stdout",
     "output_type": "stream",
     "text": [
      "[CV] END .................................................... total time= 1.7min\n"
     ]
    },
    {
     "name": "stderr",
     "output_type": "stream",
     "text": [
      "[Parallel(n_jobs=1)]: Done   1 out of   1 | elapsed:  1.7min remaining:    0.0s\n"
     ]
    },
    {
     "name": "stdout",
     "output_type": "stream",
     "text": [
      "[CV] END .................................................... total time= 1.7min\n",
      "[CV] END .................................................... total time= 1.7min\n",
      "[CV] END .................................................... total time= 1.6min\n",
      "[CV] END .................................................... total time= 1.7min\n",
      "Accuracy: 99.7910(+/-0.0008)\n",
      "Time elapsed: 1494.2957\n"
     ]
    },
    {
     "name": "stderr",
     "output_type": "stream",
     "text": [
      "[Parallel(n_jobs=1)]: Done   5 out of   5 | elapsed:  8.3min finished\n"
     ]
    }
   ],
   "source": [
    "seed_lst = [j*7 for j in range(3)]\n",
    "mean_scores = []\n",
    "start = time.time()\n",
    "for seed in seed_lst:\n",
    "    model = ExtraTreesClassifier(random_state = seed)\n",
    "    scores = cross_val_score(model, X_train_transformed, y_train, cv=5, scoring='accuracy',verbose=2)\n",
    "    score = scores.mean()*100\n",
    "    mean_scores.append(score)   \n",
    "\n",
    "mean_res1 = np.array(mean_scores)\n",
    "print('Accuracy: %.4f(+/-%.4f)'%(mean_res1.mean(), mean_res1.std()))\n",
    "end = time.time()\n",
    "print('Time elapsed: %.4f'%(end-start)) "
   ]
  },
  {
   "cell_type": "code",
   "execution_count": null,
   "id": "ca24552a",
   "metadata": {},
   "outputs": [],
   "source": []
  },
  {
   "cell_type": "code",
   "execution_count": null,
   "id": "4397a608",
   "metadata": {},
   "outputs": [],
   "source": []
  },
  {
   "cell_type": "code",
   "execution_count": 14,
   "id": "a5d1c005",
   "metadata": {},
   "outputs": [
    {
     "name": "stderr",
     "output_type": "stream",
     "text": [
      "[Parallel(n_jobs=1)]: Using backend SequentialBackend with 1 concurrent workers.\n"
     ]
    },
    {
     "name": "stdout",
     "output_type": "stream",
     "text": [
      "[CV] END .................................................... total time=  16.6s\n"
     ]
    },
    {
     "name": "stderr",
     "output_type": "stream",
     "text": [
      "[Parallel(n_jobs=1)]: Done   1 out of   1 | elapsed:   16.8s remaining:    0.0s\n"
     ]
    },
    {
     "name": "stdout",
     "output_type": "stream",
     "text": [
      "[CV] END .................................................... total time=  15.3s\n",
      "[CV] END .................................................... total time=  15.9s\n",
      "[CV] END .................................................... total time=  16.2s\n",
      "[CV] END .................................................... total time=  20.2s\n"
     ]
    },
    {
     "name": "stderr",
     "output_type": "stream",
     "text": [
      "[Parallel(n_jobs=1)]: Done   5 out of   5 | elapsed:  1.4min finished\n",
      "[Parallel(n_jobs=1)]: Using backend SequentialBackend with 1 concurrent workers.\n"
     ]
    },
    {
     "name": "stdout",
     "output_type": "stream",
     "text": [
      "[CV] END .................................................... total time=  17.2s\n"
     ]
    },
    {
     "name": "stderr",
     "output_type": "stream",
     "text": [
      "[Parallel(n_jobs=1)]: Done   1 out of   1 | elapsed:   17.4s remaining:    0.0s\n"
     ]
    },
    {
     "name": "stdout",
     "output_type": "stream",
     "text": [
      "[CV] END .................................................... total time=  17.8s\n",
      "[CV] END .................................................... total time=  17.5s\n",
      "[CV] END .................................................... total time=  16.3s\n",
      "[CV] END .................................................... total time=  17.2s\n"
     ]
    },
    {
     "name": "stderr",
     "output_type": "stream",
     "text": [
      "[Parallel(n_jobs=1)]: Done   5 out of   5 | elapsed:  1.4min finished\n",
      "[Parallel(n_jobs=1)]: Using backend SequentialBackend with 1 concurrent workers.\n"
     ]
    },
    {
     "name": "stdout",
     "output_type": "stream",
     "text": [
      "[CV] END .................................................... total time=  16.0s\n"
     ]
    },
    {
     "name": "stderr",
     "output_type": "stream",
     "text": [
      "[Parallel(n_jobs=1)]: Done   1 out of   1 | elapsed:   16.2s remaining:    0.0s\n"
     ]
    },
    {
     "name": "stdout",
     "output_type": "stream",
     "text": [
      "[CV] END .................................................... total time=  16.1s\n",
      "[CV] END .................................................... total time=  17.5s\n",
      "[CV] END .................................................... total time=  17.3s\n",
      "[CV] END .................................................... total time=  17.8s\n",
      "Accuracy: 99.7856(+/-0.0018)\n",
      "Time elapsed: 257.4530\n"
     ]
    },
    {
     "name": "stderr",
     "output_type": "stream",
     "text": [
      "[Parallel(n_jobs=1)]: Done   5 out of   5 | elapsed:  1.4min finished\n"
     ]
    }
   ],
   "source": [
    "seed_lst = [j*7 for j in range(3)]\n",
    "mean_scores = []\n",
    "start = time.time()\n",
    "for seed in seed_lst:\n",
    "    model = RandomForestClassifier(n_estimators =10, min_samples_leaf = 1, min_samples_split = 2, random_state = seed)\n",
    "    scores = cross_val_score(model, X_train_transformed, y_train, cv=5, scoring='accuracy',verbose=2)###cv=10 just 2 for PSO\n",
    "    score = scores.mean()*100\n",
    "    mean_scores.append(score)   \n",
    "\n",
    "mean_res1 = np.array(mean_scores)\n",
    "print('Accuracy: %.4f(+/-%.4f)'%(mean_res1.mean(), mean_res1.std()))\n",
    "end = time.time()\n",
    "print('Time elapsed: %.4f'%(end-start))"
   ]
  },
  {
   "cell_type": "code",
   "execution_count": null,
   "id": "cb012d17",
   "metadata": {},
   "outputs": [],
   "source": []
  },
  {
   "cell_type": "code",
   "execution_count": null,
   "id": "a7c1c076",
   "metadata": {},
   "outputs": [],
   "source": []
  },
  {
   "cell_type": "code",
   "execution_count": 15,
   "id": "2e92170a",
   "metadata": {},
   "outputs": [
    {
     "name": "stderr",
     "output_type": "stream",
     "text": [
      "[Parallel(n_jobs=1)]: Using backend SequentialBackend with 1 concurrent workers.\n"
     ]
    },
    {
     "name": "stdout",
     "output_type": "stream",
     "text": [
      "[CV] END .................................................... total time=  16.7s\n"
     ]
    },
    {
     "name": "stderr",
     "output_type": "stream",
     "text": [
      "[Parallel(n_jobs=1)]: Done   1 out of   1 | elapsed:   16.9s remaining:    0.0s\n"
     ]
    },
    {
     "name": "stdout",
     "output_type": "stream",
     "text": [
      "[CV] END .................................................... total time=  17.4s\n",
      "[CV] END .................................................... total time=  17.5s\n",
      "[CV] END .................................................... total time=  18.1s\n",
      "[CV] END .................................................... total time=  17.6s\n"
     ]
    },
    {
     "name": "stderr",
     "output_type": "stream",
     "text": [
      "[Parallel(n_jobs=1)]: Done   5 out of   5 | elapsed:  1.5min finished\n",
      "[Parallel(n_jobs=1)]: Using backend SequentialBackend with 1 concurrent workers.\n"
     ]
    },
    {
     "name": "stdout",
     "output_type": "stream",
     "text": [
      "[CV] END .................................................... total time=  17.6s\n"
     ]
    },
    {
     "name": "stderr",
     "output_type": "stream",
     "text": [
      "[Parallel(n_jobs=1)]: Done   1 out of   1 | elapsed:   17.8s remaining:    0.0s\n"
     ]
    },
    {
     "name": "stdout",
     "output_type": "stream",
     "text": [
      "[CV] END .................................................... total time=  17.8s\n",
      "[CV] END .................................................... total time=  17.8s\n",
      "[CV] END .................................................... total time=  17.9s\n",
      "[CV] END .................................................... total time=  17.8s\n"
     ]
    },
    {
     "name": "stderr",
     "output_type": "stream",
     "text": [
      "[Parallel(n_jobs=1)]: Done   5 out of   5 | elapsed:  1.5min finished\n",
      "[Parallel(n_jobs=1)]: Using backend SequentialBackend with 1 concurrent workers.\n"
     ]
    },
    {
     "name": "stdout",
     "output_type": "stream",
     "text": [
      "[CV] END .................................................... total time=  17.8s\n"
     ]
    },
    {
     "name": "stderr",
     "output_type": "stream",
     "text": [
      "[Parallel(n_jobs=1)]: Done   1 out of   1 | elapsed:   18.1s remaining:    0.0s\n"
     ]
    },
    {
     "name": "stdout",
     "output_type": "stream",
     "text": [
      "[CV] END .................................................... total time=  18.1s\n",
      "[CV] END .................................................... total time=  18.1s\n",
      "[CV] END .................................................... total time=  18.0s\n",
      "[CV] END .................................................... total time=  18.6s\n",
      "Accuracy: 99.7056(+/-0.0000)\n",
      "Time elapsed: 269.4380\n"
     ]
    },
    {
     "name": "stderr",
     "output_type": "stream",
     "text": [
      "[Parallel(n_jobs=1)]: Done   5 out of   5 | elapsed:  1.5min finished\n"
     ]
    }
   ],
   "source": [
    "seed_lst = [j*7 for j in range(3)]\n",
    "mean_scores = []\n",
    "start = time.time()\n",
    "for seed in seed_lst:\n",
    "    model = xgb.XGBClassifier(max_depth=10, n_estimators=3, learning_rate=0.01, seed=seed)\n",
    "    scores = cross_val_score(model, X_train_transformed, y_train, cv=5, scoring='accuracy',verbose=2)\n",
    "    score = scores.mean()*100\n",
    "    mean_scores.append(score)   \n",
    "\n",
    "mean_res1 = np.array(mean_scores)\n",
    "print('Accuracy: %.4f(+/-%.4f)'%(mean_res1.mean(), mean_res1.std()))\n",
    "end = time.time()\n",
    "print('Time elapsed: %.4f'%(end-start)) "
   ]
  },
  {
   "cell_type": "code",
   "execution_count": null,
   "id": "06e66565",
   "metadata": {},
   "outputs": [],
   "source": []
  },
  {
   "cell_type": "code",
   "execution_count": null,
   "id": "6a9b113a",
   "metadata": {},
   "outputs": [],
   "source": []
  },
  {
   "cell_type": "code",
   "execution_count": 16,
   "id": "8b316e7f",
   "metadata": {},
   "outputs": [
    {
     "name": "stderr",
     "output_type": "stream",
     "text": [
      "[Parallel(n_jobs=1)]: Using backend SequentialBackend with 1 concurrent workers.\n"
     ]
    },
    {
     "name": "stdout",
     "output_type": "stream",
     "text": [
      "[CV] END .................................................... total time=   1.8s\n"
     ]
    },
    {
     "name": "stderr",
     "output_type": "stream",
     "text": [
      "[Parallel(n_jobs=1)]: Done   1 out of   1 | elapsed:    2.0s remaining:    0.0s\n"
     ]
    },
    {
     "name": "stdout",
     "output_type": "stream",
     "text": [
      "[CV] END .................................................... total time=   1.6s\n",
      "[CV] END .................................................... total time=   1.5s\n",
      "[CV] END .................................................... total time=   1.4s\n",
      "[CV] END .................................................... total time=   1.4s\n"
     ]
    },
    {
     "name": "stderr",
     "output_type": "stream",
     "text": [
      "[Parallel(n_jobs=1)]: Done   5 out of   5 | elapsed:    8.5s finished\n",
      "[Parallel(n_jobs=1)]: Using backend SequentialBackend with 1 concurrent workers.\n"
     ]
    },
    {
     "name": "stdout",
     "output_type": "stream",
     "text": [
      "[CV] END .................................................... total time=   1.4s\n"
     ]
    },
    {
     "name": "stderr",
     "output_type": "stream",
     "text": [
      "[Parallel(n_jobs=1)]: Done   1 out of   1 | elapsed:    1.6s remaining:    0.0s\n"
     ]
    },
    {
     "name": "stdout",
     "output_type": "stream",
     "text": [
      "[CV] END .................................................... total time=   1.5s\n",
      "[CV] END .................................................... total time=   1.5s\n",
      "[CV] END .................................................... total time=   1.4s\n",
      "[CV] END .................................................... total time=   1.4s\n"
     ]
    },
    {
     "name": "stderr",
     "output_type": "stream",
     "text": [
      "[Parallel(n_jobs=1)]: Done   5 out of   5 | elapsed:    7.9s finished\n",
      "[Parallel(n_jobs=1)]: Using backend SequentialBackend with 1 concurrent workers.\n"
     ]
    },
    {
     "name": "stdout",
     "output_type": "stream",
     "text": [
      "[CV] END .................................................... total time=   1.4s\n"
     ]
    },
    {
     "name": "stderr",
     "output_type": "stream",
     "text": [
      "[Parallel(n_jobs=1)]: Done   1 out of   1 | elapsed:    1.6s remaining:    0.0s\n"
     ]
    },
    {
     "name": "stdout",
     "output_type": "stream",
     "text": [
      "[CV] END .................................................... total time=   1.5s\n",
      "[CV] END .................................................... total time=   1.5s\n",
      "[CV] END .................................................... total time=   1.4s\n",
      "[CV] END .................................................... total time=   1.4s\n",
      "Accuracy: 82.6217(+/-0.0000)\n",
      "Time elapsed: 24.6433\n"
     ]
    },
    {
     "name": "stderr",
     "output_type": "stream",
     "text": [
      "[Parallel(n_jobs=1)]: Done   5 out of   5 | elapsed:    7.9s finished\n"
     ]
    }
   ],
   "source": [
    "seed_lst = [j*7 for j in range(3)]\n",
    "mean_scores = []\n",
    "start = time.time()\n",
    "for seed in seed_lst:\n",
    "    model = GaussianNB()\n",
    "    scores = cross_val_score(model, X_train_transformed, y_train, cv=5, scoring='accuracy',verbose=2)\n",
    "    score = scores.mean()*100\n",
    "    mean_scores.append(score)   \n",
    "\n",
    "mean_res1 = np.array(mean_scores)\n",
    "print('Accuracy: %.4f(+/-%.4f)'%(mean_res1.mean(), mean_res1.std()))\n",
    "end = time.time()\n",
    "print('Time elapsed: %.4f'%(end-start))"
   ]
  },
  {
   "cell_type": "code",
   "execution_count": null,
   "id": "87662228",
   "metadata": {},
   "outputs": [],
   "source": []
  },
  {
   "cell_type": "code",
   "execution_count": null,
   "id": "a5b258a6",
   "metadata": {},
   "outputs": [],
   "source": []
  },
  {
   "cell_type": "code",
   "execution_count": 17,
   "id": "f7bec2a6",
   "metadata": {},
   "outputs": [
    {
     "name": "stderr",
     "output_type": "stream",
     "text": [
      "[Parallel(n_jobs=1)]: Using backend SequentialBackend with 1 concurrent workers.\n"
     ]
    },
    {
     "name": "stdout",
     "output_type": "stream",
     "text": [
      "[CV] END .................................................... total time=   2.6s\n"
     ]
    },
    {
     "name": "stderr",
     "output_type": "stream",
     "text": [
      "[Parallel(n_jobs=1)]: Done   1 out of   1 | elapsed:    2.8s remaining:    0.0s\n"
     ]
    },
    {
     "name": "stdout",
     "output_type": "stream",
     "text": [
      "[CV] END .................................................... total time=   2.6s\n",
      "[CV] END .................................................... total time=   2.6s\n",
      "[CV] END .................................................... total time=   2.6s\n",
      "[CV] END .................................................... total time=   2.5s\n"
     ]
    },
    {
     "name": "stderr",
     "output_type": "stream",
     "text": [
      "[Parallel(n_jobs=1)]: Done   5 out of   5 | elapsed:   13.6s finished\n",
      "[Parallel(n_jobs=1)]: Using backend SequentialBackend with 1 concurrent workers.\n"
     ]
    },
    {
     "name": "stdout",
     "output_type": "stream",
     "text": [
      "[CV] END .................................................... total time=   2.5s\n"
     ]
    },
    {
     "name": "stderr",
     "output_type": "stream",
     "text": [
      "[Parallel(n_jobs=1)]: Done   1 out of   1 | elapsed:    2.7s remaining:    0.0s\n"
     ]
    },
    {
     "name": "stdout",
     "output_type": "stream",
     "text": [
      "[CV] END .................................................... total time=   2.6s\n",
      "[CV] END .................................................... total time=   2.6s\n",
      "[CV] END .................................................... total time=   2.5s\n",
      "[CV] END .................................................... total time=   2.5s\n"
     ]
    },
    {
     "name": "stderr",
     "output_type": "stream",
     "text": [
      "[Parallel(n_jobs=1)]: Done   5 out of   5 | elapsed:   13.3s finished\n",
      "[Parallel(n_jobs=1)]: Using backend SequentialBackend with 1 concurrent workers.\n"
     ]
    },
    {
     "name": "stdout",
     "output_type": "stream",
     "text": [
      "[CV] END .................................................... total time=   2.6s\n"
     ]
    },
    {
     "name": "stderr",
     "output_type": "stream",
     "text": [
      "[Parallel(n_jobs=1)]: Done   1 out of   1 | elapsed:    2.8s remaining:    0.0s\n"
     ]
    },
    {
     "name": "stdout",
     "output_type": "stream",
     "text": [
      "[CV] END .................................................... total time=   2.6s\n",
      "[CV] END .................................................... total time=   2.7s\n",
      "[CV] END .................................................... total time=   2.6s\n",
      "[CV] END .................................................... total time=   2.6s\n",
      "Accuracy: 93.7825(+/-0.0000)\n",
      "Time elapsed: 41.0549\n"
     ]
    },
    {
     "name": "stderr",
     "output_type": "stream",
     "text": [
      "[Parallel(n_jobs=1)]: Done   5 out of   5 | elapsed:   13.8s finished\n"
     ]
    }
   ],
   "source": [
    "seed_lst = [j*7 for j in range(3)]\n",
    "mean_scores = []\n",
    "start = time.time()\n",
    "for seed in seed_lst:\n",
    "    model = DecisionTreeClassifier(random_state=seed, max_depth=2)\n",
    "    scores = cross_val_score(model, X_train_transformed, y_train, cv=5, scoring='accuracy',verbose=2)\n",
    "    score = scores.mean()*100\n",
    "    mean_scores.append(score)   \n",
    "\n",
    "mean_res1 = np.array(mean_scores)\n",
    "print('Accuracy: %.4f(+/-%.4f)'%(mean_res1.mean(), mean_res1.std()))\n",
    "end = time.time()\n",
    "print('Time elapsed: %.4f'%(end-start))"
   ]
  },
  {
   "cell_type": "code",
   "execution_count": null,
   "id": "196a0037",
   "metadata": {},
   "outputs": [],
   "source": []
  },
  {
   "cell_type": "code",
   "execution_count": null,
   "id": "7adf7c37",
   "metadata": {},
   "outputs": [],
   "source": []
  },
  {
   "cell_type": "code",
   "execution_count": null,
   "id": "b65e6572",
   "metadata": {},
   "outputs": [],
   "source": []
  }
 ],
 "metadata": {
  "kernelspec": {
   "display_name": "Python 3 (ipykernel)",
   "language": "python",
   "name": "python3"
  },
  "language_info": {
   "codemirror_mode": {
    "name": "ipython",
    "version": 3
   },
   "file_extension": ".py",
   "mimetype": "text/x-python",
   "name": "python",
   "nbconvert_exporter": "python",
   "pygments_lexer": "ipython3",
   "version": "3.9.12"
  }
 },
 "nbformat": 4,
 "nbformat_minor": 5
}
