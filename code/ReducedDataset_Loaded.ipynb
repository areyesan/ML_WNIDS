{
 "cells": [
  {
   "cell_type": "code",
   "execution_count": null,
   "id": "dd9ad59f",
   "metadata": {},
   "outputs": [],
   "source": []
  },
  {
   "cell_type": "code",
   "execution_count": null,
   "id": "bb792735",
   "metadata": {},
   "outputs": [],
   "source": []
  },
  {
   "cell_type": "code",
   "execution_count": 66,
   "id": "e440fe0e",
   "metadata": {},
   "outputs": [],
   "source": [
    "import numpy as np\n",
    "import scipy\n",
    "from numpy import mean, absolute\n",
    "import pandas as pd\n",
    "from sklearn import *\n",
    "\n",
    "from scipy import spatial\n",
    "from sklearn.metrics.pairwise import euclidean_distances\n",
    "from scipy.spatial import distance\n",
    "import math\n",
    "from sklearn.decomposition import PCA \n",
    "from sklearn.preprocessing import StandardScaler \n",
    "from sklearn.preprocessing import LabelEncoder\n",
    "\n",
    "import matplotlib.pyplot as plt\n",
    "import seaborn as sns"
   ]
  },
  {
   "cell_type": "code",
   "execution_count": 67,
   "id": "8a5c122b",
   "metadata": {},
   "outputs": [],
   "source": [
    "from sklearn.feature_extraction.text import CountVectorizer\n",
    "from itertools import chain\n",
    "import numpy as np\n",
    "import pandas as pd\n",
    "import matplotlib.pyplot as plt\n",
    "import seaborn as sb"
   ]
  },
  {
   "cell_type": "code",
   "execution_count": 68,
   "id": "1efcd83a",
   "metadata": {},
   "outputs": [],
   "source": [
    "from os import listdir\n",
    "from pathlib import Path\n",
    "from os.path import isfile, join\n",
    "from natsort import natsorted ## !pip install natsort"
   ]
  },
  {
   "cell_type": "code",
   "execution_count": 69,
   "id": "655a85e1",
   "metadata": {},
   "outputs": [
    {
     "data": {
      "text/plain": [
       "['1.Deauth_NZVAR_33.csv',\n",
       " '2.Disas_NZVAR_33.csv',\n",
       " '3.(Re)Assoc_NZVAR_33.csv',\n",
       " '4.Rogue_AP_NZVAR_33.csv',\n",
       " '5.Krack_NZVAR_33.csv',\n",
       " '6.Kr00k_NZVAR_33.csv',\n",
       " '7.SSH_NZVAR_33.csv',\n",
       " '8.Botnet_NZVAR_33.csv',\n",
       " '9.Malware_NZVAR_33.csv',\n",
       " '10.SQL_Injection_NZVAR_33.csv',\n",
       " '11.SSDP_NZVAR_33.csv',\n",
       " '12.Evil_Twin_NZVAR_33.csv',\n",
       " '13.Website_spoofing_NZVAR_33.csv']"
      ]
     },
     "execution_count": 69,
     "metadata": {},
     "output_type": "execute_result"
    }
   ],
   "source": [
    "rootpath=\"dataset/\"\n",
    "listfiles = [f for f in listdir(rootpath) if isfile(join(rootpath, f))]\n",
    "listfiles=natsorted(listfiles)\n",
    "listfiles"
   ]
  },
  {
   "cell_type": "code",
   "execution_count": 70,
   "id": "d20bf5cf",
   "metadata": {},
   "outputs": [
    {
     "name": "stdout",
     "output_type": "stream",
     "text": [
      "(1626469, 33)\n",
      "(1626469, 33)\n",
      "(2013716, 33)\n",
      "(3640185, 33)\n",
      "(1843938, 33)\n",
      "(5484123, 33)\n",
      "(1973185, 33)\n",
      "(7457308, 33)\n",
      "(1438488, 33)\n",
      "(8895796, 33)\n",
      "(2900440, 33)\n",
      "(11796236, 33)\n",
      "(2440570, 33)\n",
      "(14236806, 33)\n",
      "(3226060, 33)\n",
      "(17462866, 33)\n",
      "(2312760, 33)\n",
      "(19775626, 33)\n",
      "(2598356, 33)\n",
      "(22373982, 33)\n",
      "(8141644, 33)\n",
      "(30515626, 33)\n",
      "(3778706, 33)\n",
      "(34294332, 33)\n",
      "(2668567, 33)\n",
      "(36962899, 33)\n"
     ]
    }
   ],
   "source": [
    "df = pd.DataFrame()\n",
    "for file in listfiles:\n",
    "    df_temp = pd.read_csv (rootpath+file, low_memory=False, header=None)\n",
    "    print(df_temp.shape)\n",
    "    #print(df_temp.columns)\n",
    "    df=pd.concat([df,df_temp])\n",
    "    print(df.shape)\n"
   ]
  },
  {
   "cell_type": "code",
   "execution_count": 71,
   "id": "9cc1db7b",
   "metadata": {},
   "outputs": [],
   "source": [
    "df.columns=['Label', 'frame.len', 'frame.number', 'frame.time', 'frame.time_delta', \n",
    "            'frame.time_delta_displayed', 'frame.time_epoch', 'frame.time_relative', \n",
    "            'radiotap.datarate', 'radiotap.dbm_antsignal', 'radiotap.length', 'radiotap.mactime', \n",
    "            'radiotap.present.tsft', 'radiotap.timestamp.ts', 'wlan.duration', 'wlan.fc.ds', 'wlan.fc.frag', \n",
    "            'wlan.fc.moredata', 'wlan.fc.order', 'wlan.fc.protected', 'wlan.fc.pwrmgt', 'wlan.fc.retry', \n",
    "            'wlan.fc.subtype', 'wlan.fc.type', 'wlan.ra', 'wlan.ta', 'wlan_radio.data_rate', 'wlan_radio.duration', \n",
    "            'wlan_radio.end_tsf', 'wlan_radio.phy', 'wlan_radio.signal_dbm', 'wlan_radio.start_tsf', 'wlan_radio.timestamp']"
   ]
  },
  {
   "cell_type": "code",
   "execution_count": 72,
   "id": "936d734b",
   "metadata": {},
   "outputs": [
    {
     "data": {
      "text/html": [
       "<div>\n",
       "<style scoped>\n",
       "    .dataframe tbody tr th:only-of-type {\n",
       "        vertical-align: middle;\n",
       "    }\n",
       "\n",
       "    .dataframe tbody tr th {\n",
       "        vertical-align: top;\n",
       "    }\n",
       "\n",
       "    .dataframe thead th {\n",
       "        text-align: right;\n",
       "    }\n",
       "</style>\n",
       "<table border=\"1\" class=\"dataframe\">\n",
       "  <thead>\n",
       "    <tr style=\"text-align: right;\">\n",
       "      <th></th>\n",
       "      <th>Label</th>\n",
       "      <th>frame.len</th>\n",
       "      <th>frame.number</th>\n",
       "      <th>frame.time</th>\n",
       "      <th>frame.time_delta</th>\n",
       "      <th>frame.time_delta_displayed</th>\n",
       "      <th>frame.time_epoch</th>\n",
       "      <th>frame.time_relative</th>\n",
       "      <th>radiotap.datarate</th>\n",
       "      <th>radiotap.dbm_antsignal</th>\n",
       "      <th>...</th>\n",
       "      <th>wlan.fc.type</th>\n",
       "      <th>wlan.ra</th>\n",
       "      <th>wlan.ta</th>\n",
       "      <th>wlan_radio.data_rate</th>\n",
       "      <th>wlan_radio.duration</th>\n",
       "      <th>wlan_radio.end_tsf</th>\n",
       "      <th>wlan_radio.phy</th>\n",
       "      <th>wlan_radio.signal_dbm</th>\n",
       "      <th>wlan_radio.start_tsf</th>\n",
       "      <th>wlan_radio.timestamp</th>\n",
       "    </tr>\n",
       "  </thead>\n",
       "  <tbody>\n",
       "    <tr>\n",
       "      <th>0</th>\n",
       "      <td>Normal</td>\n",
       "      <td>342.0</td>\n",
       "      <td>1.0</td>\n",
       "      <td>Dec 18- 2020 17:42:58.482600000 GTB Standard Time</td>\n",
       "      <td>0.000000</td>\n",
       "      <td>0.000000</td>\n",
       "      <td>1.608306e+09</td>\n",
       "      <td>0.000000</td>\n",
       "      <td>6.0</td>\n",
       "      <td>-34-37-34</td>\n",
       "      <td>...</td>\n",
       "      <td>0.0</td>\n",
       "      <td>ff:ff:ff:ff:ff:ff</td>\n",
       "      <td>0c:9d:92:54:fe:34</td>\n",
       "      <td>6.0</td>\n",
       "      <td>408.0</td>\n",
       "      <td>1.161400e+10</td>\n",
       "      <td>5</td>\n",
       "      <td>-34.0</td>\n",
       "      <td>1.161399e+10</td>\n",
       "      <td>1.161400e+10</td>\n",
       "    </tr>\n",
       "    <tr>\n",
       "      <th>1</th>\n",
       "      <td>Normal</td>\n",
       "      <td>342.0</td>\n",
       "      <td>2.0</td>\n",
       "      <td>Dec 18- 2020 17:42:58.585010000 GTB Standard Time</td>\n",
       "      <td>0.102410</td>\n",
       "      <td>0.102410</td>\n",
       "      <td>1.608306e+09</td>\n",
       "      <td>0.102410</td>\n",
       "      <td>6.0</td>\n",
       "      <td>-34-38-34</td>\n",
       "      <td>...</td>\n",
       "      <td>0.0</td>\n",
       "      <td>ff:ff:ff:ff:ff:ff</td>\n",
       "      <td>0c:9d:92:54:fe:34</td>\n",
       "      <td>6.0</td>\n",
       "      <td>408.0</td>\n",
       "      <td>1.161410e+10</td>\n",
       "      <td>5</td>\n",
       "      <td>-34.0</td>\n",
       "      <td>1.161410e+10</td>\n",
       "      <td>1.161410e+10</td>\n",
       "    </tr>\n",
       "    <tr>\n",
       "      <th>2</th>\n",
       "      <td>Normal</td>\n",
       "      <td>136.0</td>\n",
       "      <td>3.0</td>\n",
       "      <td>Dec 18- 2020 17:42:58.629796000 GTB Standard Time</td>\n",
       "      <td>0.044786</td>\n",
       "      <td>0.044786</td>\n",
       "      <td>1.608306e+09</td>\n",
       "      <td>0.147196</td>\n",
       "      <td>6.0</td>\n",
       "      <td>-34-39-34</td>\n",
       "      <td>...</td>\n",
       "      <td>2.0</td>\n",
       "      <td>ff:ff:ff:ff:ff:ff</td>\n",
       "      <td>0c:9d:92:54:fe:34</td>\n",
       "      <td>6.0</td>\n",
       "      <td>132.0</td>\n",
       "      <td>1.161414e+10</td>\n",
       "      <td>5</td>\n",
       "      <td>-34.0</td>\n",
       "      <td>1.161414e+10</td>\n",
       "      <td>1.161414e+10</td>\n",
       "    </tr>\n",
       "    <tr>\n",
       "      <th>3</th>\n",
       "      <td>Normal</td>\n",
       "      <td>154.0</td>\n",
       "      <td>4.0</td>\n",
       "      <td>Dec 18- 2020 17:42:58.637295000 GTB Standard Time</td>\n",
       "      <td>0.007499</td>\n",
       "      <td>0.007499</td>\n",
       "      <td>1.608306e+09</td>\n",
       "      <td>0.154695</td>\n",
       "      <td>6.0</td>\n",
       "      <td>-34-39-34</td>\n",
       "      <td>...</td>\n",
       "      <td>2.0</td>\n",
       "      <td>ff:ff:ff:ff:ff:ff</td>\n",
       "      <td>0c:9d:92:54:fe:34</td>\n",
       "      <td>6.0</td>\n",
       "      <td>156.0</td>\n",
       "      <td>1.161415e+10</td>\n",
       "      <td>5</td>\n",
       "      <td>-34.0</td>\n",
       "      <td>1.161415e+10</td>\n",
       "      <td>1.161415e+10</td>\n",
       "    </tr>\n",
       "    <tr>\n",
       "      <th>4</th>\n",
       "      <td>Normal</td>\n",
       "      <td>342.0</td>\n",
       "      <td>5.0</td>\n",
       "      <td>Dec 18- 2020 17:42:58.687421000 GTB Standard Time</td>\n",
       "      <td>0.050126</td>\n",
       "      <td>0.050126</td>\n",
       "      <td>1.608306e+09</td>\n",
       "      <td>0.204821</td>\n",
       "      <td>6.0</td>\n",
       "      <td>-35-40-35</td>\n",
       "      <td>...</td>\n",
       "      <td>0.0</td>\n",
       "      <td>ff:ff:ff:ff:ff:ff</td>\n",
       "      <td>0c:9d:92:54:fe:34</td>\n",
       "      <td>6.0</td>\n",
       "      <td>408.0</td>\n",
       "      <td>1.161420e+10</td>\n",
       "      <td>5</td>\n",
       "      <td>-35.0</td>\n",
       "      <td>1.161420e+10</td>\n",
       "      <td>1.161420e+10</td>\n",
       "    </tr>\n",
       "  </tbody>\n",
       "</table>\n",
       "<p>5 rows × 33 columns</p>\n",
       "</div>"
      ],
      "text/plain": [
       "    Label  frame.len  frame.number  \\\n",
       "0  Normal      342.0           1.0   \n",
       "1  Normal      342.0           2.0   \n",
       "2  Normal      136.0           3.0   \n",
       "3  Normal      154.0           4.0   \n",
       "4  Normal      342.0           5.0   \n",
       "\n",
       "                                          frame.time  frame.time_delta  \\\n",
       "0  Dec 18- 2020 17:42:58.482600000 GTB Standard Time          0.000000   \n",
       "1  Dec 18- 2020 17:42:58.585010000 GTB Standard Time          0.102410   \n",
       "2  Dec 18- 2020 17:42:58.629796000 GTB Standard Time          0.044786   \n",
       "3  Dec 18- 2020 17:42:58.637295000 GTB Standard Time          0.007499   \n",
       "4  Dec 18- 2020 17:42:58.687421000 GTB Standard Time          0.050126   \n",
       "\n",
       "   frame.time_delta_displayed  frame.time_epoch  frame.time_relative  \\\n",
       "0                    0.000000      1.608306e+09             0.000000   \n",
       "1                    0.102410      1.608306e+09             0.102410   \n",
       "2                    0.044786      1.608306e+09             0.147196   \n",
       "3                    0.007499      1.608306e+09             0.154695   \n",
       "4                    0.050126      1.608306e+09             0.204821   \n",
       "\n",
       "   radiotap.datarate radiotap.dbm_antsignal  ...  wlan.fc.type  \\\n",
       "0                6.0              -34-37-34  ...           0.0   \n",
       "1                6.0              -34-38-34  ...           0.0   \n",
       "2                6.0              -34-39-34  ...           2.0   \n",
       "3                6.0              -34-39-34  ...           2.0   \n",
       "4                6.0              -35-40-35  ...           0.0   \n",
       "\n",
       "             wlan.ra            wlan.ta  wlan_radio.data_rate  \\\n",
       "0  ff:ff:ff:ff:ff:ff  0c:9d:92:54:fe:34                   6.0   \n",
       "1  ff:ff:ff:ff:ff:ff  0c:9d:92:54:fe:34                   6.0   \n",
       "2  ff:ff:ff:ff:ff:ff  0c:9d:92:54:fe:34                   6.0   \n",
       "3  ff:ff:ff:ff:ff:ff  0c:9d:92:54:fe:34                   6.0   \n",
       "4  ff:ff:ff:ff:ff:ff  0c:9d:92:54:fe:34                   6.0   \n",
       "\n",
       "   wlan_radio.duration wlan_radio.end_tsf  wlan_radio.phy  \\\n",
       "0                408.0       1.161400e+10               5   \n",
       "1                408.0       1.161410e+10               5   \n",
       "2                132.0       1.161414e+10               5   \n",
       "3                156.0       1.161415e+10               5   \n",
       "4                408.0       1.161420e+10               5   \n",
       "\n",
       "   wlan_radio.signal_dbm  wlan_radio.start_tsf  wlan_radio.timestamp  \n",
       "0                  -34.0          1.161399e+10          1.161400e+10  \n",
       "1                  -34.0          1.161410e+10          1.161410e+10  \n",
       "2                  -34.0          1.161414e+10          1.161414e+10  \n",
       "3                  -34.0          1.161415e+10          1.161415e+10  \n",
       "4                  -35.0          1.161420e+10          1.161420e+10  \n",
       "\n",
       "[5 rows x 33 columns]"
      ]
     },
     "execution_count": 72,
     "metadata": {},
     "output_type": "execute_result"
    }
   ],
   "source": [
    "df.head()"
   ]
  },
  {
   "cell_type": "markdown",
   "id": "f00d0004",
   "metadata": {},
   "source": [
    "### Exploratory Analysis"
   ]
  },
  {
   "cell_type": "code",
   "execution_count": 132,
   "id": "2a943da2",
   "metadata": {},
   "outputs": [
    {
     "name": "stdout",
     "output_type": "stream",
     "text": [
      "Label 16\n",
      "frame.len 2667\n",
      "frame.number 8141521\n",
      "frame.time 36757552\n",
      "frame.time_delta 44815\n",
      "frame.time_delta_displayed 44815\n",
      "frame.time_epoch 4203308\n",
      "frame.time_relative 35599230\n",
      "radiotap.datarate 32\n",
      "radiotap.dbm_antsignal 2188\n",
      "radiotap.length 3\n",
      "radiotap.mactime 19218034\n",
      "radiotap.present.tsft 2\n",
      "radiotap.timestamp.ts 23783504\n",
      "wlan.duration 4506\n",
      "wlan.fc.ds 4\n",
      "wlan.fc.frag 2\n",
      "wlan.fc.moredata 2\n",
      "wlan.fc.order 2\n",
      "wlan.fc.protected 2\n",
      "wlan.fc.pwrmgt 2\n",
      "wlan.fc.retry 2\n",
      "wlan.fc.subtype 29\n",
      "wlan.fc.type 3\n",
      "wlan.ra 9834\n",
      "wlan.ta 12603\n",
      "wlan_radio.data_rate 36\n",
      "wlan_radio.duration 1458\n",
      "wlan_radio.end_tsf 19218034\n",
      "wlan_radio.phy 8\n",
      "wlan_radio.signal_dbm 69\n",
      "wlan_radio.start_tsf 19217612\n",
      "wlan_radio.timestamp 19218034\n"
     ]
    }
   ],
   "source": [
    "for i in df2:\n",
    "    print(i+\" \"+str(len(df2[i].unique())))\n",
    "    #print(len(df2[i].unique()))"
   ]
  },
  {
   "cell_type": "code",
   "execution_count": 74,
   "id": "8b457558",
   "metadata": {},
   "outputs": [
    {
     "data": {
      "text/plain": [
       "array(['Normal', 'Deauth', 'Disas', '(Re)Assoc', nan, 'RogueAP', 'Krack',\n",
       "       'Kr00k', 'Kr00K', 'SSH', 'Botnet', 'Malware', 'SQL_Injection',\n",
       "       'SSDP', 'SDDP', 'Evil_Twin', 'Website_spoofing'], dtype=object)"
      ]
     },
     "execution_count": 74,
     "metadata": {},
     "output_type": "execute_result"
    }
   ],
   "source": [
    "df.iloc[:,0].unique()"
   ]
  },
  {
   "cell_type": "code",
   "execution_count": 75,
   "id": "b5a12e68",
   "metadata": {},
   "outputs": [
    {
     "data": {
      "text/plain": [
       "Label                              310\n",
       "frame.len                          155\n",
       "frame.number                       155\n",
       "frame.time                         155\n",
       "frame.time_delta                   155\n",
       "frame.time_delta_displayed         155\n",
       "frame.time_epoch                   155\n",
       "frame.time_relative                155\n",
       "radiotap.datarate             17146816\n",
       "radiotap.dbm_antsignal             155\n",
       "radiotap.length                    155\n",
       "radiotap.mactime              17742452\n",
       "radiotap.present.tsft              155\n",
       "radiotap.timestamp.ts              155\n",
       "wlan.duration                      212\n",
       "wlan.fc.ds                         155\n",
       "wlan.fc.frag                       155\n",
       "wlan.fc.moredata                   155\n",
       "wlan.fc.order                      155\n",
       "wlan.fc.protected                  155\n",
       "wlan.fc.pwrmgt                     155\n",
       "wlan.fc.retry                      155\n",
       "wlan.fc.subtype                    148\n",
       "wlan.fc.type                       155\n",
       "wlan.ra                            155\n",
       "wlan.ta                        6286884\n",
       "wlan_radio.data_rate               155\n",
       "wlan_radio.duration                155\n",
       "wlan_radio.end_tsf            17742452\n",
       "wlan_radio.phy                     132\n",
       "wlan_radio.signal_dbm              155\n",
       "wlan_radio.start_tsf          17742452\n",
       "wlan_radio.timestamp          17742452\n",
       "dtype: int64"
      ]
     },
     "execution_count": 75,
     "metadata": {},
     "output_type": "execute_result"
    }
   ],
   "source": [
    "nan_values=df.isna().sum()\n",
    "nan_values"
   ]
  },
  {
   "cell_type": "markdown",
   "id": "13cbc933",
   "metadata": {},
   "source": [
    "### Removing Rows with nan as labels"
   ]
  },
  {
   "cell_type": "code",
   "execution_count": 76,
   "id": "21590784",
   "metadata": {},
   "outputs": [
    {
     "data": {
      "text/plain": [
       "(36962589, 33)"
      ]
     },
     "execution_count": 76,
     "metadata": {},
     "output_type": "execute_result"
    }
   ],
   "source": [
    "df = df[df['Label'].notna()]\n",
    "df.shape"
   ]
  },
  {
   "cell_type": "code",
   "execution_count": 77,
   "id": "9f61b216",
   "metadata": {},
   "outputs": [
    {
     "data": {
      "text/plain": [
       "Label                                0\n",
       "frame.len                            2\n",
       "frame.number                         2\n",
       "frame.time                           2\n",
       "frame.time_delta                     2\n",
       "frame.time_delta_displayed           2\n",
       "frame.time_epoch                     2\n",
       "frame.time_relative                  2\n",
       "radiotap.datarate             17146506\n",
       "radiotap.dbm_antsignal               2\n",
       "radiotap.length                      2\n",
       "radiotap.mactime              17742142\n",
       "radiotap.present.tsft                2\n",
       "radiotap.timestamp.ts                2\n",
       "wlan.duration                       59\n",
       "wlan.fc.ds                           2\n",
       "wlan.fc.frag                         2\n",
       "wlan.fc.moredata                     2\n",
       "wlan.fc.order                        2\n",
       "wlan.fc.protected                    2\n",
       "wlan.fc.pwrmgt                       2\n",
       "wlan.fc.retry                        2\n",
       "wlan.fc.subtype                      2\n",
       "wlan.fc.type                         2\n",
       "wlan.ra                              2\n",
       "wlan.ta                        6286731\n",
       "wlan_radio.data_rate                 2\n",
       "wlan_radio.duration                  2\n",
       "wlan_radio.end_tsf            17742142\n",
       "wlan_radio.phy                       1\n",
       "wlan_radio.signal_dbm                2\n",
       "wlan_radio.start_tsf          17742142\n",
       "wlan_radio.timestamp          17742142\n",
       "dtype: int64"
      ]
     },
     "execution_count": 77,
     "metadata": {},
     "output_type": "execute_result"
    }
   ],
   "source": [
    "nan_values=df.isna().sum()\n",
    "nan_values"
   ]
  },
  {
   "cell_type": "code",
   "execution_count": 78,
   "id": "afb317d2",
   "metadata": {},
   "outputs": [
    {
     "data": {
      "text/plain": [
       "(36962587, 33)"
      ]
     },
     "execution_count": 78,
     "metadata": {},
     "output_type": "execute_result"
    }
   ],
   "source": [
    "df2 = df[df['frame.len'].notna()]\n",
    "df2.shape"
   ]
  },
  {
   "cell_type": "code",
   "execution_count": 79,
   "id": "312036c0",
   "metadata": {},
   "outputs": [
    {
     "data": {
      "text/plain": [
       "Label                                0\n",
       "frame.len                            0\n",
       "frame.number                         0\n",
       "frame.time                           0\n",
       "frame.time_delta                     0\n",
       "frame.time_delta_displayed           0\n",
       "frame.time_epoch                     0\n",
       "frame.time_relative                  0\n",
       "radiotap.datarate             17146504\n",
       "radiotap.dbm_antsignal               0\n",
       "radiotap.length                      0\n",
       "radiotap.mactime              17742140\n",
       "radiotap.present.tsft                0\n",
       "radiotap.timestamp.ts                0\n",
       "wlan.duration                       57\n",
       "wlan.fc.ds                           0\n",
       "wlan.fc.frag                         0\n",
       "wlan.fc.moredata                     0\n",
       "wlan.fc.order                        0\n",
       "wlan.fc.protected                    0\n",
       "wlan.fc.pwrmgt                       0\n",
       "wlan.fc.retry                        0\n",
       "wlan.fc.subtype                      0\n",
       "wlan.fc.type                         0\n",
       "wlan.ra                              0\n",
       "wlan.ta                        6286729\n",
       "wlan_radio.data_rate                 0\n",
       "wlan_radio.duration                  0\n",
       "wlan_radio.end_tsf            17742140\n",
       "wlan_radio.phy                       0\n",
       "wlan_radio.signal_dbm                0\n",
       "wlan_radio.start_tsf          17742140\n",
       "wlan_radio.timestamp          17742140\n",
       "dtype: int64"
      ]
     },
     "execution_count": 79,
     "metadata": {},
     "output_type": "execute_result"
    }
   ],
   "source": [
    "nan_values2=df2.isna().sum()\n",
    "nan_values2"
   ]
  },
  {
   "cell_type": "markdown",
   "id": "c7dc8c1a",
   "metadata": {},
   "source": [
    "### Check each of the columns to see the nature of the data"
   ]
  },
  {
   "cell_type": "code",
   "execution_count": 80,
   "id": "b31b99e6",
   "metadata": {},
   "outputs": [
    {
     "data": {
      "text/plain": [
       "0    Normal\n",
       "1    Normal\n",
       "2    Normal\n",
       "3    Normal\n",
       "4    Normal\n",
       "Name: Label, dtype: object"
      ]
     },
     "execution_count": 80,
     "metadata": {},
     "output_type": "execute_result"
    }
   ],
   "source": [
    "df.iloc[:,0].head()"
   ]
  },
  {
   "cell_type": "code",
   "execution_count": 81,
   "id": "a35b59d2",
   "metadata": {},
   "outputs": [
    {
     "data": {
      "text/plain": [
       "0    342.0\n",
       "1    342.0\n",
       "2    136.0\n",
       "3    154.0\n",
       "4    342.0\n",
       "Name: frame.len, dtype: float64"
      ]
     },
     "execution_count": 81,
     "metadata": {},
     "output_type": "execute_result"
    }
   ],
   "source": [
    "df.iloc[:,1].head()"
   ]
  },
  {
   "cell_type": "code",
   "execution_count": 82,
   "id": "37f68e4c",
   "metadata": {},
   "outputs": [
    {
     "data": {
      "text/plain": [
       "0    1.0\n",
       "1    2.0\n",
       "2    3.0\n",
       "3    4.0\n",
       "4    5.0\n",
       "Name: frame.number, dtype: float64"
      ]
     },
     "execution_count": 82,
     "metadata": {},
     "output_type": "execute_result"
    }
   ],
   "source": [
    "df.iloc[:,2].head()"
   ]
  },
  {
   "cell_type": "code",
   "execution_count": 83,
   "id": "b1d2545a",
   "metadata": {},
   "outputs": [
    {
     "data": {
      "text/plain": [
       "0    Dec 18- 2020 17:42:58.482600000 GTB Standard Time\n",
       "1    Dec 18- 2020 17:42:58.585010000 GTB Standard Time\n",
       "2    Dec 18- 2020 17:42:58.629796000 GTB Standard Time\n",
       "3    Dec 18- 2020 17:42:58.637295000 GTB Standard Time\n",
       "4    Dec 18- 2020 17:42:58.687421000 GTB Standard Time\n",
       "Name: frame.time, dtype: object"
      ]
     },
     "execution_count": 83,
     "metadata": {},
     "output_type": "execute_result"
    }
   ],
   "source": [
    "df.iloc[:,3].head()"
   ]
  },
  {
   "cell_type": "code",
   "execution_count": 84,
   "id": "e2980d94",
   "metadata": {},
   "outputs": [
    {
     "data": {
      "text/plain": [
       "0    0.000000\n",
       "1    0.102410\n",
       "2    0.044786\n",
       "3    0.007499\n",
       "4    0.050126\n",
       "Name: frame.time_delta, dtype: float64"
      ]
     },
     "execution_count": 84,
     "metadata": {},
     "output_type": "execute_result"
    }
   ],
   "source": [
    "df.iloc[:,4].head()"
   ]
  },
  {
   "cell_type": "code",
   "execution_count": 85,
   "id": "a770d158",
   "metadata": {},
   "outputs": [
    {
     "data": {
      "text/plain": [
       "0    0.000000\n",
       "1    0.102410\n",
       "2    0.044786\n",
       "3    0.007499\n",
       "4    0.050126\n",
       "Name: frame.time_delta_displayed, dtype: float64"
      ]
     },
     "execution_count": 85,
     "metadata": {},
     "output_type": "execute_result"
    }
   ],
   "source": [
    "df.iloc[:,5].head()"
   ]
  },
  {
   "cell_type": "code",
   "execution_count": 86,
   "id": "c1f2643a",
   "metadata": {},
   "outputs": [
    {
     "data": {
      "text/plain": [
       "0    1.608306e+09\n",
       "1    1.608306e+09\n",
       "2    1.608306e+09\n",
       "3    1.608306e+09\n",
       "4    1.608306e+09\n",
       "Name: frame.time_epoch, dtype: float64"
      ]
     },
     "execution_count": 86,
     "metadata": {},
     "output_type": "execute_result"
    }
   ],
   "source": [
    "df.iloc[:,6].head()"
   ]
  },
  {
   "cell_type": "code",
   "execution_count": 87,
   "id": "454a83f2",
   "metadata": {},
   "outputs": [
    {
     "data": {
      "text/plain": [
       "0    0.000000\n",
       "1    0.102410\n",
       "2    0.147196\n",
       "3    0.154695\n",
       "4    0.204821\n",
       "Name: frame.time_relative, dtype: float64"
      ]
     },
     "execution_count": 87,
     "metadata": {},
     "output_type": "execute_result"
    }
   ],
   "source": [
    "df.iloc[:,7].head()"
   ]
  },
  {
   "cell_type": "code",
   "execution_count": 88,
   "id": "25298731",
   "metadata": {},
   "outputs": [
    {
     "data": {
      "text/plain": [
       "0    6.0\n",
       "1    6.0\n",
       "2    6.0\n",
       "3    6.0\n",
       "4    6.0\n",
       "Name: radiotap.datarate, dtype: float64"
      ]
     },
     "execution_count": 88,
     "metadata": {},
     "output_type": "execute_result"
    }
   ],
   "source": [
    "df.iloc[:,8].head()"
   ]
  },
  {
   "cell_type": "code",
   "execution_count": 89,
   "id": "e34d7b74",
   "metadata": {},
   "outputs": [
    {
     "data": {
      "text/plain": [
       "0    -34-37-34\n",
       "1    -34-38-34\n",
       "2    -34-39-34\n",
       "3    -34-39-34\n",
       "4    -35-40-35\n",
       "Name: radiotap.dbm_antsignal, dtype: object"
      ]
     },
     "execution_count": 89,
     "metadata": {},
     "output_type": "execute_result"
    }
   ],
   "source": [
    "df.iloc[:,9].head()"
   ]
  },
  {
   "cell_type": "code",
   "execution_count": 90,
   "id": "385d1312",
   "metadata": {},
   "outputs": [
    {
     "data": {
      "text/plain": [
       "0    56.0\n",
       "1    56.0\n",
       "2    56.0\n",
       "3    56.0\n",
       "4    56.0\n",
       "Name: radiotap.length, dtype: float64"
      ]
     },
     "execution_count": 90,
     "metadata": {},
     "output_type": "execute_result"
    }
   ],
   "source": [
    "df.iloc[:,10].head()"
   ]
  },
  {
   "cell_type": "code",
   "execution_count": 91,
   "id": "91208075",
   "metadata": {},
   "outputs": [
    {
     "data": {
      "text/plain": [
       "0    1.161400e+10\n",
       "1    1.161410e+10\n",
       "2    1.161414e+10\n",
       "3    1.161415e+10\n",
       "4    1.161420e+10\n",
       "Name: radiotap.mactime, dtype: float64"
      ]
     },
     "execution_count": 91,
     "metadata": {},
     "output_type": "execute_result"
    }
   ],
   "source": [
    "df.iloc[:,11].head()"
   ]
  },
  {
   "cell_type": "code",
   "execution_count": 92,
   "id": "3b782b42",
   "metadata": {},
   "outputs": [
    {
     "data": {
      "text/plain": [
       "0    1-0-0\n",
       "1    1-0-0\n",
       "2    1-0-0\n",
       "3    1-0-0\n",
       "4    1-0-0\n",
       "Name: radiotap.present.tsft, dtype: object"
      ]
     },
     "execution_count": 92,
     "metadata": {},
     "output_type": "execute_result"
    }
   ],
   "source": [
    "df.iloc[:,12].head()"
   ]
  },
  {
   "cell_type": "code",
   "execution_count": 93,
   "id": "d680cb10",
   "metadata": {},
   "outputs": [
    {
     "data": {
      "text/plain": [
       "0    3.024061e+09\n",
       "1    3.024163e+09\n",
       "2    3.024208e+09\n",
       "3    3.024215e+09\n",
       "4    3.024265e+09\n",
       "Name: radiotap.timestamp.ts, dtype: float64"
      ]
     },
     "execution_count": 93,
     "metadata": {},
     "output_type": "execute_result"
    }
   ],
   "source": [
    "df.iloc[:,13].head()"
   ]
  },
  {
   "cell_type": "code",
   "execution_count": 94,
   "id": "c0bd2992",
   "metadata": {},
   "outputs": [
    {
     "data": {
      "text/plain": [
       "0    0.0\n",
       "1    0.0\n",
       "2    0.0\n",
       "3    0.0\n",
       "4    0.0\n",
       "Name: wlan.duration, dtype: float64"
      ]
     },
     "execution_count": 94,
     "metadata": {},
     "output_type": "execute_result"
    }
   ],
   "source": [
    "df.iloc[:,14].head()"
   ]
  },
  {
   "cell_type": "code",
   "execution_count": 95,
   "id": "2ec59fde",
   "metadata": {},
   "outputs": [
    {
     "data": {
      "text/plain": [
       "0    0x00000000\n",
       "1    0x00000000\n",
       "2    0x00000002\n",
       "3    0x00000002\n",
       "4    0x00000000\n",
       "Name: wlan.fc.ds, dtype: object"
      ]
     },
     "execution_count": 95,
     "metadata": {},
     "output_type": "execute_result"
    }
   ],
   "source": [
    "df.iloc[:,15].head()"
   ]
  },
  {
   "cell_type": "code",
   "execution_count": 96,
   "id": "bfa9348a",
   "metadata": {},
   "outputs": [
    {
     "data": {
      "text/plain": [
       "0    0.0\n",
       "1    0.0\n",
       "2    0.0\n",
       "3    0.0\n",
       "4    0.0\n",
       "Name: wlan.fc.frag, dtype: float64"
      ]
     },
     "execution_count": 96,
     "metadata": {},
     "output_type": "execute_result"
    }
   ],
   "source": [
    "df.iloc[:,16].head()"
   ]
  },
  {
   "cell_type": "code",
   "execution_count": 97,
   "id": "2efe8432",
   "metadata": {},
   "outputs": [
    {
     "data": {
      "text/plain": [
       "0    0.0\n",
       "1    0.0\n",
       "2    0.0\n",
       "3    0.0\n",
       "4    0.0\n",
       "Name: wlan.fc.moredata, dtype: float64"
      ]
     },
     "execution_count": 97,
     "metadata": {},
     "output_type": "execute_result"
    }
   ],
   "source": [
    "df.iloc[:,17].head()"
   ]
  },
  {
   "cell_type": "code",
   "execution_count": 98,
   "id": "79e5ad5f",
   "metadata": {},
   "outputs": [
    {
     "data": {
      "text/plain": [
       "0    0.0\n",
       "1    0.0\n",
       "2    0.0\n",
       "3    0.0\n",
       "4    0.0\n",
       "Name: wlan.fc.order, dtype: float64"
      ]
     },
     "execution_count": 98,
     "metadata": {},
     "output_type": "execute_result"
    }
   ],
   "source": [
    "df.iloc[:,18].head()"
   ]
  },
  {
   "cell_type": "code",
   "execution_count": 99,
   "id": "6b4d3152",
   "metadata": {},
   "outputs": [
    {
     "data": {
      "text/plain": [
       "0    0.0\n",
       "1    0.0\n",
       "2    1.0\n",
       "3    1.0\n",
       "4    0.0\n",
       "Name: wlan.fc.protected, dtype: float64"
      ]
     },
     "execution_count": 99,
     "metadata": {},
     "output_type": "execute_result"
    }
   ],
   "source": [
    "df.iloc[:,19].head()"
   ]
  },
  {
   "cell_type": "code",
   "execution_count": 100,
   "id": "4b77027a",
   "metadata": {},
   "outputs": [
    {
     "data": {
      "text/plain": [
       "0    0.0\n",
       "1    0.0\n",
       "2    0.0\n",
       "3    0.0\n",
       "4    0.0\n",
       "Name: wlan.fc.pwrmgt, dtype: float64"
      ]
     },
     "execution_count": 100,
     "metadata": {},
     "output_type": "execute_result"
    }
   ],
   "source": [
    "df.iloc[:,20].head()"
   ]
  },
  {
   "cell_type": "code",
   "execution_count": 101,
   "id": "bca54e20",
   "metadata": {},
   "outputs": [
    {
     "data": {
      "text/plain": [
       "0    0.0\n",
       "1    0.0\n",
       "2    0.0\n",
       "3    0.0\n",
       "4    0.0\n",
       "Name: wlan.fc.retry, dtype: float64"
      ]
     },
     "execution_count": 101,
     "metadata": {},
     "output_type": "execute_result"
    }
   ],
   "source": [
    "df.iloc[:,21].head()"
   ]
  },
  {
   "cell_type": "code",
   "execution_count": 102,
   "id": "7c133da9",
   "metadata": {},
   "outputs": [
    {
     "data": {
      "text/plain": [
       "0    8.0\n",
       "1    8.0\n",
       "2    0.0\n",
       "3    0.0\n",
       "4    8.0\n",
       "Name: wlan.fc.subtype, dtype: object"
      ]
     },
     "execution_count": 102,
     "metadata": {},
     "output_type": "execute_result"
    }
   ],
   "source": [
    "df.iloc[:,22].head()"
   ]
  },
  {
   "cell_type": "code",
   "execution_count": 103,
   "id": "8d7fbb78",
   "metadata": {},
   "outputs": [
    {
     "data": {
      "text/plain": [
       "0    0.0\n",
       "1    0.0\n",
       "2    2.0\n",
       "3    2.0\n",
       "4    0.0\n",
       "Name: wlan.fc.type, dtype: float64"
      ]
     },
     "execution_count": 103,
     "metadata": {},
     "output_type": "execute_result"
    }
   ],
   "source": [
    "df.iloc[:,23].head()"
   ]
  },
  {
   "cell_type": "code",
   "execution_count": 104,
   "id": "0c208d6f",
   "metadata": {},
   "outputs": [
    {
     "data": {
      "text/plain": [
       "0    ff:ff:ff:ff:ff:ff\n",
       "1    ff:ff:ff:ff:ff:ff\n",
       "2    ff:ff:ff:ff:ff:ff\n",
       "3    ff:ff:ff:ff:ff:ff\n",
       "4    ff:ff:ff:ff:ff:ff\n",
       "Name: wlan.ra, dtype: object"
      ]
     },
     "execution_count": 104,
     "metadata": {},
     "output_type": "execute_result"
    }
   ],
   "source": [
    "df.iloc[:,24].head()"
   ]
  },
  {
   "cell_type": "code",
   "execution_count": 105,
   "id": "09020551",
   "metadata": {},
   "outputs": [
    {
     "data": {
      "text/plain": [
       "0    0c:9d:92:54:fe:34\n",
       "1    0c:9d:92:54:fe:34\n",
       "2    0c:9d:92:54:fe:34\n",
       "3    0c:9d:92:54:fe:34\n",
       "4    0c:9d:92:54:fe:34\n",
       "Name: wlan.ta, dtype: object"
      ]
     },
     "execution_count": 105,
     "metadata": {},
     "output_type": "execute_result"
    }
   ],
   "source": [
    "df.iloc[:,25].head()"
   ]
  },
  {
   "cell_type": "code",
   "execution_count": 106,
   "id": "e29726c8",
   "metadata": {},
   "outputs": [
    {
     "data": {
      "text/plain": [
       "0    6.0\n",
       "1    6.0\n",
       "2    6.0\n",
       "3    6.0\n",
       "4    6.0\n",
       "Name: wlan_radio.data_rate, dtype: float64"
      ]
     },
     "execution_count": 106,
     "metadata": {},
     "output_type": "execute_result"
    }
   ],
   "source": [
    "df.iloc[:,26].head()"
   ]
  },
  {
   "cell_type": "code",
   "execution_count": 107,
   "id": "cbf66a96",
   "metadata": {},
   "outputs": [
    {
     "data": {
      "text/plain": [
       "0    408.0\n",
       "1    408.0\n",
       "2    132.0\n",
       "3    156.0\n",
       "4    408.0\n",
       "Name: wlan_radio.duration, dtype: float64"
      ]
     },
     "execution_count": 107,
     "metadata": {},
     "output_type": "execute_result"
    }
   ],
   "source": [
    "df.iloc[:,27].head()"
   ]
  },
  {
   "cell_type": "code",
   "execution_count": 108,
   "id": "1a4b0fcb",
   "metadata": {},
   "outputs": [
    {
     "data": {
      "text/plain": [
       "0    1.161400e+10\n",
       "1    1.161410e+10\n",
       "2    1.161414e+10\n",
       "3    1.161415e+10\n",
       "4    1.161420e+10\n",
       "Name: wlan_radio.end_tsf, dtype: float64"
      ]
     },
     "execution_count": 108,
     "metadata": {},
     "output_type": "execute_result"
    }
   ],
   "source": [
    "df.iloc[:,28].head()"
   ]
  },
  {
   "cell_type": "code",
   "execution_count": 109,
   "id": "1d54cd72",
   "metadata": {},
   "outputs": [
    {
     "data": {
      "text/plain": [
       "0    5\n",
       "1    5\n",
       "2    5\n",
       "3    5\n",
       "4    5\n",
       "Name: wlan_radio.phy, dtype: object"
      ]
     },
     "execution_count": 109,
     "metadata": {},
     "output_type": "execute_result"
    }
   ],
   "source": [
    "df.iloc[:,29].head()"
   ]
  },
  {
   "cell_type": "code",
   "execution_count": 110,
   "id": "6fe06a41",
   "metadata": {},
   "outputs": [
    {
     "data": {
      "text/plain": [
       "0   -34.0\n",
       "1   -34.0\n",
       "2   -34.0\n",
       "3   -34.0\n",
       "4   -35.0\n",
       "Name: wlan_radio.signal_dbm, dtype: float64"
      ]
     },
     "execution_count": 110,
     "metadata": {},
     "output_type": "execute_result"
    }
   ],
   "source": [
    "df.iloc[:,30].head()"
   ]
  },
  {
   "cell_type": "code",
   "execution_count": 111,
   "id": "986f633b",
   "metadata": {},
   "outputs": [
    {
     "data": {
      "text/plain": [
       "0    1.161399e+10\n",
       "1    1.161410e+10\n",
       "2    1.161414e+10\n",
       "3    1.161415e+10\n",
       "4    1.161420e+10\n",
       "Name: wlan_radio.start_tsf, dtype: float64"
      ]
     },
     "execution_count": 111,
     "metadata": {},
     "output_type": "execute_result"
    }
   ],
   "source": [
    "df.iloc[:,31].head()"
   ]
  },
  {
   "cell_type": "code",
   "execution_count": 112,
   "id": "309ddde9",
   "metadata": {},
   "outputs": [
    {
     "data": {
      "text/plain": [
       "0    1.161400e+10\n",
       "1    1.161410e+10\n",
       "2    1.161414e+10\n",
       "3    1.161415e+10\n",
       "4    1.161420e+10\n",
       "Name: wlan_radio.timestamp, dtype: float64"
      ]
     },
     "execution_count": 112,
     "metadata": {},
     "output_type": "execute_result"
    }
   ],
   "source": [
    "df.iloc[:,32].head()"
   ]
  },
  {
   "cell_type": "code",
   "execution_count": null,
   "id": "3e3f7275",
   "metadata": {},
   "outputs": [],
   "source": []
  },
  {
   "cell_type": "markdown",
   "id": "5b0782a8",
   "metadata": {},
   "source": [
    "### saving the dataset"
   ]
  },
  {
   "cell_type": "code",
   "execution_count": 119,
   "id": "bb220b38",
   "metadata": {},
   "outputs": [],
   "source": [
    "df2.to_csv('AWID3_NZVAR_33.csv',\n",
    "          index = False, \n",
    "          header = True)"
   ]
  },
  {
   "cell_type": "markdown",
   "id": "8c9df68f",
   "metadata": {},
   "source": [
    "### Load the dataset"
   ]
  },
  {
   "cell_type": "code",
   "execution_count": 120,
   "id": "cb4d30d9",
   "metadata": {},
   "outputs": [
    {
     "data": {
      "text/html": [
       "<div>\n",
       "<style scoped>\n",
       "    .dataframe tbody tr th:only-of-type {\n",
       "        vertical-align: middle;\n",
       "    }\n",
       "\n",
       "    .dataframe tbody tr th {\n",
       "        vertical-align: top;\n",
       "    }\n",
       "\n",
       "    .dataframe thead th {\n",
       "        text-align: right;\n",
       "    }\n",
       "</style>\n",
       "<table border=\"1\" class=\"dataframe\">\n",
       "  <thead>\n",
       "    <tr style=\"text-align: right;\">\n",
       "      <th></th>\n",
       "      <th>Label</th>\n",
       "      <th>frame.len</th>\n",
       "      <th>frame.number</th>\n",
       "      <th>frame.time</th>\n",
       "      <th>frame.time_delta</th>\n",
       "      <th>frame.time_delta_displayed</th>\n",
       "      <th>frame.time_epoch</th>\n",
       "      <th>frame.time_relative</th>\n",
       "      <th>radiotap.datarate</th>\n",
       "      <th>radiotap.dbm_antsignal</th>\n",
       "      <th>...</th>\n",
       "      <th>wlan.fc.type</th>\n",
       "      <th>wlan.ra</th>\n",
       "      <th>wlan.ta</th>\n",
       "      <th>wlan_radio.data_rate</th>\n",
       "      <th>wlan_radio.duration</th>\n",
       "      <th>wlan_radio.end_tsf</th>\n",
       "      <th>wlan_radio.phy</th>\n",
       "      <th>wlan_radio.signal_dbm</th>\n",
       "      <th>wlan_radio.start_tsf</th>\n",
       "      <th>wlan_radio.timestamp</th>\n",
       "    </tr>\n",
       "  </thead>\n",
       "  <tbody>\n",
       "    <tr>\n",
       "      <th>0</th>\n",
       "      <td>Normal</td>\n",
       "      <td>342.0</td>\n",
       "      <td>1.0</td>\n",
       "      <td>Dec 18- 2020 17:42:58.482600000 GTB Standard Time</td>\n",
       "      <td>0.000000</td>\n",
       "      <td>0.000000</td>\n",
       "      <td>1.608306e+09</td>\n",
       "      <td>0.000000</td>\n",
       "      <td>6.0</td>\n",
       "      <td>-34-37-34</td>\n",
       "      <td>...</td>\n",
       "      <td>0.0</td>\n",
       "      <td>ff:ff:ff:ff:ff:ff</td>\n",
       "      <td>0c:9d:92:54:fe:34</td>\n",
       "      <td>6.0</td>\n",
       "      <td>408.0</td>\n",
       "      <td>1.161400e+10</td>\n",
       "      <td>5.0</td>\n",
       "      <td>-34.0</td>\n",
       "      <td>1.161399e+10</td>\n",
       "      <td>1.161400e+10</td>\n",
       "    </tr>\n",
       "    <tr>\n",
       "      <th>1</th>\n",
       "      <td>Normal</td>\n",
       "      <td>342.0</td>\n",
       "      <td>2.0</td>\n",
       "      <td>Dec 18- 2020 17:42:58.585010000 GTB Standard Time</td>\n",
       "      <td>0.102410</td>\n",
       "      <td>0.102410</td>\n",
       "      <td>1.608306e+09</td>\n",
       "      <td>0.102410</td>\n",
       "      <td>6.0</td>\n",
       "      <td>-34-38-34</td>\n",
       "      <td>...</td>\n",
       "      <td>0.0</td>\n",
       "      <td>ff:ff:ff:ff:ff:ff</td>\n",
       "      <td>0c:9d:92:54:fe:34</td>\n",
       "      <td>6.0</td>\n",
       "      <td>408.0</td>\n",
       "      <td>1.161410e+10</td>\n",
       "      <td>5.0</td>\n",
       "      <td>-34.0</td>\n",
       "      <td>1.161410e+10</td>\n",
       "      <td>1.161410e+10</td>\n",
       "    </tr>\n",
       "    <tr>\n",
       "      <th>2</th>\n",
       "      <td>Normal</td>\n",
       "      <td>136.0</td>\n",
       "      <td>3.0</td>\n",
       "      <td>Dec 18- 2020 17:42:58.629796000 GTB Standard Time</td>\n",
       "      <td>0.044786</td>\n",
       "      <td>0.044786</td>\n",
       "      <td>1.608306e+09</td>\n",
       "      <td>0.147196</td>\n",
       "      <td>6.0</td>\n",
       "      <td>-34-39-34</td>\n",
       "      <td>...</td>\n",
       "      <td>2.0</td>\n",
       "      <td>ff:ff:ff:ff:ff:ff</td>\n",
       "      <td>0c:9d:92:54:fe:34</td>\n",
       "      <td>6.0</td>\n",
       "      <td>132.0</td>\n",
       "      <td>1.161414e+10</td>\n",
       "      <td>5.0</td>\n",
       "      <td>-34.0</td>\n",
       "      <td>1.161414e+10</td>\n",
       "      <td>1.161414e+10</td>\n",
       "    </tr>\n",
       "    <tr>\n",
       "      <th>3</th>\n",
       "      <td>Normal</td>\n",
       "      <td>154.0</td>\n",
       "      <td>4.0</td>\n",
       "      <td>Dec 18- 2020 17:42:58.637295000 GTB Standard Time</td>\n",
       "      <td>0.007499</td>\n",
       "      <td>0.007499</td>\n",
       "      <td>1.608306e+09</td>\n",
       "      <td>0.154695</td>\n",
       "      <td>6.0</td>\n",
       "      <td>-34-39-34</td>\n",
       "      <td>...</td>\n",
       "      <td>2.0</td>\n",
       "      <td>ff:ff:ff:ff:ff:ff</td>\n",
       "      <td>0c:9d:92:54:fe:34</td>\n",
       "      <td>6.0</td>\n",
       "      <td>156.0</td>\n",
       "      <td>1.161415e+10</td>\n",
       "      <td>5.0</td>\n",
       "      <td>-34.0</td>\n",
       "      <td>1.161415e+10</td>\n",
       "      <td>1.161415e+10</td>\n",
       "    </tr>\n",
       "    <tr>\n",
       "      <th>4</th>\n",
       "      <td>Normal</td>\n",
       "      <td>342.0</td>\n",
       "      <td>5.0</td>\n",
       "      <td>Dec 18- 2020 17:42:58.687421000 GTB Standard Time</td>\n",
       "      <td>0.050126</td>\n",
       "      <td>0.050126</td>\n",
       "      <td>1.608306e+09</td>\n",
       "      <td>0.204821</td>\n",
       "      <td>6.0</td>\n",
       "      <td>-35-40-35</td>\n",
       "      <td>...</td>\n",
       "      <td>0.0</td>\n",
       "      <td>ff:ff:ff:ff:ff:ff</td>\n",
       "      <td>0c:9d:92:54:fe:34</td>\n",
       "      <td>6.0</td>\n",
       "      <td>408.0</td>\n",
       "      <td>1.161420e+10</td>\n",
       "      <td>5.0</td>\n",
       "      <td>-35.0</td>\n",
       "      <td>1.161420e+10</td>\n",
       "      <td>1.161420e+10</td>\n",
       "    </tr>\n",
       "  </tbody>\n",
       "</table>\n",
       "<p>5 rows × 33 columns</p>\n",
       "</div>"
      ],
      "text/plain": [
       "    Label  frame.len  frame.number  \\\n",
       "0  Normal      342.0           1.0   \n",
       "1  Normal      342.0           2.0   \n",
       "2  Normal      136.0           3.0   \n",
       "3  Normal      154.0           4.0   \n",
       "4  Normal      342.0           5.0   \n",
       "\n",
       "                                          frame.time  frame.time_delta  \\\n",
       "0  Dec 18- 2020 17:42:58.482600000 GTB Standard Time          0.000000   \n",
       "1  Dec 18- 2020 17:42:58.585010000 GTB Standard Time          0.102410   \n",
       "2  Dec 18- 2020 17:42:58.629796000 GTB Standard Time          0.044786   \n",
       "3  Dec 18- 2020 17:42:58.637295000 GTB Standard Time          0.007499   \n",
       "4  Dec 18- 2020 17:42:58.687421000 GTB Standard Time          0.050126   \n",
       "\n",
       "   frame.time_delta_displayed  frame.time_epoch  frame.time_relative  \\\n",
       "0                    0.000000      1.608306e+09             0.000000   \n",
       "1                    0.102410      1.608306e+09             0.102410   \n",
       "2                    0.044786      1.608306e+09             0.147196   \n",
       "3                    0.007499      1.608306e+09             0.154695   \n",
       "4                    0.050126      1.608306e+09             0.204821   \n",
       "\n",
       "   radiotap.datarate radiotap.dbm_antsignal  ...  wlan.fc.type  \\\n",
       "0                6.0              -34-37-34  ...           0.0   \n",
       "1                6.0              -34-38-34  ...           0.0   \n",
       "2                6.0              -34-39-34  ...           2.0   \n",
       "3                6.0              -34-39-34  ...           2.0   \n",
       "4                6.0              -35-40-35  ...           0.0   \n",
       "\n",
       "             wlan.ra            wlan.ta  wlan_radio.data_rate  \\\n",
       "0  ff:ff:ff:ff:ff:ff  0c:9d:92:54:fe:34                   6.0   \n",
       "1  ff:ff:ff:ff:ff:ff  0c:9d:92:54:fe:34                   6.0   \n",
       "2  ff:ff:ff:ff:ff:ff  0c:9d:92:54:fe:34                   6.0   \n",
       "3  ff:ff:ff:ff:ff:ff  0c:9d:92:54:fe:34                   6.0   \n",
       "4  ff:ff:ff:ff:ff:ff  0c:9d:92:54:fe:34                   6.0   \n",
       "\n",
       "   wlan_radio.duration wlan_radio.end_tsf  wlan_radio.phy  \\\n",
       "0                408.0       1.161400e+10             5.0   \n",
       "1                408.0       1.161410e+10             5.0   \n",
       "2                132.0       1.161414e+10             5.0   \n",
       "3                156.0       1.161415e+10             5.0   \n",
       "4                408.0       1.161420e+10             5.0   \n",
       "\n",
       "   wlan_radio.signal_dbm  wlan_radio.start_tsf  wlan_radio.timestamp  \n",
       "0                  -34.0          1.161399e+10          1.161400e+10  \n",
       "1                  -34.0          1.161410e+10          1.161410e+10  \n",
       "2                  -34.0          1.161414e+10          1.161414e+10  \n",
       "3                  -34.0          1.161415e+10          1.161415e+10  \n",
       "4                  -35.0          1.161420e+10          1.161420e+10  \n",
       "\n",
       "[5 rows x 33 columns]"
      ]
     },
     "execution_count": 120,
     "metadata": {},
     "output_type": "execute_result"
    }
   ],
   "source": [
    "test=pd.read_csv ('AWID3_NZVAR_33.csv', low_memory=False)\n",
    "test.head()"
   ]
  },
  {
   "cell_type": "code",
   "execution_count": null,
   "id": "36014c0d",
   "metadata": {},
   "outputs": [],
   "source": []
  },
  {
   "cell_type": "code",
   "execution_count": null,
   "id": "fd0e684e",
   "metadata": {},
   "outputs": [],
   "source": []
  },
  {
   "cell_type": "markdown",
   "id": "1b785105",
   "metadata": {},
   "source": [
    "### Remove Columns no needed for this study"
   ]
  },
  {
   "cell_type": "code",
   "execution_count": 126,
   "id": "b35c4e22",
   "metadata": {},
   "outputs": [
    {
     "data": {
      "text/plain": [
       "(36962587, 32)"
      ]
     },
     "execution_count": 126,
     "metadata": {},
     "output_type": "execute_result"
    }
   ],
   "source": [
    "data_df=df2.drop(columns=['frame.time'])\n",
    "data_df.shape"
   ]
  },
  {
   "cell_type": "code",
   "execution_count": null,
   "id": "f242332b",
   "metadata": {},
   "outputs": [],
   "source": []
  },
  {
   "cell_type": "code",
   "execution_count": 128,
   "id": "df12d62a",
   "metadata": {},
   "outputs": [
    {
     "data": {
      "text/plain": [
       "array(['1-0-0', '0-0-0'], dtype=object)"
      ]
     },
     "execution_count": 128,
     "metadata": {},
     "output_type": "execute_result"
    }
   ],
   "source": [
    "df2.iloc[:,12].unique()"
   ]
  },
  {
   "cell_type": "code",
   "execution_count": 134,
   "id": "f6cc0af8",
   "metadata": {},
   "outputs": [
    {
     "data": {
      "text/plain": [
       "array(['0x00000000', '0x00000002', '0x00000001', '0x00000003'],\n",
       "      dtype=object)"
      ]
     },
     "execution_count": 134,
     "metadata": {},
     "output_type": "execute_result"
    }
   ],
   "source": [
    "df2.iloc[:,15].unique()"
   ]
  },
  {
   "cell_type": "code",
   "execution_count": 135,
   "id": "396e8c1a",
   "metadata": {},
   "outputs": [
    {
     "data": {
      "text/plain": [
       "array([8.0, 0.0, 4.0, 5.0, 11.0, 13.0, 1.0, 9.0, 12.0, 14.0, 10.0, 15.0,\n",
       "       2.0, 3.0, 7.0, '8', '9', '11', '12', '5', '13', '0', '4', '14',\n",
       "       '1', '10', '2', '3', '15'], dtype=object)"
      ]
     },
     "execution_count": 135,
     "metadata": {},
     "output_type": "execute_result"
    }
   ],
   "source": [
    "df2.iloc[:,22].unique()"
   ]
  },
  {
   "cell_type": "code",
   "execution_count": 136,
   "id": "52971449",
   "metadata": {},
   "outputs": [
    {
     "data": {
      "text/plain": [
       "array([5, 8, 7, '5', '8', '7', 4, 6], dtype=object)"
      ]
     },
     "execution_count": 136,
     "metadata": {},
     "output_type": "execute_result"
    }
   ],
   "source": [
    "df2.iloc[:,29].unique()"
   ]
  },
  {
   "cell_type": "code",
   "execution_count": null,
   "id": "d7746048",
   "metadata": {},
   "outputs": [],
   "source": []
  },
  {
   "cell_type": "markdown",
   "id": "ddd23354",
   "metadata": {},
   "source": [
    "##### Changing objects to float"
   ]
  },
  {
   "cell_type": "code",
   "execution_count": 138,
   "id": "e7247134",
   "metadata": {},
   "outputs": [
    {
     "data": {
      "text/plain": [
       "array([ 8.,  0.,  4.,  5., 11., 13.,  1.,  9., 12., 14., 10., 15.,  2.,\n",
       "        3.,  7.])"
      ]
     },
     "execution_count": 138,
     "metadata": {},
     "output_type": "execute_result"
    }
   ],
   "source": [
    "data_df['wlan.fc.subtype']=pd.to_numeric(data_df['wlan.fc.subtype'])\n",
    "data_df.iloc[:,21].unique()"
   ]
  },
  {
   "cell_type": "code",
   "execution_count": 139,
   "id": "dce6235f",
   "metadata": {},
   "outputs": [
    {
     "data": {
      "text/plain": [
       "array([5., 8., 7., 4., 6.])"
      ]
     },
     "execution_count": 139,
     "metadata": {},
     "output_type": "execute_result"
    }
   ],
   "source": [
    "data_df['wlan_radio.phy']=pd.to_numeric(data_df['wlan_radio.phy'])\n",
    "data_df.iloc[:,28].unique()"
   ]
  },
  {
   "cell_type": "code",
   "execution_count": null,
   "id": "76ebe425",
   "metadata": {},
   "outputs": [],
   "source": []
  },
  {
   "cell_type": "code",
   "execution_count": 148,
   "id": "53264223",
   "metadata": {},
   "outputs": [
    {
     "data": {
      "text/plain": [
       "array(['1-0-0', '0-0-0'], dtype=object)"
      ]
     },
     "execution_count": 148,
     "metadata": {},
     "output_type": "execute_result"
    }
   ],
   "source": [
    "data_df.iloc[:,11].unique()"
   ]
  },
  {
   "cell_type": "code",
   "execution_count": 150,
   "id": "6863c41a",
   "metadata": {},
   "outputs": [],
   "source": [
    "values_to_replace_11_radi_pre_tsft = {'0-0-0':0, '1-0-0':1}"
   ]
  },
  {
   "cell_type": "code",
   "execution_count": 151,
   "id": "5bdc7eba",
   "metadata": {},
   "outputs": [],
   "source": [
    "data_df['radiotap.present.tsft'] = data_df['radiotap.present.tsft'].map(values_to_replace_11_radi_pre_tsft)"
   ]
  },
  {
   "cell_type": "code",
   "execution_count": 152,
   "id": "9254d411",
   "metadata": {},
   "outputs": [
    {
     "data": {
      "text/plain": [
       "array([1, 0], dtype=int64)"
      ]
     },
     "execution_count": 152,
     "metadata": {},
     "output_type": "execute_result"
    }
   ],
   "source": [
    "data_df.iloc[:,11].unique()"
   ]
  },
  {
   "cell_type": "code",
   "execution_count": null,
   "id": "4748bd67",
   "metadata": {},
   "outputs": [],
   "source": []
  },
  {
   "cell_type": "markdown",
   "id": "f503b501",
   "metadata": {},
   "source": [
    "### Replace MAC address with 1 or 0"
   ]
  },
  {
   "cell_type": "code",
   "execution_count": 141,
   "id": "fe3737cc",
   "metadata": {},
   "outputs": [
    {
     "data": {
      "text/plain": [
       "array(['ff:ff:ff:ff:ff:ff', '00:c0:ca:a8:26:3e', '01:80:c2:00:00:00', ...,\n",
       "       '0c:9d:96:05:fc:30', '4d:9d:b6:55:fc:b0', '4c:9d:b7:05:f4:b4'],\n",
       "      dtype=object)"
      ]
     },
     "execution_count": 141,
     "metadata": {},
     "output_type": "execute_result"
    }
   ],
   "source": [
    "data_df.iloc[:,23].unique()"
   ]
  },
  {
   "cell_type": "code",
   "execution_count": 140,
   "id": "6e54fef6",
   "metadata": {},
   "outputs": [
    {
     "data": {
      "text/plain": [
       "array(['0c:9d:92:54:fe:34', '00:c0:ca:a8:26:3e', '88:66:a5:55:a2:d4', ...,\n",
       "       '10:3e:ae:3c:43:1b', '18:be:aa:64:01:93', '88:66:af:55:a2:94'],\n",
       "      dtype=object)"
      ]
     },
     "execution_count": 140,
     "metadata": {},
     "output_type": "execute_result"
    }
   ],
   "source": [
    "data_df.iloc[:,24].unique()"
   ]
  },
  {
   "cell_type": "code",
   "execution_count": 142,
   "id": "cba31d09",
   "metadata": {},
   "outputs": [],
   "source": [
    "ind = data_df.iloc[:,23].notna()\n",
    "data_df.iloc[ind, 23] = 1\n",
    "ind = data_df.iloc[:,23].isna()\n",
    "data_df.iloc[ind, 23] = 0"
   ]
  },
  {
   "cell_type": "code",
   "execution_count": 144,
   "id": "c1d184bb",
   "metadata": {},
   "outputs": [],
   "source": [
    "ind = data_df.iloc[:,24].notna()\n",
    "data_df.iloc[ind, 24] = 1\n",
    "ind = data_df.iloc[:,24].isna()\n",
    "data_df.iloc[ind, 24] = 0"
   ]
  },
  {
   "cell_type": "code",
   "execution_count": 145,
   "id": "01517f35",
   "metadata": {},
   "outputs": [
    {
     "data": {
      "text/plain": [
       "Label                                0\n",
       "frame.len                            0\n",
       "frame.number                         0\n",
       "frame.time_delta                     0\n",
       "frame.time_delta_displayed           0\n",
       "frame.time_epoch                     0\n",
       "frame.time_relative                  0\n",
       "radiotap.datarate             17146504\n",
       "radiotap.dbm_antsignal               0\n",
       "radiotap.length                      0\n",
       "radiotap.mactime              17742140\n",
       "radiotap.present.tsft                0\n",
       "radiotap.timestamp.ts                0\n",
       "wlan.duration                       57\n",
       "wlan.fc.ds                           0\n",
       "wlan.fc.frag                         0\n",
       "wlan.fc.moredata                     0\n",
       "wlan.fc.order                        0\n",
       "wlan.fc.protected                    0\n",
       "wlan.fc.pwrmgt                       0\n",
       "wlan.fc.retry                        0\n",
       "wlan.fc.subtype                      0\n",
       "wlan.fc.type                         0\n",
       "wlan.ra                              0\n",
       "wlan.ta                              0\n",
       "wlan_radio.data_rate                 0\n",
       "wlan_radio.duration                  0\n",
       "wlan_radio.end_tsf            17742140\n",
       "wlan_radio.phy                       0\n",
       "wlan_radio.signal_dbm                0\n",
       "wlan_radio.start_tsf          17742140\n",
       "wlan_radio.timestamp          17742140\n",
       "dtype: int64"
      ]
     },
     "execution_count": 145,
     "metadata": {},
     "output_type": "execute_result"
    }
   ],
   "source": [
    "nan_values3=data_df.isna().sum()\n",
    "nan_values3"
   ]
  },
  {
   "cell_type": "code",
   "execution_count": null,
   "id": "86529ebe",
   "metadata": {},
   "outputs": [],
   "source": []
  },
  {
   "cell_type": "code",
   "execution_count": null,
   "id": "f135e1f7",
   "metadata": {},
   "outputs": [],
   "source": []
  },
  {
   "cell_type": "markdown",
   "id": "bee6c524",
   "metadata": {},
   "source": []
  },
  {
   "cell_type": "code",
   "execution_count": null,
   "id": "32bd9096",
   "metadata": {},
   "outputs": [],
   "source": []
  },
  {
   "cell_type": "markdown",
   "id": "9365c72f",
   "metadata": {},
   "source": [
    "### Replace labels with enconde value"
   ]
  },
  {
   "cell_type": "code",
   "execution_count": 137,
   "id": "c492c965",
   "metadata": {},
   "outputs": [
    {
     "data": {
      "text/plain": [
       "array(['Normal', 'Deauth', 'Disas', '(Re)Assoc', 'RogueAP', 'Krack',\n",
       "       'Kr00k', 'Kr00K', 'SSH', 'Botnet', 'Malware', 'SQL_Injection',\n",
       "       'SSDP', 'SDDP', 'Evil_Twin', 'Website_spoofing'], dtype=object)"
      ]
     },
     "execution_count": 137,
     "metadata": {},
     "output_type": "execute_result"
    }
   ],
   "source": [
    "data_df.iloc[:,0].unique()"
   ]
  },
  {
   "cell_type": "code",
   "execution_count": 122,
   "id": "7903e9b8",
   "metadata": {},
   "outputs": [],
   "source": [
    "values_to_replace_labels = {'Normal':0, 'Deauth':1, 'Disas': 2, '(Re)Assoc':3,\n",
    "                            'RogueAP':4, 'Krack':5, 'Kr00k': 6, 'Kr00K':6,\n",
    "                            'SSH':7, 'Botnet':8, 'Malware': 9, 'SQL_Injection':10,\n",
    "                            'SSDP':11, 'SDDP':11, 'Evil_Twin': 12, 'Website_spoofing':13\n",
    "                            }"
   ]
  },
  {
   "cell_type": "code",
   "execution_count": 153,
   "id": "eafed79d",
   "metadata": {},
   "outputs": [
    {
     "data": {
      "text/plain": [
       "array([ 0,  1,  2,  3,  4,  5,  6,  7,  8,  9, 10, 11, 12, 13],\n",
       "      dtype=int64)"
      ]
     },
     "execution_count": 153,
     "metadata": {},
     "output_type": "execute_result"
    }
   ],
   "source": [
    "data_df['Label'] = data_df['Label'].map(values_to_replace_labels)\n",
    "data_df.iloc[:,0].unique()"
   ]
  },
  {
   "cell_type": "code",
   "execution_count": null,
   "id": "8c8608c7",
   "metadata": {},
   "outputs": [],
   "source": []
  },
  {
   "cell_type": "code",
   "execution_count": null,
   "id": "7f85c0d9",
   "metadata": {},
   "outputs": [],
   "source": []
  },
  {
   "cell_type": "code",
   "execution_count": null,
   "id": "b1906be0",
   "metadata": {},
   "outputs": [],
   "source": []
  },
  {
   "cell_type": "code",
   "execution_count": null,
   "id": "a72ad516",
   "metadata": {},
   "outputs": [],
   "source": []
  },
  {
   "cell_type": "code",
   "execution_count": 146,
   "id": "5f9caeca",
   "metadata": {},
   "outputs": [
    {
     "data": {
      "text/plain": [
       "array(['0x00000000', '0x00000002', '0x00000001', '0x00000003'],\n",
       "      dtype=object)"
      ]
     },
     "execution_count": 146,
     "metadata": {},
     "output_type": "execute_result"
    }
   ],
   "source": [
    "data_df.iloc[:,14].unique()"
   ]
  },
  {
   "cell_type": "code",
   "execution_count": 147,
   "id": "dbb84eaa",
   "metadata": {},
   "outputs": [],
   "source": [
    "values_to_replace_14_fs_ds = {'0x00000000':0, '0x00000001':1, '0x00000002': 2, '0x00000003':3}"
   ]
  },
  {
   "cell_type": "code",
   "execution_count": 154,
   "id": "d53ff583",
   "metadata": {},
   "outputs": [
    {
     "data": {
      "text/plain": [
       "array([0, 2, 1, 3], dtype=int64)"
      ]
     },
     "execution_count": 154,
     "metadata": {},
     "output_type": "execute_result"
    }
   ],
   "source": [
    "data_df['wlan.fc.ds'] = data_df['wlan.fc.ds'].map(values_to_replace_14_fs_ds)\n",
    "data_df.iloc[:,14].unique()"
   ]
  },
  {
   "cell_type": "code",
   "execution_count": 168,
   "id": "d78bd7e5",
   "metadata": {},
   "outputs": [
    {
     "data": {
      "text/plain": [
       "array([  6.    ,      nan,  24.    ,  12.    ,  54.    ,  72.2222,\n",
       "        57.7778,  52.    ,   6.5   ,  48.    ,  36.    ,  18.    ,\n",
       "         9.    , 130.    ,   1.    ,  39.    ,  19.5   ,  78.    ,\n",
       "        13.    ,  11.    ,   5.5   ,   2.    , 117.    ,  26.    ,\n",
       "       104.    ,  65.    ,  58.5   , 144.444 ,  43.3333,  28.8889,\n",
       "        86.6667, 115.556 ])"
      ]
     },
     "execution_count": 168,
     "metadata": {},
     "output_type": "execute_result"
    }
   ],
   "source": [
    "data_df.iloc[:,7].unique()"
   ]
  },
  {
   "cell_type": "markdown",
   "id": "33e7a25b",
   "metadata": {},
   "source": [
    "### Replace missing values with most frequent values or median, remove columns with lot of NaN"
   ]
  },
  {
   "cell_type": "code",
   "execution_count": 155,
   "id": "66e99c11",
   "metadata": {},
   "outputs": [
    {
     "data": {
      "text/plain": [
       "Label                                0\n",
       "frame.len                            0\n",
       "frame.number                         0\n",
       "frame.time_delta                     0\n",
       "frame.time_delta_displayed           0\n",
       "frame.time_epoch                     0\n",
       "frame.time_relative                  0\n",
       "radiotap.datarate             17146504\n",
       "radiotap.dbm_antsignal               0\n",
       "radiotap.length                      0\n",
       "radiotap.mactime              17742140\n",
       "radiotap.present.tsft                0\n",
       "radiotap.timestamp.ts                0\n",
       "wlan.duration                       57\n",
       "wlan.fc.ds                           0\n",
       "wlan.fc.frag                         0\n",
       "wlan.fc.moredata                     0\n",
       "wlan.fc.order                        0\n",
       "wlan.fc.protected                    0\n",
       "wlan.fc.pwrmgt                       0\n",
       "wlan.fc.retry                        0\n",
       "wlan.fc.subtype                      0\n",
       "wlan.fc.type                         0\n",
       "wlan.ra                              0\n",
       "wlan.ta                              0\n",
       "wlan_radio.data_rate                 0\n",
       "wlan_radio.duration                  0\n",
       "wlan_radio.end_tsf            17742140\n",
       "wlan_radio.phy                       0\n",
       "wlan_radio.signal_dbm                0\n",
       "wlan_radio.start_tsf          17742140\n",
       "wlan_radio.timestamp          17742140\n",
       "dtype: int64"
      ]
     },
     "execution_count": 155,
     "metadata": {},
     "output_type": "execute_result"
    }
   ],
   "source": [
    "nan_values4=data_df.isna().sum()\n",
    "nan_values4"
   ]
  },
  {
   "cell_type": "code",
   "execution_count": 162,
   "id": "c29d15f7",
   "metadata": {},
   "outputs": [],
   "source": [
    "med_13=data_df.iloc[:,13].median()\n",
    "mean_13=data_df.iloc[:,13].mean()\n",
    "mode_13=data_df.iloc[:,13].mode()\n"
   ]
  },
  {
   "cell_type": "code",
   "execution_count": 163,
   "id": "a812eb24",
   "metadata": {},
   "outputs": [],
   "source": [
    "med_7=data_df.iloc[:,7].median()\n",
    "mean_7=data_df.iloc[:,7].mean()\n",
    "mode_7=data_df.iloc[:,7].mode()\n",
    "\n",
    "med_10=data_df.iloc[:,10].median()\n",
    "mean_10=data_df.iloc[:,10].mean()\n",
    "mode_10=data_df.iloc[:,10].mode()\n",
    "\n",
    "med_27=data_df.iloc[:,27].median()\n",
    "mean_27=data_df.iloc[:,27].mean()\n",
    "mode_27=data_df.iloc[:,27].mode()\n",
    "\n",
    "med_30=data_df.iloc[:,30].median()\n",
    "mean_30=data_df.iloc[:,30].mean()\n",
    "mode_30=data_df.iloc[:,30].mode()\n",
    "\n",
    "med_31=data_df.iloc[:,31].median()\n",
    "mean_31=data_df.iloc[:,31].mean()\n",
    "mode_31=data_df.iloc[:,31].mode()"
   ]
  },
  {
   "cell_type": "code",
   "execution_count": 167,
   "id": "eb9584ea",
   "metadata": {},
   "outputs": [
    {
     "name": "stdout",
     "output_type": "stream",
     "text": [
      "24.0 24.522860239225537 24.0\n",
      "12996966614.0 16232383875.33821 8370441296.442419\n",
      "48.0 155.1480105934307 48.0\n",
      "12996966614.0 16232383875.33821 8370441296.442419\n",
      "12996966582.0 16232383838.495398 9726281173.857193\n",
      "12996966614.0 16232383875.33821 8370441296.442419\n"
     ]
    }
   ],
   "source": [
    "print(med_7 , mean_7, mode_7.mean())\n",
    "print(med_10 , mean_10, mode_10.mean())\n",
    "print(med_13 , mean_13, mode_13.mean())\n",
    "print(med_27 , mean_27, mode_27.mean())\n",
    "print(med_30 , mean_30, mode_30.mean())\n",
    "print(med_31 , mean_31, mode_31.mean())"
   ]
  },
  {
   "cell_type": "code",
   "execution_count": null,
   "id": "b45180f8",
   "metadata": {},
   "outputs": [],
   "source": []
  },
  {
   "cell_type": "code",
   "execution_count": 203,
   "id": "f32a0f76",
   "metadata": {},
   "outputs": [
    {
     "data": {
      "text/plain": [
       "NaN         17146504\n",
       "24.0000     15839489\n",
       "6.0000       1975962\n",
       "12.0000       687641\n",
       "54.0000       647823\n",
       "144.4440      130309\n",
       "72.2222       115256\n",
       "78.0000        82104\n",
       "1.0000         54002\n",
       "39.0000        36192\n",
       "52.0000        34248\n",
       "6.5000         31032\n",
       "104.0000       29629\n",
       "58.5000        27571\n",
       "65.0000        27263\n",
       "130.0000       22552\n",
       "117.0000       15074\n",
       "26.0000         9647\n",
       "86.6667         9584\n",
       "57.7778         8235\n",
       "9.0000          6565\n",
       "19.5000         6190\n",
       "43.3333         4902\n",
       "11.0000         4244\n",
       "115.5560        3950\n",
       "5.5000          2114\n",
       "13.0000         1857\n",
       "18.0000         1185\n",
       "2.0000           564\n",
       "48.0000          507\n",
       "36.0000          351\n",
       "28.8889           41\n",
       "Name: radiotap.datarate, dtype: int64"
      ]
     },
     "execution_count": 203,
     "metadata": {},
     "output_type": "execute_result"
    }
   ],
   "source": [
    "data_df.iloc[:,7].value_counts(dropna=False)\n"
   ]
  },
  {
   "cell_type": "code",
   "execution_count": null,
   "id": "b4384313",
   "metadata": {},
   "outputs": [],
   "source": [
    "#######Empezar a reemplazar con los valores mas repetidos"
   ]
  },
  {
   "cell_type": "code",
   "execution_count": null,
   "id": "b52ff488",
   "metadata": {},
   "outputs": [],
   "source": [
    "#ind = data_df.iloc[:,7].isna()\n",
    "#data_df.iloc[ind, 7] = 0"
   ]
  },
  {
   "cell_type": "code",
   "execution_count": null,
   "id": "7996ed8e",
   "metadata": {},
   "outputs": [],
   "source": []
  },
  {
   "cell_type": "code",
   "execution_count": 196,
   "id": "954104d9",
   "metadata": {},
   "outputs": [],
   "source": [
    "types=df2['Label'].value_counts().index#.to_numpy\n",
    "types_val=df2['Label'].value_counts()#.to_numpy\n"
   ]
  },
  {
   "cell_type": "code",
   "execution_count": 194,
   "id": "a21a3787",
   "metadata": {},
   "outputs": [
    {
     "data": {
      "text/plain": [
       "Int64Index([0, 11, 13, 6, 9, 12, 2, 8, 5, 1, 7, 3, 10, 4], dtype='int64')"
      ]
     },
     "execution_count": 194,
     "metadata": {},
     "output_type": "execute_result"
    }
   ],
   "source": [
    "types"
   ]
  },
  {
   "cell_type": "code",
   "execution_count": 197,
   "id": "fe401491",
   "metadata": {},
   "outputs": [
    {
     "data": {
      "text/plain": [
       "<function matplotlib.pyplot.show(close=None, block=None)>"
      ]
     },
     "execution_count": 197,
     "metadata": {},
     "output_type": "execute_result"
    },
    {
     "data": {
      "image/png": "[encoded data removed]",
      "text/plain": [
       "<Figure size 720x432 with 1 Axes>"
      ]
     },
     "metadata": {
      "needs_background": "light"
     },
     "output_type": "display_data"
    }
   ],
   "source": [
    "plt.figure(figsize=(10,6))\n",
    "\n",
    "plt.bar(types,types_val)\n",
    "plt.xlabel(\"Trace type\")\n",
    "plt.xticks(rotation=90)\n",
    "plt.ylabel(\"Number of records\")\n",
    "plt.title('Bar plot for type of traces in the dataset*')\n",
    "plt.show"
   ]
  },
  {
   "cell_type": "code",
   "execution_count": 198,
   "id": "460f5910",
   "metadata": {},
   "outputs": [
    {
     "data": {
      "text/plain": [
       "<function matplotlib.pyplot.show(close=None, block=None)>"
      ]
     },
     "execution_count": 198,
     "metadata": {},
     "output_type": "execute_result"
    },
    {
     "data": {
      "image/png": "[encoded data removed]",
      "text/plain": [
       "<Figure size 720x432 with 1 Axes>"
      ]
     },
     "metadata": {
      "needs_background": "light"
     },
     "output_type": "display_data"
    }
   ],
   "source": [
    "plt.figure(figsize=(10,6))\n",
    "\n",
    "plt.bar(types[1:],types_val[1:])\n",
    "plt.xlabel(\"Trace type\")\n",
    "plt.xticks(rotation=90)\n",
    "plt.ylabel(\"Number of records\")\n",
    "plt.title('Bar plot for type of traces in the dataset*')\n",
    "plt.show"
   ]
  },
  {
   "cell_type": "code",
   "execution_count": 199,
   "id": "327e3bbc",
   "metadata": {},
   "outputs": [
    {
     "data": {
      "text/plain": [
       "<function matplotlib.pyplot.show(close=None, block=None)>"
      ]
     },
     "execution_count": 199,
     "metadata": {},
     "output_type": "execute_result"
    },
    {
     "data": {
      "image/png": "[encoded data removed]",
      "text/plain": [
       "<Figure size 720x432 with 1 Axes>"
      ]
     },
     "metadata": {
      "needs_background": "light"
     },
     "output_type": "display_data"
    }
   ],
   "source": [
    "plt.figure(figsize=(10,6))\n",
    "\n",
    "plt.bar(types[2:],types_val[2:])\n",
    "plt.xlabel(\"Trace type\")\n",
    "plt.xticks(rotation=90)\n",
    "plt.ylabel(\"Number of records\")\n",
    "plt.title('Bar plot for type of traces in the dataset*')\n",
    "plt.show"
   ]
  },
  {
   "cell_type": "code",
   "execution_count": null,
   "id": "237b04ee",
   "metadata": {},
   "outputs": [],
   "source": []
  },
  {
   "cell_type": "code",
   "execution_count": 204,
   "id": "fe2ee2c3",
   "metadata": {},
   "outputs": [
    {
     "data": {
      "text/plain": [
       "(36962587, 28)"
      ]
     },
     "execution_count": 204,
     "metadata": {},
     "output_type": "execute_result"
    }
   ],
   "source": [
    "data_df=data_df.drop(columns=['radiotap.mactime','wlan_radio.end_tsf','wlan_radio.start_tsf','wlan_radio.timestamp'])\n",
    "data_df.shape"
   ]
  },
  {
   "cell_type": "code",
   "execution_count": 205,
   "id": "158f67a5",
   "metadata": {},
   "outputs": [
    {
     "data": {
      "text/plain": [
       "Label                                0\n",
       "frame.len                            0\n",
       "frame.number                         0\n",
       "frame.time_delta                     0\n",
       "frame.time_delta_displayed           0\n",
       "frame.time_epoch                     0\n",
       "frame.time_relative                  0\n",
       "radiotap.datarate             17146504\n",
       "radiotap.dbm_antsignal               0\n",
       "radiotap.length                      0\n",
       "radiotap.present.tsft                0\n",
       "radiotap.timestamp.ts                0\n",
       "wlan.duration                       57\n",
       "wlan.fc.ds                           0\n",
       "wlan.fc.frag                         0\n",
       "wlan.fc.moredata                     0\n",
       "wlan.fc.order                        0\n",
       "wlan.fc.protected                    0\n",
       "wlan.fc.pwrmgt                       0\n",
       "wlan.fc.retry                        0\n",
       "wlan.fc.subtype                      0\n",
       "wlan.fc.type                         0\n",
       "wlan.ra                              0\n",
       "wlan.ta                              0\n",
       "wlan_radio.data_rate                 0\n",
       "wlan_radio.duration                  0\n",
       "wlan_radio.phy                       0\n",
       "wlan_radio.signal_dbm                0\n",
       "dtype: int64"
      ]
     },
     "execution_count": 205,
     "metadata": {},
     "output_type": "execute_result"
    }
   ],
   "source": [
    "nan_values5=data_df.isna().sum()\n",
    "nan_values5"
   ]
  },
  {
   "cell_type": "code",
   "execution_count": 206,
   "id": "42240cc1",
   "metadata": {},
   "outputs": [
    {
     "data": {
      "text/plain": [
       "NaN         17146504\n",
       "24.0000     15839489\n",
       "6.0000       1975962\n",
       "12.0000       687641\n",
       "54.0000       647823\n",
       "144.4440      130309\n",
       "72.2222       115256\n",
       "78.0000        82104\n",
       "1.0000         54002\n",
       "39.0000        36192\n",
       "52.0000        34248\n",
       "6.5000         31032\n",
       "104.0000       29629\n",
       "58.5000        27571\n",
       "65.0000        27263\n",
       "130.0000       22552\n",
       "117.0000       15074\n",
       "26.0000         9647\n",
       "86.6667         9584\n",
       "57.7778         8235\n",
       "9.0000          6565\n",
       "19.5000         6190\n",
       "43.3333         4902\n",
       "11.0000         4244\n",
       "115.5560        3950\n",
       "5.5000          2114\n",
       "13.0000         1857\n",
       "18.0000         1185\n",
       "2.0000           564\n",
       "48.0000          507\n",
       "36.0000          351\n",
       "28.8889           41\n",
       "Name: radiotap.datarate, dtype: int64"
      ]
     },
     "execution_count": 206,
     "metadata": {},
     "output_type": "execute_result"
    }
   ],
   "source": [
    "data_df.iloc[:,7].value_counts(dropna=False)\n"
   ]
  },
  {
   "cell_type": "code",
   "execution_count": 207,
   "id": "6a65a386",
   "metadata": {},
   "outputs": [
    {
     "data": {
      "text/plain": [
       "48.0       15672495\n",
       "0.0         3245145\n",
       "158.0       1042258\n",
       "2.0          979000\n",
       "60.0         822765\n",
       "             ...   \n",
       "997.0             1\n",
       "2029.0            1\n",
       "1971.0            1\n",
       "1317.0            1\n",
       "16387.0           1\n",
       "Name: wlan.duration, Length: 4506, dtype: int64"
      ]
     },
     "execution_count": 207,
     "metadata": {},
     "output_type": "execute_result"
    }
   ],
   "source": [
    "data_df.iloc[:,12].value_counts(dropna=False)\n"
   ]
  },
  {
   "cell_type": "code",
   "execution_count": 208,
   "id": "6049f0ec",
   "metadata": {},
   "outputs": [],
   "source": [
    "med_12=data_df.iloc[:,12].median()\n",
    "mean_12=data_df.iloc[:,12].mean()\n",
    "mode_12=data_df.iloc[:,12].mode()"
   ]
  },
  {
   "cell_type": "code",
   "execution_count": 209,
   "id": "a16c5de9",
   "metadata": {},
   "outputs": [
    {
     "name": "stdout",
     "output_type": "stream",
     "text": [
      "48.0 155.1480105934307 48.0\n"
     ]
    }
   ],
   "source": [
    "print(med_12 , mean_12, mode_12.mean())"
   ]
  },
  {
   "cell_type": "code",
   "execution_count": 210,
   "id": "18931fff",
   "metadata": {},
   "outputs": [
    {
     "name": "stdout",
     "output_type": "stream",
     "text": [
      "24.0 24.522860239225537 24.0\n"
     ]
    }
   ],
   "source": [
    "med_7=data_df.iloc[:,7].median()\n",
    "mean_7=data_df.iloc[:,7].mean()\n",
    "mode_7=data_df.iloc[:,7].mode()\n",
    "print(med_7 , mean_7, mode_7.mean())"
   ]
  },
  {
   "cell_type": "code",
   "execution_count": 211,
   "id": "63925d4c",
   "metadata": {},
   "outputs": [],
   "source": [
    "ind = data_df.iloc[:,7].isna()\n",
    "data_df.iloc[ind, 7] = mode_7.mean()"
   ]
  },
  {
   "cell_type": "code",
   "execution_count": 212,
   "id": "fed53cbd",
   "metadata": {},
   "outputs": [],
   "source": [
    "ind = data_df.iloc[:,12].isna()\n",
    "data_df.iloc[ind, 12] = mode_12.mean()"
   ]
  },
  {
   "cell_type": "code",
   "execution_count": 213,
   "id": "2d469acc",
   "metadata": {},
   "outputs": [
    {
     "data": {
      "text/plain": [
       "Label                         0\n",
       "frame.len                     0\n",
       "frame.number                  0\n",
       "frame.time_delta              0\n",
       "frame.time_delta_displayed    0\n",
       "frame.time_epoch              0\n",
       "frame.time_relative           0\n",
       "radiotap.datarate             0\n",
       "radiotap.dbm_antsignal        0\n",
       "radiotap.length               0\n",
       "radiotap.present.tsft         0\n",
       "radiotap.timestamp.ts         0\n",
       "wlan.duration                 0\n",
       "wlan.fc.ds                    0\n",
       "wlan.fc.frag                  0\n",
       "wlan.fc.moredata              0\n",
       "wlan.fc.order                 0\n",
       "wlan.fc.protected             0\n",
       "wlan.fc.pwrmgt                0\n",
       "wlan.fc.retry                 0\n",
       "wlan.fc.subtype               0\n",
       "wlan.fc.type                  0\n",
       "wlan.ra                       0\n",
       "wlan.ta                       0\n",
       "wlan_radio.data_rate          0\n",
       "wlan_radio.duration           0\n",
       "wlan_radio.phy                0\n",
       "wlan_radio.signal_dbm         0\n",
       "dtype: int64"
      ]
     },
     "execution_count": 213,
     "metadata": {},
     "output_type": "execute_result"
    }
   ],
   "source": [
    "nan_values6=data_df.isna().sum()\n",
    "nan_values6"
   ]
  },
  {
   "cell_type": "markdown",
   "id": "354c6142",
   "metadata": {},
   "source": [
    "### Save the file with 28 features"
   ]
  },
  {
   "cell_type": "code",
   "execution_count": 214,
   "id": "f450d54f",
   "metadata": {},
   "outputs": [],
   "source": [
    "data_df.to_csv('AWID3_clean_28.csv',\n",
    "          index = False, \n",
    "          header = True)"
   ]
  },
  {
   "cell_type": "code",
   "execution_count": null,
   "id": "08fd354a",
   "metadata": {},
   "outputs": [],
   "source": []
  },
  {
   "cell_type": "code",
   "execution_count": null,
   "id": "a172db5a",
   "metadata": {},
   "outputs": [],
   "source": []
  },
  {
   "cell_type": "code",
   "execution_count": null,
   "id": "f80287cc",
   "metadata": {},
   "outputs": [],
   "source": []
  },
  {
   "cell_type": "markdown",
   "id": "b89a3418",
   "metadata": {},
   "source": [
    "### Split data and normalize"
   ]
  },
  {
   "cell_type": "code",
   "execution_count": null,
   "id": "f375152f",
   "metadata": {},
   "outputs": [],
   "source": []
  },
  {
   "cell_type": "code",
   "execution_count": null,
   "id": "9c2209ae",
   "metadata": {},
   "outputs": [],
   "source": []
  },
  {
   "cell_type": "code",
   "execution_count": null,
   "id": "eef8a7a1",
   "metadata": {},
   "outputs": [],
   "source": []
  },
  {
   "cell_type": "code",
   "execution_count": null,
   "id": "aca618c0",
   "metadata": {},
   "outputs": [],
   "source": []
  },
  {
   "cell_type": "code",
   "execution_count": null,
   "id": "c38fc7fa",
   "metadata": {},
   "outputs": [],
   "source": []
  },
  {
   "cell_type": "code",
   "execution_count": null,
   "id": "e9b9993a",
   "metadata": {},
   "outputs": [],
   "source": []
  },
  {
   "cell_type": "code",
   "execution_count": null,
   "id": "0a453a3d",
   "metadata": {},
   "outputs": [],
   "source": []
  },
  {
   "cell_type": "code",
   "execution_count": null,
   "id": "271476a6",
   "metadata": {},
   "outputs": [],
   "source": []
  },
  {
   "cell_type": "code",
   "execution_count": null,
   "id": "211a288a",
   "metadata": {},
   "outputs": [],
   "source": []
  }
 ],
 "metadata": {
  "kernelspec": {
   "display_name": "Python 3 (ipykernel)",
   "language": "python",
   "name": "python3"
  },
  "language_info": {
   "codemirror_mode": {
    "name": "ipython",
    "version": 3
   },
   "file_extension": ".py",
   "mimetype": "text/x-python",
   "name": "python",
   "nbconvert_exporter": "python",
   "pygments_lexer": "ipython3",
   "version": "3.9.12"
  }
 },
 "nbformat": 4,
 "nbformat_minor": 5
}
